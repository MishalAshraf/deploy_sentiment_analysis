{
 "cells": [
  {
   "cell_type": "markdown",
   "metadata": {},
   "source": [
    "# Creating a Sentiment Analysis Web App\n",
    "## Using PyTorch and SageMaker\n",
    "\n",
    "_Deep Learning Nanodegree Program | Deployment_\n",
    "\n",
    "---\n",
    "\n",
    "Now that we have a basic understanding of how SageMaker works we will try to use it to construct a complete project from end to end. Our goal will be to have a simple web page which a user can use to enter a movie review. The web page will then send the review off to our deployed model which will predict the sentiment of the entered review.\n",
    "\n",
    "## Instructions\n",
    "\n",
    "Some template code has already been provided for you, and you will need to implement additional functionality to successfully complete this notebook. You will not need to modify the included code beyond what is requested. Sections that begin with '**TODO**' in the header indicate that you need to complete or implement some portion within them. Instructions will be provided for each section and the specifics of the implementation are marked in the code block with a `# TODO: ...` comment. Please be sure to read the instructions carefully!\n",
    "\n",
    "In addition to implementing code, there will be questions for you to answer which relate to the task and your implementation. Each section where you will answer a question is preceded by a '**Question:**' header. Carefully read each question and provide your answer below the '**Answer:**' header by editing the Markdown cell.\n",
    "\n",
    "> **Note**: Code and Markdown cells can be executed using the **Shift+Enter** keyboard shortcut. In addition, a cell can be edited by typically clicking it (double-click for Markdown cells) or by pressing **Enter** while it is highlighted.\n",
    "\n",
    "## General Outline\n",
    "\n",
    "Recall the general outline for SageMaker projects using a notebook instance.\n",
    "\n",
    "1. Download or otherwise retrieve the data.\n",
    "2. Process / Prepare the data.\n",
    "3. Upload the processed data to S3.\n",
    "4. Train a chosen model.\n",
    "5. Test the trained model (typically using a batch transform job).\n",
    "6. Deploy the trained model.\n",
    "7. Use the deployed model.\n",
    "\n",
    "For this project, you will be following the steps in the general outline with some modifications. \n",
    "\n",
    "First, you will not be testing the model in its own step. You will still be testing the model, however, you will do it by deploying your model and then using the deployed model by sending the test data to it. One of the reasons for doing this is so that you can make sure that your deployed model is working correctly before moving forward.\n",
    "\n",
    "In addition, you will deploy and use your trained model a second time. In the second iteration you will customize the way that your trained model is deployed by including some of your own code. In addition, your newly deployed model will be used in the sentiment analysis web app."
   ]
  },
  {
   "cell_type": "markdown",
   "metadata": {},
   "source": [
    "## Step 1: Downloading the data\n",
    "\n",
    "As in the XGBoost in SageMaker notebook, we will be using the [IMDb dataset](http://ai.stanford.edu/~amaas/data/sentiment/)\n",
    "\n",
    "> Maas, Andrew L., et al. [Learning Word Vectors for Sentiment Analysis](http://ai.stanford.edu/~amaas/data/sentiment/). In _Proceedings of the 49th Annual Meeting of the Association for Computational Linguistics: Human Language Technologies_. Association for Computational Linguistics, 2011."
   ]
  },
  {
   "cell_type": "code",
   "execution_count": 4,
   "metadata": {},
   "outputs": [
    {
     "name": "stdout",
     "output_type": "stream",
     "text": [
      "mkdir: cannot create directory ‘../data’: File exists\n",
      "--2019-08-11 18:11:56--  http://ai.stanford.edu/~amaas/data/sentiment/aclImdb_v1.tar.gz\n",
      "Resolving ai.stanford.edu (ai.stanford.edu)... 171.64.68.10\n",
      "Connecting to ai.stanford.edu (ai.stanford.edu)|171.64.68.10|:80... connected.\n",
      "HTTP request sent, awaiting response... 200 OK\n",
      "Length: 84125825 (80M) [application/x-gzip]\n",
      "Saving to: ‘../data/aclImdb_v1.tar.gz’\n",
      "\n",
      "../data/aclImdb_v1. 100%[===================>]  80.23M  43.0MB/s    in 1.9s    \n",
      "\n",
      "2019-08-11 18:11:58 (43.0 MB/s) - ‘../data/aclImdb_v1.tar.gz’ saved [84125825/84125825]\n",
      "\n"
     ]
    }
   ],
   "source": [
    "%mkdir ../data\n",
    "!wget -O ../data/aclImdb_v1.tar.gz http://ai.stanford.edu/~amaas/data/sentiment/aclImdb_v1.tar.gz\n",
    "!tar -zxf ../data/aclImdb_v1.tar.gz -C ../data"
   ]
  },
  {
   "cell_type": "markdown",
   "metadata": {},
   "source": [
    "## Step 2: Preparing and Processing the data\n",
    "\n",
    "Also, as in the XGBoost notebook, we will be doing some initial data processing. The first few steps are the same as in the XGBoost example. To begin with, we will read in each of the reviews and combine them into a single input structure. Then, we will split the dataset into a training set and a testing set."
   ]
  },
  {
   "cell_type": "code",
   "execution_count": 5,
   "metadata": {},
   "outputs": [],
   "source": [
    "import os\n",
    "import glob\n",
    "\n",
    "def read_imdb_data(data_dir='../data/aclImdb'):\n",
    "    data = {}\n",
    "    labels = {}\n",
    "    \n",
    "    for data_type in ['train', 'test']:\n",
    "        data[data_type] = {}\n",
    "        labels[data_type] = {}\n",
    "        \n",
    "        for sentiment in ['pos', 'neg']:\n",
    "            data[data_type][sentiment] = []\n",
    "            labels[data_type][sentiment] = []\n",
    "            \n",
    "            path = os.path.join(data_dir, data_type, sentiment, '*.txt')\n",
    "            files = glob.glob(path)\n",
    "            \n",
    "            for f in files:\n",
    "                with open(f) as review:\n",
    "                    data[data_type][sentiment].append(review.read())\n",
    "                    # Here we represent a positive review by '1' and a negative review by '0'\n",
    "                    labels[data_type][sentiment].append(1 if sentiment == 'pos' else 0)\n",
    "                    \n",
    "            assert len(data[data_type][sentiment]) == len(labels[data_type][sentiment]), \\\n",
    "                    \"{}/{} data size does not match labels size\".format(data_type, sentiment)\n",
    "                \n",
    "    return data, labels"
   ]
  },
  {
   "cell_type": "code",
   "execution_count": 6,
   "metadata": {},
   "outputs": [
    {
     "name": "stdout",
     "output_type": "stream",
     "text": [
      "IMDB reviews: train = 12500 pos / 12500 neg, test = 12500 pos / 12500 neg\n"
     ]
    }
   ],
   "source": [
    "data, labels = read_imdb_data()\n",
    "print(\"IMDB reviews: train = {} pos / {} neg, test = {} pos / {} neg\".format(\n",
    "            len(data['train']['pos']), len(data['train']['neg']),\n",
    "            len(data['test']['pos']), len(data['test']['neg'])))"
   ]
  },
  {
   "cell_type": "markdown",
   "metadata": {},
   "source": [
    "Now that we've read the raw training and testing data from the downloaded dataset, we will combine the positive and negative reviews and shuffle the resulting records."
   ]
  },
  {
   "cell_type": "code",
   "execution_count": 7,
   "metadata": {},
   "outputs": [],
   "source": [
    "from sklearn.utils import shuffle\n",
    "\n",
    "def prepare_imdb_data(data, labels):\n",
    "    \"\"\"Prepare training and test sets from IMDb movie reviews.\"\"\"\n",
    "    \n",
    "    #Combine positive and negative reviews and labels\n",
    "    data_train = data['train']['pos'] + data['train']['neg']\n",
    "    data_test = data['test']['pos'] + data['test']['neg']\n",
    "    labels_train = labels['train']['pos'] + labels['train']['neg']\n",
    "    labels_test = labels['test']['pos'] + labels['test']['neg']\n",
    "    \n",
    "    #Shuffle reviews and corresponding labels within training and test sets\n",
    "    data_train, labels_train = shuffle(data_train, labels_train)\n",
    "    data_test, labels_test = shuffle(data_test, labels_test)\n",
    "    \n",
    "    # Return a unified training data, test data, training labels, test labets\n",
    "    return data_train, data_test, labels_train, labels_test"
   ]
  },
  {
   "cell_type": "code",
   "execution_count": 8,
   "metadata": {},
   "outputs": [
    {
     "name": "stdout",
     "output_type": "stream",
     "text": [
      "IMDb reviews (combined): train = 25000, test = 25000\n"
     ]
    }
   ],
   "source": [
    "train_X, test_X, train_y, test_y = prepare_imdb_data(data, labels)\n",
    "print(\"IMDb reviews (combined): train = {}, test = {}\".format(len(train_X), len(test_X)))"
   ]
  },
  {
   "cell_type": "markdown",
   "metadata": {},
   "source": [
    "Now that we have our training and testing sets unified and prepared, we should do a quick check and see an example of the data our model will be trained on. This is generally a good idea as it allows you to see how each of the further processing steps affects the reviews and it also ensures that the data has been loaded correctly."
   ]
  },
  {
   "cell_type": "code",
   "execution_count": 9,
   "metadata": {},
   "outputs": [
    {
     "name": "stdout",
     "output_type": "stream",
     "text": [
      "Incredibly ARTISTIC NOBODY COULD MAKE THEM NOW I THINK.It seem to be perfect the biggest and the greatest musical ever made listen to the beautiful songs the are quite poetry.I'M Italian AND ADMIRED BY American MUSICAL. why can't you do something like that now?American were the best and for that i absolutely show my devotion to you with this movie.there are words to describes the perfection of this movie. all of a sudden my heart sings, what makes the sunset? i fall in love to easily,jealousy...and the scene with Tom and Jerry. the greatest without reserve. if you you doesn't know your eyes are not open my friends you must see it and appreciate...wake up!\n",
      "1\n"
     ]
    }
   ],
   "source": [
    "print(train_X[100])\n",
    "print(train_y[100])"
   ]
  },
  {
   "cell_type": "markdown",
   "metadata": {},
   "source": [
    "The first step in processing the reviews is to make sure that any html tags that appear should be removed. In addition we wish to tokenize our input, that way words such as *entertained* and *entertaining* are considered the same with regard to sentiment analysis."
   ]
  },
  {
   "cell_type": "code",
   "execution_count": 10,
   "metadata": {},
   "outputs": [],
   "source": [
    "import nltk\n",
    "from nltk.corpus import stopwords\n",
    "from nltk.stem.porter import *\n",
    "\n",
    "import re\n",
    "from bs4 import BeautifulSoup\n",
    "\n",
    "def review_to_words(review):\n",
    "    nltk.download(\"stopwords\", quiet=True)\n",
    "    stemmer = PorterStemmer()\n",
    "    \n",
    "    text = BeautifulSoup(review, \"html.parser\").get_text() # Remove HTML tags\n",
    "    text = re.sub(r\"[^a-zA-Z0-9]\", \" \", text.lower()) # Convert to lower case\n",
    "    words = text.split() # Split string into words\n",
    "    words = [w for w in words if w not in stopwords.words(\"english\")] # Remove stopwords\n",
    "    words = [PorterStemmer().stem(w) for w in words] # stem\n",
    "    \n",
    "    return words"
   ]
  },
  {
   "cell_type": "markdown",
   "metadata": {},
   "source": [
    "The `review_to_words` method defined above uses `BeautifulSoup` to remove any html tags that appear and uses the `nltk` package to tokenize the reviews. As a check to ensure we know how everything is working, try applying `review_to_words` to one of the reviews in the training set."
   ]
  },
  {
   "cell_type": "code",
   "execution_count": 11,
   "metadata": {},
   "outputs": [
    {
     "name": "stdout",
     "output_type": "stream",
     "text": [
      "['incred', 'artist', 'nobodi', 'could', 'make', 'think', 'seem', 'perfect', 'biggest', 'greatest', 'music', 'ever', 'made', 'listen', 'beauti', 'song', 'quit', 'poetri', 'italian', 'admir', 'american', 'music', 'someth', 'like', 'american', 'best', 'absolut', 'show', 'devot', 'movi', 'word', 'describ', 'perfect', 'movi', 'sudden', 'heart', 'sing', 'make', 'sunset', 'fall', 'love', 'easili', 'jealousi', 'scene', 'tom', 'jerri', 'greatest', 'without', 'reserv', 'know', 'eye', 'open', 'friend', 'must', 'see', 'appreci', 'wake']\n"
     ]
    }
   ],
   "source": [
    "# TODO: Apply review_to_words to a review (train_X[100] or any other review)\n",
    "print(review_to_words(train_X[100]))\n"
   ]
  },
  {
   "cell_type": "markdown",
   "metadata": {},
   "source": [
    "**Question:** Above we mentioned that `review_to_words` method removes html formatting and allows us to tokenize the words found in a review, for example, converting *entertained* and *entertaining* into *entertain* so that they are treated as though they are the same word. What else, if anything, does this method do to the input?"
   ]
  },
  {
   "cell_type": "markdown",
   "metadata": {},
   "source": [
    "**Answer:** The goal of this method is to convert the raw review into data that is easy to compare. Beyond what was discussed above, the function also converts the words to lower case, and removes punctuation elements. This is important to make the reviews comparable for words at the beggining and end of a sentence. (\"wonderful\" and \"wonderful.\" should be treated the same, as should \"Film\" and \"film\"). \n",
    "\n",
    "One issue I see with this is that punctuation and capitalization may hold meaning. \"I HATE THIS!!!!!!!!!!\" and \"I hate this\" should perhaps not be interpretted at the same strength. Using a tokenizer similar to that used in the RNN assignment may be useful here.\n",
    "\n",
    "However, on balance I see that it is more important to be able to generate similarity between reviews for comparison and model training, and also to reduce the required vocabulary size (it is impractical to treat \"hate\" \"HATE\" and \"HaTe\" as different words, as our vocabulary could increase by n! in size.\n",
    "\n",
    "Lastly, the function removes words in the review that do not add meaning like \"the\", \"in\", \"of\", etc."
   ]
  },
  {
   "cell_type": "markdown",
   "metadata": {},
   "source": [
    "The method below applies the `review_to_words` method to each of the reviews in the training and testing datasets. In addition it caches the results. This is because performing this processing step can take a long time. This way if you are unable to complete the notebook in the current session, you can come back without needing to process the data a second time."
   ]
  },
  {
   "cell_type": "code",
   "execution_count": 12,
   "metadata": {},
   "outputs": [],
   "source": [
    "import pickle\n",
    "\n",
    "cache_dir = os.path.join(\"../cache\", \"sentiment_analysis\")  # where to store cache files\n",
    "os.makedirs(cache_dir, exist_ok=True)  # ensure cache directory exists\n",
    "\n",
    "def preprocess_data(data_train, data_test, labels_train, labels_test,\n",
    "                    cache_dir=cache_dir, cache_file=\"preprocessed_data.pkl\"):\n",
    "    \"\"\"Convert each review to words; read from cache if available.\"\"\"\n",
    "\n",
    "    # If cache_file is not None, try to read from it first\n",
    "    cache_data = None\n",
    "    if cache_file is not None:\n",
    "        try:\n",
    "            with open(os.path.join(cache_dir, cache_file), \"rb\") as f:\n",
    "                cache_data = pickle.load(f)\n",
    "            print(\"Read preprocessed data from cache file:\", cache_file)\n",
    "        except:\n",
    "            pass  # unable to read from cache, but that's okay\n",
    "    \n",
    "    # If cache is missing, then do the heavy lifting\n",
    "    if cache_data is None:\n",
    "        # Preprocess training and test data to obtain words for each review\n",
    "        #words_train = list(map(review_to_words, data_train))\n",
    "        #words_test = list(map(review_to_words, data_test))\n",
    "        words_train = [review_to_words(review) for review in data_train]\n",
    "        words_test = [review_to_words(review) for review in data_test]\n",
    "        \n",
    "        # Write to cache file for future runs\n",
    "        if cache_file is not None:\n",
    "            cache_data = dict(words_train=words_train, words_test=words_test,\n",
    "                              labels_train=labels_train, labels_test=labels_test)\n",
    "            with open(os.path.join(cache_dir, cache_file), \"wb\") as f:\n",
    "                pickle.dump(cache_data, f)\n",
    "            print(\"Wrote preprocessed data to cache file:\", cache_file)\n",
    "    else:\n",
    "        # Unpack data loaded from cache file\n",
    "        words_train, words_test, labels_train, labels_test = (cache_data['words_train'],\n",
    "                cache_data['words_test'], cache_data['labels_train'], cache_data['labels_test'])\n",
    "    \n",
    "    return words_train, words_test, labels_train, labels_test"
   ]
  },
  {
   "cell_type": "code",
   "execution_count": 13,
   "metadata": {},
   "outputs": [
    {
     "name": "stdout",
     "output_type": "stream",
     "text": [
      "Read preprocessed data from cache file: preprocessed_data.pkl\n"
     ]
    }
   ],
   "source": [
    "# Preprocess data\n",
    "train_X, test_X, train_y, test_y = preprocess_data(train_X, test_X, train_y, test_y)"
   ]
  },
  {
   "cell_type": "markdown",
   "metadata": {},
   "source": [
    "## Transform the data\n",
    "\n",
    "In the XGBoost notebook we transformed the data from its word representation to a bag-of-words feature representation. For the model we are going to construct in this notebook we will construct a feature representation which is very similar. To start, we will represent each word as an integer. Of course, some of the words that appear in the reviews occur very infrequently and so likely don't contain much information for the purposes of sentiment analysis. The way we will deal with this problem is that we will fix the size of our working vocabulary and we will only include the words that appear most frequently. We will then combine all of the infrequent words into a single category and, in our case, we will label it as `1`.\n",
    "\n",
    "Since we will be using a recurrent neural network, it will be convenient if the length of each review is the same. To do this, we will fix a size for our reviews and then pad short reviews with the category 'no word' (which we will label `0`) and truncate long reviews."
   ]
  },
  {
   "cell_type": "markdown",
   "metadata": {},
   "source": [
    "### (TODO) Create a word dictionary\n",
    "\n",
    "To begin with, we need to construct a way to map words that appear in the reviews to integers. Here we fix the size of our vocabulary (including the 'no word' and 'infrequent' categories) to be `5000` but you may wish to change this to see how it affects the model.\n",
    "\n",
    "> **TODO:** Complete the implementation for the `build_dict()` method below. Note that even though the vocab_size is set to `5000`, we only want to construct a mapping for the most frequently appearing `4998` words. This is because we want to reserve the special labels `0` for 'no word' and `1` for 'infrequent word'."
   ]
  },
  {
   "cell_type": "code",
   "execution_count": 14,
   "metadata": {},
   "outputs": [],
   "source": [
    "import numpy as np\n",
    "\n",
    "def build_dict(data, vocab_size = 5000):\n",
    "    \"\"\"Construct and return a dictionary mapping each of the most frequently appearing words to a unique integer.\"\"\"\n",
    "    \n",
    "    # TODO: Determine how often each word appears in `data`. Note that `data` is a list of sentences and that a\n",
    "    #       sentence is a list of words.\n",
    "    word_count = {}\n",
    "    test_dict = {}\n",
    "    for sent in data:\n",
    "        for word in sent:\n",
    "            if word in test_dict:\n",
    "                test_dict[word] += 1\n",
    "            else:\n",
    "                test_dict[word] = 1\n",
    "                \n",
    "    test_sort = []\n",
    "    for key, value in sorted(test_dict.items(), key = lambda item: item[1], reverse = True):\n",
    "        test_sort.append(key)\n",
    "    \n",
    "    word_dict = {} # This is what we are building, a dictionary that translates words into integers\n",
    "    for idx, word in enumerate(test_sort[:vocab_size - 2]): # The -2 is so that we save room for the 'no word'\n",
    "        word_dict[word] = idx + 2                              # 'infrequent' labels\n",
    "        \n",
    "    return word_dict"
   ]
  },
  {
   "cell_type": "code",
   "execution_count": 15,
   "metadata": {},
   "outputs": [],
   "source": [
    "word_dict = build_dict(train_X)"
   ]
  },
  {
   "cell_type": "markdown",
   "metadata": {},
   "source": [
    "**Question:** What are the five most frequently appearing (tokenized) words in the training set? Does it makes sense that these words appear frequently in the training set?"
   ]
  },
  {
   "cell_type": "code",
   "execution_count": 16,
   "metadata": {},
   "outputs": [
    {
     "name": "stdout",
     "output_type": "stream",
     "text": [
      "{'movi': 2, 'film': 3, 'one': 4, 'like': 5, 'time': 6, 'good': 7, 'make': 8, 'charact': 9, 'get': 10, 'see': 11, 'watch': 12, 'stori': 13, 'even': 14, 'would': 15, 'realli': 16, 'well': 17, 'scene': 18, 'look': 19, 'show': 20, 'much': 21, 'end': 22, 'peopl': 23, 'bad': 24, 'go': 25, 'great': 26, 'also': 27, 'first': 28, 'love': 29, 'think': 30, 'way': 31, 'act': 32, 'play': 33, 'made': 34, 'thing': 35, 'could': 36, 'know': 37, 'say': 38, 'seem': 39, 'work': 40, 'plot': 41, 'two': 42, 'actor': 43, 'year': 44, 'come': 45, 'mani': 46, 'seen': 47, 'take': 48, 'want': 49, 'life': 50, 'never': 51, 'littl': 52, 'best': 53, 'tri': 54, 'man': 55, 'ever': 56, 'give': 57, 'better': 58, 'still': 59, 'perform': 60, 'find': 61, 'feel': 62, 'part': 63, 'back': 64, 'use': 65, 'someth': 66, 'director': 67, 'actual': 68, 'interest': 69, 'lot': 70, 'real': 71, 'old': 72, 'cast': 73, 'though': 74, 'live': 75, 'star': 76, 'enjoy': 77, 'guy': 78, 'anoth': 79, 'new': 80, 'role': 81, 'noth': 82, '10': 83, 'funni': 84, 'music': 85, 'point': 86, 'start': 87, 'set': 88, 'girl': 89, 'origin': 90, 'day': 91, 'world': 92, 'everi': 93, 'believ': 94, 'turn': 95, 'quit': 96, 'direct': 97, 'us': 98, 'thought': 99, 'fact': 100, 'minut': 101, 'horror': 102, 'kill': 103, 'action': 104, 'comedi': 105, 'pretti': 106, 'young': 107, 'wonder': 108, 'happen': 109, 'around': 110, 'got': 111, 'effect': 112, 'right': 113, 'long': 114, 'howev': 115, 'big': 116, 'line': 117, 'famili': 118, 'enough': 119, 'seri': 120, 'may': 121, 'need': 122, 'fan': 123, 'bit': 124, 'script': 125, 'beauti': 126, 'person': 127, 'becom': 128, 'without': 129, 'must': 130, 'alway': 131, 'friend': 132, 'tell': 133, 'reason': 134, 'saw': 135, 'last': 136, 'final': 137, 'kid': 138, 'almost': 139, 'put': 140, 'least': 141, 'sure': 142, 'done': 143, 'whole': 144, 'place': 145, 'complet': 146, 'kind': 147, 'differ': 148, 'expect': 149, 'shot': 150, 'far': 151, 'mean': 152, 'anyth': 153, 'book': 154, 'laugh': 155, 'might': 156, 'name': 157, 'sinc': 158, 'begin': 159, '2': 160, 'probabl': 161, 'woman': 162, 'help': 163, 'entertain': 164, 'let': 165, 'screen': 166, 'call': 167, 'tv': 168, 'moment': 169, 'away': 170, 'read': 171, 'yet': 172, 'rather': 173, 'worst': 174, 'run': 175, 'fun': 176, 'lead': 177, 'hard': 178, 'audienc': 179, 'idea': 180, 'anyon': 181, 'episod': 182, 'american': 183, 'found': 184, 'appear': 185, 'bore': 186, 'especi': 187, 'although': 188, 'hope': 189, 'cours': 190, 'keep': 191, 'anim': 192, 'job': 193, 'goe': 194, 'move': 195, 'sens': 196, 'dvd': 197, 'version': 198, 'war': 199, 'money': 200, 'someon': 201, 'mind': 202, 'mayb': 203, 'problem': 204, 'true': 205, 'hous': 206, 'everyth': 207, 'nice': 208, 'second': 209, 'rate': 210, 'three': 211, 'night': 212, 'follow': 213, 'face': 214, 'recommend': 215, 'main': 216, 'product': 217, 'worth': 218, 'leav': 219, 'human': 220, 'special': 221, 'excel': 222, 'togeth': 223, 'wast': 224, 'sound': 225, 'everyon': 226, 'john': 227, 'hand': 228, '1': 229, 'father': 230, 'later': 231, 'eye': 232, 'said': 233, 'view': 234, 'instead': 235, 'review': 236, 'boy': 237, 'high': 238, 'hour': 239, 'miss': 240, 'classic': 241, 'talk': 242, 'wife': 243, 'understand': 244, 'left': 245, 'care': 246, 'black': 247, 'death': 248, 'open': 249, 'murder': 250, 'write': 251, 'half': 252, 'head': 253, 'rememb': 254, 'chang': 255, 'viewer': 256, 'fight': 257, 'gener': 258, 'surpris': 259, 'short': 260, 'includ': 261, 'die': 262, 'fall': 263, 'less': 264, 'els': 265, 'entir': 266, 'piec': 267, 'involv': 268, 'pictur': 269, 'simpli': 270, 'top': 271, 'home': 272, 'power': 273, 'total': 274, 'usual': 275, 'budget': 276, 'attempt': 277, 'suppos': 278, 'releas': 279, 'hollywood': 280, 'terribl': 281, 'song': 282, 'men': 283, 'possibl': 284, 'featur': 285, 'portray': 286, 'disappoint': 287, 'poor': 288, '3': 289, 'coupl': 290, 'stupid': 291, 'camera': 292, 'dead': 293, 'wrong': 294, 'low': 295, 'produc': 296, 'either': 297, 'video': 298, 'aw': 299, 'definit': 300, 'except': 301, 'rest': 302, 'given': 303, 'absolut': 304, 'women': 305, 'lack': 306, 'word': 307, 'writer': 308, 'titl': 309, 'talent': 310, 'decid': 311, 'full': 312, 'perfect': 313, 'along': 314, 'style': 315, 'close': 316, 'truli': 317, 'school': 318, 'save': 319, 'emot': 320, 'age': 321, 'sex': 322, 'next': 323, 'bring': 324, 'mr': 325, 'case': 326, 'killer': 327, 'heart': 328, 'comment': 329, 'sort': 330, 'creat': 331, 'perhap': 332, 'came': 333, 'brother': 334, 'sever': 335, 'joke': 336, 'art': 337, 'dialogu': 338, 'game': 339, 'small': 340, 'base': 341, 'flick': 342, 'written': 343, 'sequenc': 344, 'meet': 345, 'earli': 346, 'often': 347, 'other': 348, 'mother': 349, 'develop': 350, 'humor': 351, 'actress': 352, 'consid': 353, 'dark': 354, 'guess': 355, 'amaz': 356, 'unfortun': 357, 'light': 358, 'lost': 359, 'exampl': 360, 'cinema': 361, 'drama': 362, 'white': 363, 'ye': 364, 'experi': 365, 'imagin': 366, 'mention': 367, 'stop': 368, 'natur': 369, 'forc': 370, 'manag': 371, 'felt': 372, 'cut': 373, 'present': 374, 'children': 375, 'fail': 376, 'son': 377, 'car': 378, 'qualiti': 379, 'support': 380, 'ask': 381, 'hit': 382, 'side': 383, 'voic': 384, 'extrem': 385, 'impress': 386, 'evil': 387, 'wors': 388, 'stand': 389, 'went': 390, 'certainli': 391, 'basic': 392, 'oh': 393, 'overal': 394, 'favorit': 395, 'horribl': 396, 'mysteri': 397, 'number': 398, 'type': 399, 'danc': 400, 'wait': 401, 'hero': 402, 'alreadi': 403, '5': 404, 'learn': 405, 'matter': 406, '4': 407, 'michael': 408, 'genr': 409, 'fine': 410, 'despit': 411, 'throughout': 412, 'walk': 413, 'success': 414, 'histori': 415, 'question': 416, 'zombi': 417, 'town': 418, 'realiz': 419, 'relationship': 420, 'past': 421, 'child': 422, 'daughter': 423, 'late': 424, 'b': 425, 'wish': 426, 'credit': 427, 'hate': 428, 'event': 429, 'theme': 430, 'touch': 431, 'citi': 432, 'today': 433, 'sometim': 434, 'behind': 435, 'god': 436, 'twist': 437, 'sit': 438, 'deal': 439, 'stay': 440, 'annoy': 441, 'abl': 442, 'rent': 443, 'pleas': 444, 'edit': 445, 'blood': 446, 'deserv': 447, 'comic': 448, 'anyway': 449, 'appar': 450, 'soon': 451, 'gave': 452, 'etc': 453, 'level': 454, 'slow': 455, 'chanc': 456, 'score': 457, 'bodi': 458, 'brilliant': 459, 'incred': 460, 'figur': 461, 'situat': 462, 'major': 463, 'self': 464, 'stuff': 465, 'decent': 466, 'element': 467, 'dream': 468, 'return': 469, 'obvious': 470, 'continu': 471, 'order': 472, 'pace': 473, 'ridicul': 474, 'happi': 475, 'highli': 476, 'add': 477, 'group': 478, 'thank': 479, 'ladi': 480, 'novel': 481, 'speak': 482, 'pain': 483, 'career': 484, 'shoot': 485, 'strang': 486, 'heard': 487, 'sad': 488, 'husband': 489, 'polic': 490, 'import': 491, 'break': 492, 'took': 493, 'cannot': 494, 'strong': 495, 'predict': 496, 'robert': 497, 'violenc': 498, 'hilari': 499, 'recent': 500, 'countri': 501, 'known': 502, 'particularli': 503, 'pick': 504, 'documentari': 505, 'season': 506, 'critic': 507, 'jame': 508, 'compar': 509, 'obviou': 510, 'alon': 511, 'told': 512, 'state': 513, 'visual': 514, 'rock': 515, 'exist': 516, 'theater': 517, 'offer': 518, 'opinion': 519, 'gore': 520, 'hold': 521, 'crap': 522, 'result': 523, 'hear': 524, 'room': 525, 'realiti': 526, 'clich': 527, 'effort': 528, 'thriller': 529, 'caus': 530, 'sequel': 531, 'serious': 532, 'explain': 533, 'king': 534, 'local': 535, 'ago': 536, 'none': 537, 'hell': 538, 'note': 539, 'allow': 540, 'sister': 541, 'david': 542, 'simpl': 543, 'femal': 544, 'deliv': 545, 'ok': 546, 'class': 547, 'convinc': 548, 'check': 549, 'suspens': 550, 'win': 551, 'buy': 552, 'oscar': 553, 'huge': 554, 'valu': 555, 'sexual': 556, 'scari': 557, 'cool': 558, 'similar': 559, 'excit': 560, 'provid': 561, 'exactli': 562, 'apart': 563, 'avoid': 564, 'shown': 565, 'seriou': 566, 'english': 567, 'whose': 568, 'taken': 569, 'cinematographi': 570, 'shock': 571, 'polit': 572, 'spoiler': 573, 'offic': 574, 'across': 575, 'middl': 576, 'pass': 577, 'street': 578, 'messag': 579, 'somewhat': 580, 'silli': 581, 'charm': 582, 'modern': 583, 'confus': 584, 'filmmak': 585, 'form': 586, 'tale': 587, 'singl': 588, 'jack': 589, 'mostli': 590, 'william': 591, 'attent': 592, 'carri': 593, 'sing': 594, 'five': 595, 'subject': 596, 'richard': 597, 'prove': 598, 'stage': 599, 'team': 600, 'cop': 601, 'unlik': 602, 'georg': 603, 'monster': 604, 'televis': 605, 'earth': 606, 'villain': 607, 'cover': 608, 'pay': 609, 'marri': 610, 'toward': 611, 'build': 612, 'parent': 613, 'pull': 614, 'due': 615, 'fill': 616, 'respect': 617, 'four': 618, 'dialog': 619, 'remind': 620, 'futur': 621, 'typic': 622, 'weak': 623, '7': 624, 'cheap': 625, 'intellig': 626, 'atmospher': 627, 'british': 628, '80': 629, 'clearli': 630, 'dog': 631, 'non': 632, 'paul': 633, 'artist': 634, 'fast': 635, '8': 636, 'knew': 637, 'crime': 638, 'easili': 639, 'escap': 640, 'doubt': 641, 'adult': 642, 'detail': 643, 'date': 644, 'romant': 645, 'fire': 646, 'member': 647, 'gun': 648, 'drive': 649, 'straight': 650, 'fit': 651, 'beyond': 652, 'attack': 653, 'imag': 654, 'upon': 655, 'posit': 656, 'whether': 657, 'peter': 658, 'fantast': 659, 'captur': 660, 'appreci': 661, 'aspect': 662, 'ten': 663, 'plan': 664, 'discov': 665, 'remain': 666, 'near': 667, 'period': 668, 'realist': 669, 'air': 670, 'mark': 671, 'red': 672, 'dull': 673, 'adapt': 674, 'within': 675, 'lose': 676, 'spend': 677, 'materi': 678, 'color': 679, 'chase': 680, 'mari': 681, 'storylin': 682, 'forget': 683, 'bunch': 684, 'clear': 685, 'lee': 686, 'victim': 687, 'nearli': 688, 'box': 689, 'york': 690, 'match': 691, 'inspir': 692, 'mess': 693, 'finish': 694, 'standard': 695, 'easi': 696, 'truth': 697, 'busi': 698, 'suffer': 699, 'dramat': 700, 'bill': 701, 'space': 702, 'western': 703, 'e': 704, 'list': 705, 'battl': 706, 'notic': 707, 'de': 708, 'french': 709, 'ad': 710, '9': 711, 'tom': 712, 'larg': 713, 'among': 714, 'eventu': 715, 'train': 716, 'accept': 717, 'agre': 718, 'soundtrack': 719, 'spirit': 720, 'third': 721, 'teenag': 722, 'adventur': 723, 'soldier': 724, 'famou': 725, 'drug': 726, 'suggest': 727, 'sorri': 728, 'babi': 729, 'cri': 730, 'normal': 731, 'ultim': 732, 'troubl': 733, 'contain': 734, 'certain': 735, 'cultur': 736, 'romanc': 737, 'rare': 738, 'lame': 739, 'somehow': 740, 'mix': 741, 'disney': 742, 'gone': 743, 'cartoon': 744, 'student': 745, 'reveal': 746, 'fear': 747, 'kept': 748, 'suck': 749, 'attract': 750, 'appeal': 751, 'premis': 752, 'secret': 753, 'greatest': 754, 'design': 755, 'shame': 756, 'throw': 757, 'copi': 758, 'scare': 759, 'wit': 760, 'admit': 761, 'america': 762, 'particular': 763, 'brought': 764, 'relat': 765, 'screenplay': 766, 'whatev': 767, 'pure': 768, '70': 769, 'averag': 770, 'harri': 771, 'master': 772, 'describ': 773, 'male': 774, 'treat': 775, '20': 776, 'issu': 777, 'fantasi': 778, 'warn': 779, 'inde': 780, 'background': 781, 'forward': 782, 'project': 783, 'free': 784, 'memor': 785, 'japanes': 786, 'poorli': 787, 'award': 788, 'locat': 789, 'potenti': 790, 'amus': 791, 'struggl': 792, 'weird': 793, 'magic': 794, 'societi': 795, 'okay': 796, 'accent': 797, 'imdb': 798, 'doctor': 799, 'hot': 800, 'water': 801, '30': 802, 'alien': 803, 'express': 804, 'dr': 805, 'odd': 806, 'crazi': 807, 'choic': 808, 'fiction': 809, 'studio': 810, 'becam': 811, 'control': 812, 'masterpiec': 813, 'fli': 814, 'difficult': 815, 'joe': 816, 'scream': 817, 'costum': 818, 'lover': 819, 'refer': 820, 'uniqu': 821, 'remak': 822, 'vampir': 823, 'girlfriend': 824, 'prison': 825, 'execut': 826, 'wear': 827, 'jump': 828, 'unless': 829, 'wood': 830, 'creepi': 831, 'cheesi': 832, 'superb': 833, 'otherwis': 834, 'parti': 835, 'roll': 836, 'ghost': 837, 'mad': 838, 'public': 839, 'depict': 840, 'badli': 841, 'earlier': 842, 'moral': 843, 'week': 844, 'jane': 845, 'fi': 846, 'dumb': 847, 'flaw': 848, 'grow': 849, 'sci': 850, 'deep': 851, 'cat': 852, 'maker': 853, 'connect': 854, 'older': 855, 'footag': 856, 'plenti': 857, 'bother': 858, 'outsid': 859, 'stick': 860, 'gay': 861, 'catch': 862, 'co': 863, 'plu': 864, 'popular': 865, 'equal': 866, 'social': 867, 'disturb': 868, 'quickli': 869, 'perfectli': 870, 'dress': 871, 'era': 872, '90': 873, 'mistak': 874, 'lie': 875, 'ride': 876, 'previou': 877, 'combin': 878, 'concept': 879, 'band': 880, 'answer': 881, 'surviv': 882, 'rich': 883, 'front': 884, 'sweet': 885, 'christma': 886, 'insid': 887, 'bare': 888, 'concern': 889, 'eat': 890, 'ben': 891, 'beat': 892, 'listen': 893, 'c': 894, 'serv': 895, 'term': 896, 'meant': 897, 'german': 898, 'la': 899, 'hardli': 900, 'stereotyp': 901, 'law': 902, 'innoc': 903, 'desper': 904, 'promis': 905, 'memori': 906, 'intent': 907, 'cute': 908, 'steal': 909, 'inform': 910, 'variou': 911, 'brain': 912, 'post': 913, 'tone': 914, 'island': 915, 'amount': 916, 'compani': 917, 'track': 918, 'nuditi': 919, 'store': 920, 'claim': 921, 'flat': 922, '50': 923, 'hair': 924, 'land': 925, 'univers': 926, 'kick': 927, 'fairli': 928, 'scott': 929, 'danger': 930, 'player': 931, 'step': 932, 'plain': 933, 'crew': 934, 'toni': 935, 'share': 936, 'centuri': 937, 'tast': 938, 'engag': 939, 'achiev': 940, 'travel': 941, 'cold': 942, 'record': 943, 'rip': 944, 'suit': 945, 'sadli': 946, 'manner': 947, 'wrote': 948, 'tension': 949, 'spot': 950, 'intens': 951, 'fascin': 952, 'familiar': 953, 'remark': 954, 'depth': 955, 'burn': 956, 'destroy': 957, 'histor': 958, 'sleep': 959, 'purpos': 960, 'languag': 961, 'ruin': 962, 'ignor': 963, 'delight': 964, 'italian': 965, 'unbeliev': 966, 'collect': 967, 'abil': 968, 'soul': 969, 'detect': 970, 'clever': 971, 'violent': 972, 'rape': 973, 'reach': 974, 'door': 975, 'scienc': 976, 'trash': 977, 'liter': 978, 'caught': 979, 'reveng': 980, 'commun': 981, 'creatur': 982, 'trip': 983, 'approach': 984, 'fashion': 985, 'intrigu': 986, 'introduc': 987, 'skill': 988, 'paint': 989, 'complex': 990, 'channel': 991, 'camp': 992, 'christian': 993, 'extra': 994, 'hole': 995, 'immedi': 996, 'mental': 997, 'limit': 998, 'ann': 999, 'slightli': 1000, '6': 1001, 'million': 1002, 'mere': 1003, 'comput': 1004, 'conclus': 1005, 'slasher': 1006, 'suddenli': 1007, 'imposs': 1008, 'crimin': 1009, 'teen': 1010, 'neither': 1011, 'spent': 1012, 'nation': 1013, 'physic': 1014, 'respons': 1015, 'planet': 1016, 'fake': 1017, 'receiv': 1018, 'blue': 1019, 'sick': 1020, 'bizarr': 1021, 'embarrass': 1022, 'indian': 1023, '15': 1024, 'ring': 1025, 'drop': 1026, 'pop': 1027, 'drag': 1028, 'haunt': 1029, 'suspect': 1030, 'pointless': 1031, 'edg': 1032, 'search': 1033, 'handl': 1034, 'biggest': 1035, 'common': 1036, 'hurt': 1037, 'arriv': 1038, 'faith': 1039, 'technic': 1040, 'angel': 1041, 'genuin': 1042, 'dad': 1043, 'solid': 1044, 'f': 1045, 'awesom': 1046, 'focu': 1047, 'colleg': 1048, 'former': 1049, 'van': 1050, 'count': 1051, 'heavi': 1052, 'tear': 1053, 'wall': 1054, 'rais': 1055, 'laughabl': 1056, 'visit': 1057, 'younger': 1058, 'fair': 1059, 'sign': 1060, 'excus': 1061, 'cult': 1062, 'motion': 1063, 'key': 1064, 'tough': 1065, 'desir': 1066, 'super': 1067, 'addit': 1068, 'stun': 1069, 'cloth': 1070, 'exploit': 1071, 'smith': 1072, 'tortur': 1073, 'race': 1074, 'davi': 1075, 'author': 1076, 'cross': 1077, 'jim': 1078, 'minor': 1079, 'focus': 1080, 'compel': 1081, 'consist': 1082, 'pathet': 1083, 'chemistri': 1084, 'commit': 1085, 'park': 1086, 'tradit': 1087, 'obsess': 1088, 'frank': 1089, 'grade': 1090, '60': 1091, 'asid': 1092, 'brutal': 1093, 'somewher': 1094, 'steve': 1095, 'u': 1096, 'explor': 1097, 'rule': 1098, 'opportun': 1099, 'grant': 1100, 'depress': 1101, 'besid': 1102, 'honest': 1103, 'anti': 1104, 'dub': 1105, 'trailer': 1106, 'intend': 1107, 'bar': 1108, 'regard': 1109, 'west': 1110, 'scientist': 1111, 'longer': 1112, 'judg': 1113, 'decad': 1114, 'silent': 1115, 'creativ': 1116, 'armi': 1117, 'wild': 1118, 'south': 1119, 'g': 1120, 'stewart': 1121, 'draw': 1122, 'road': 1123, 'govern': 1124, 'boss': 1125, 'ex': 1126, 'practic': 1127, 'festiv': 1128, 'gang': 1129, 'surprisingli': 1130, 'club': 1131, 'motiv': 1132, 'london': 1133, 'page': 1134, 'redeem': 1135, 'green': 1136, 'machin': 1137, 'display': 1138, 'aliv': 1139, 'militari': 1140, 'idiot': 1141, 'thrill': 1142, 'repeat': 1143, '100': 1144, 'yeah': 1145, 'folk': 1146, 'nobodi': 1147, '40': 1148, 'garbag': 1149, 'journey': 1150, 'smile': 1151, 'tire': 1152, 'ground': 1153, 'bought': 1154, 'mood': 1155, 'stone': 1156, 'cost': 1157, 'sam': 1158, 'noir': 1159, 'mouth': 1160, 'agent': 1161, 'terrif': 1162, 'requir': 1163, 'utterli': 1164, 'sexi': 1165, 'honestli': 1166, 'area': 1167, 'report': 1168, 'geniu': 1169, 'enter': 1170, 'humour': 1171, 'glad': 1172, 'investig': 1173, 'serial': 1174, 'passion': 1175, 'occasion': 1176, 'narr': 1177, 'climax': 1178, 'marriag': 1179, 'studi': 1180, 'industri': 1181, 'center': 1182, 'ship': 1183, 'charli': 1184, 'nowher': 1185, 'demon': 1186, 'loos': 1187, 'bear': 1188, 'hors': 1189, 'wow': 1190, 'hang': 1191, 'graphic': 1192, 'admir': 1193, 'giant': 1194, 'send': 1195, 'damn': 1196, 'loud': 1197, 'nake': 1198, 'rel': 1199, 'profession': 1200, 'subtl': 1201, 'blow': 1202, 'bottom': 1203, 'batman': 1204, 'insult': 1205, 'boyfriend': 1206, 'kelli': 1207, 'r': 1208, 'doubl': 1209, 'initi': 1210, 'frame': 1211, 'opera': 1212, 'gem': 1213, 'challeng': 1214, 'drawn': 1215, 'affect': 1216, 'cinemat': 1217, 'church': 1218, 'fulli': 1219, 'l': 1220, 'evid': 1221, 'nightmar': 1222, 'seek': 1223, 'j': 1224, 'essenti': 1225, 'arm': 1226, 'conflict': 1227, 'grace': 1228, 'wind': 1229, 'henri': 1230, 'christoph': 1231, 'assum': 1232, 'witch': 1233, 'narrat': 1234, 'push': 1235, 'hunt': 1236, 'wise': 1237, 'chri': 1238, 'month': 1239, 'repres': 1240, 'nomin': 1241, 'affair': 1242, 'hide': 1243, 'sceneri': 1244, 'avail': 1245, 'justic': 1246, 'thu': 1247, 'smart': 1248, 'bond': 1249, 'flashback': 1250, 'interview': 1251, 'outstand': 1252, 'presenc': 1253, 'satisfi': 1254, 'constantli': 1255, 'central': 1256, 'bed': 1257, 'iron': 1258, 'sell': 1259, 'content': 1260, 'everybodi': 1261, 'gag': 1262, 'hotel': 1263, 'slowli': 1264, 'hire': 1265, 'system': 1266, 'charl': 1267, 'hey': 1268, 'thrown': 1269, 'individu': 1270, 'adam': 1271, 'jone': 1272, 'mediocr': 1273, 'allen': 1274, 'billi': 1275, 'lesson': 1276, 'ray': 1277, 'cameo': 1278, 'photographi': 1279, 'pari': 1280, 'fellow': 1281, 'strike': 1282, 'absurd': 1283, 'independ': 1284, 'rise': 1285, 'brief': 1286, 'neg': 1287, 'phone': 1288, 'impact': 1289, 'ill': 1290, 'model': 1291, 'born': 1292, 'fresh': 1293, 'spoil': 1294, 'angl': 1295, 'likabl': 1296, 'abus': 1297, 'discuss': 1298, 'hill': 1299, 'ahead': 1300, 'sight': 1301, 'sent': 1302, 'photograph': 1303, 'shine': 1304, 'logic': 1305, 'blame': 1306, 'occur': 1307, 'bruce': 1308, 'mainli': 1309, 'forev': 1310, 'skip': 1311, 'commerci': 1312, 'teacher': 1313, 'surround': 1314, 'held': 1315, 'segment': 1316, 'zero': 1317, 'blond': 1318, 'resembl': 1319, 'satir': 1320, 'summer': 1321, 'trap': 1322, 'queen': 1323, 'six': 1324, 'fool': 1325, 'ball': 1326, 'tragedi': 1327, 'twice': 1328, 'sub': 1329, 'reaction': 1330, 'pack': 1331, 'bomb': 1332, 'protagonist': 1333, 'hospit': 1334, 'will': 1335, 'sport': 1336, 'mile': 1337, 'vote': 1338, 'mom': 1339, 'drink': 1340, 'trust': 1341, 'jerri': 1342, 'encount': 1343, 'plane': 1344, 'al': 1345, 'current': 1346, 'program': 1347, 'station': 1348, 'martin': 1349, 'celebr': 1350, 'choos': 1351, 'join': 1352, 'tragic': 1353, 'lord': 1354, 'favourit': 1355, 'round': 1356, 'field': 1357, 'vision': 1358, 'jean': 1359, 'robot': 1360, 'tie': 1361, 'arthur': 1362, 'fortun': 1363, 'roger': 1364, 'random': 1365, 'intern': 1366, 'dread': 1367, 'psycholog': 1368, 'nonsens': 1369, 'prefer': 1370, 'improv': 1371, 'epic': 1372, 'highlight': 1373, 'legend': 1374, 'pleasur': 1375, 'formula': 1376, 'tape': 1377, 'dollar': 1378, '11': 1379, 'gorgeou': 1380, 'wide': 1381, 'fox': 1382, 'object': 1383, 'thin': 1384, 'porn': 1385, 'influenc': 1386, 'ugli': 1387, 'buddi': 1388, 'prepar': 1389, 'ii': 1390, 'nasti': 1391, 'reflect': 1392, 'supposedli': 1393, 'progress': 1394, 'warm': 1395, 'worthi': 1396, 'youth': 1397, 'latter': 1398, 'length': 1399, 'unusu': 1400, 'crash': 1401, 'seven': 1402, 'childhood': 1403, 'shop': 1404, 'superior': 1405, 'remot': 1406, 'theatr': 1407, 'paid': 1408, 'disgust': 1409, 'funniest': 1410, 'pilot': 1411, 'fell': 1412, 'convers': 1413, 'trick': 1414, 'castl': 1415, 'disast': 1416, 'gangster': 1417, 'establish': 1418, 'rob': 1419, 'mine': 1420, 'heaven': 1421, 'suicid': 1422, 'disappear': 1423, 'ident': 1424, 'singer': 1425, 'decis': 1426, 'heroin': 1427, 'tend': 1428, 'forgotten': 1429, 'mask': 1430, 'partner': 1431, 'brian': 1432, 'desert': 1433, 'alan': 1434, 'recogn': 1435, 'sky': 1436, 'p': 1437, 'ms': 1438, 'thoroughli': 1439, 'stuck': 1440, 'accur': 1441, 'replac': 1442, 'market': 1443, 'danni': 1444, 'andi': 1445, 'commentari': 1446, 'clue': 1447, 'seemingli': 1448, 'eddi': 1449, 'uncl': 1450, 'jackson': 1451, 'devil': 1452, 'pair': 1453, 'that': 1454, 'refus': 1455, 'therefor': 1456, 'fate': 1457, 'accid': 1458, 'river': 1459, 'fault': 1460, 'ed': 1461, 'unit': 1462, 'afraid': 1463, 'tune': 1464, 'hidden': 1465, 'clean': 1466, 'russian': 1467, 'stephen': 1468, 'captain': 1469, 'readi': 1470, 'test': 1471, 'instanc': 1472, 'quick': 1473, 'convey': 1474, 'irrit': 1475, 'european': 1476, 'daniel': 1477, 'insan': 1478, 'frustrat': 1479, 'rescu': 1480, '1950': 1481, 'food': 1482, 'chines': 1483, 'wed': 1484, 'lock': 1485, 'angri': 1486, 'dirti': 1487, 'joy': 1488, 'price': 1489, 'steven': 1490, 'cage': 1491, 'bland': 1492, 'anymor': 1493, 'rang': 1494, 'wooden': 1495, 'n': 1496, 'news': 1497, 'jason': 1498, 'rush': 1499, 'martial': 1500, 'twenti': 1501, 'worri': 1502, 'board': 1503, '12': 1504, 'led': 1505, 'symbol': 1506, 'transform': 1507, 'hunter': 1508, 'cgi': 1509, 'sentiment': 1510, 'onto': 1511, 'johnni': 1512, 'piti': 1513, 'x': 1514, 'invent': 1515, 'attitud': 1516, 'process': 1517, 'explan': 1518, 'awar': 1519, 'owner': 1520, 'aim': 1521, 'necessari': 1522, 'floor': 1523, 'energi': 1524, 'target': 1525, 'favor': 1526, 'opposit': 1527, 'religi': 1528, 'chick': 1529, 'blind': 1530, 'window': 1531, 'insight': 1532, 'movement': 1533, 'research': 1534, 'comparison': 1535, 'possess': 1536, 'deepli': 1537, 'mountain': 1538, 'grand': 1539, 'whatsoev': 1540, 'comed': 1541, 'rain': 1542, 'shadow': 1543, 'began': 1544, 'mid': 1545, 'bank': 1546, 'parodi': 1547, 'princ': 1548, 'weapon': 1549, 'friendship': 1550, 'credibl': 1551, 'pre': 1552, 'taylor': 1553, 'dougla': 1554, 'flesh': 1555, 'teach': 1556, 'hint': 1557, 'terror': 1558, 'protect': 1559, 'bloodi': 1560, 'marvel': 1561, 'watchabl': 1562, 'accord': 1563, 'leader': 1564, 'drunk': 1565, 'load': 1566, 'superman': 1567, 'anybodi': 1568, 'brown': 1569, 'freddi': 1570, 'appropri': 1571, 'jeff': 1572, 'tim': 1573, 'seat': 1574, 'hitler': 1575, 'charg': 1576, 'knock': 1577, 'villag': 1578, 'keaton': 1579, 'unknown': 1580, 'unnecessari': 1581, 'media': 1582, 'enemi': 1583, 'empti': 1584, 'england': 1585, 'buck': 1586, 'dare': 1587, 'craft': 1588, 'strength': 1589, 'utter': 1590, 'perspect': 1591, 'wave': 1592, 'contrast': 1593, 'nativ': 1594, 'correct': 1595, 'ford': 1596, 'kiss': 1597, 'chill': 1598, 'magnific': 1599, 'distract': 1600, 'anywher': 1601, 'speed': 1602, 'nazi': 1603, 'knowledg': 1604, 'soap': 1605, 'mission': 1606, '1980': 1607, 'ice': 1608, 'breath': 1609, 'fred': 1610, 'crowd': 1611, 'jr': 1612, 'joan': 1613, 'moon': 1614, 'frighten': 1615, 'kate': 1616, '000': 1617, 'soft': 1618, 'dan': 1619, 'nick': 1620, 'hundr': 1621, 'dick': 1622, 'dozen': 1623, 'simon': 1624, 'radio': 1625, 'somebodi': 1626, 'academi': 1627, 'loss': 1628, 'shakespear': 1629, 'andrew': 1630, 'thousand': 1631, 'account': 1632, 'root': 1633, 'vehicl': 1634, 'sum': 1635, 'quot': 1636, '1970': 1637, 'behavior': 1638, 'leg': 1639, 'convent': 1640, 'gold': 1641, 'regular': 1642, 'pretenti': 1643, 'demand': 1644, 'compet': 1645, 'worker': 1646, 'privat': 1647, 'candi': 1648, 'interpret': 1649, 'lynch': 1650, 'explos': 1651, 'notabl': 1652, 'stretch': 1653, 'japan': 1654, 'tarzan': 1655, 'constant': 1656, 'debut': 1657, 'spi': 1658, 'prais': 1659, 'translat': 1660, 'sea': 1661, 'revolv': 1662, 'ass': 1663, 'sat': 1664, 'technolog': 1665, 'quiet': 1666, 'threaten': 1667, 'failur': 1668, 'franc': 1669, 'jesu': 1670, 'aid': 1671, 'toy': 1672, 'met': 1673, 'punch': 1674, 'higher': 1675, 'kevin': 1676, 'vh': 1677, 'mike': 1678, 'abandon': 1679, 'interact': 1680, 'separ': 1681, 'confront': 1682, 'bet': 1683, 'command': 1684, 'recal': 1685, 'servic': 1686, 'techniqu': 1687, 'site': 1688, 'belong': 1689, 'gotten': 1690, 'stunt': 1691, 'cabl': 1692, 'bug': 1693, 'foot': 1694, 'freak': 1695, 'bright': 1696, 'african': 1697, 'capabl': 1698, 'fu': 1699, 'jimmi': 1700, 'succeed': 1701, 'boat': 1702, 'stock': 1703, 'fat': 1704, 'clark': 1705, 'presid': 1706, 'spanish': 1707, 'gene': 1708, 'structur': 1709, 'kidnap': 1710, 'paper': 1711, 'belief': 1712, 'factor': 1713, 'whilst': 1714, 'educ': 1715, 'realis': 1716, 'attend': 1717, 'tree': 1718, 'complic': 1719, 'witti': 1720, 'realism': 1721, 'bob': 1722, 'finest': 1723, 'assist': 1724, 'broken': 1725, 'santa': 1726, 'smoke': 1727, 'determin': 1728, 'v': 1729, 'observ': 1730, 'depart': 1731, 'up': 1732, 'oper': 1733, 'domin': 1734, 'routin': 1735, 'lewi': 1736, 'hat': 1737, 'rubbish': 1738, 'fame': 1739, 'lone': 1740, 'kinda': 1741, 'morgan': 1742, 'hook': 1743, 'foreign': 1744, 'advanc': 1745, 'safe': 1746, 'rank': 1747, 'numer': 1748, 'werewolf': 1749, 'vs': 1750, 'shallow': 1751, 'rose': 1752, 'shape': 1753, 'civil': 1754, 'washington': 1755, 'gari': 1756, 'morn': 1757, 'winner': 1758, 'kong': 1759, 'ordinari': 1760, 'accomplish': 1761, 'grab': 1762, 'virtual': 1763, 'whenev': 1764, 'peac': 1765, 'offens': 1766, 'luck': 1767, 'h': 1768, 'contriv': 1769, 'activ': 1770, 'complain': 1771, 'welcom': 1772, 'patient': 1773, 'bigger': 1774, 'unfunni': 1775, 'dimension': 1776, 'trek': 1777, 'pretend': 1778, 'con': 1779, 'code': 1780, 'lesbian': 1781, 'wake': 1782, 'dri': 1783, 'flash': 1784, 'eric': 1785, 'cain': 1786, 'guard': 1787, 'dancer': 1788, 'albert': 1789, 'corrupt': 1790, 'statu': 1791, 'manipul': 1792, 'signific': 1793, 'context': 1794, 'awkward': 1795, 'speech': 1796, 'gain': 1797, 'sourc': 1798, 'psycho': 1799, 'anthoni': 1800, 'clip': 1801, 'corni': 1802, '13': 1803, 'sean': 1804, 'curiou': 1805, 'reli': 1806, 'w': 1807, 'advic': 1808, 'priest': 1809, 'religion': 1810, 'theatric': 1811, 'flow': 1812, 'addict': 1813, 'skin': 1814, 'asian': 1815, 'jennif': 1816, 'secur': 1817, 'specif': 1818, 'howard': 1819, 'core': 1820, 'promot': 1821, 'comfort': 1822, 'luke': 1823, 'organ': 1824, 'golden': 1825, 'cheat': 1826, 'lucki': 1827, 'cash': 1828, 'associ': 1829, 'lower': 1830, 'dislik': 1831, 'spell': 1832, 'contribut': 1833, 'frankli': 1834, 'degre': 1835, 'wing': 1836, 'regret': 1837, 'frequent': 1838, 'balanc': 1839, 'devic': 1840, 'print': 1841, 'forgiv': 1842, 'lake': 1843, 'sake': 1844, 'thoma': 1845, 'betti': 1846, 'mass': 1847, 'crack': 1848, 'gordon': 1849, 'unexpect': 1850, 'categori': 1851, 'grown': 1852, 'depend': 1853, 'unfold': 1854, 'amateur': 1855, 'construct': 1856, 'invit': 1857, 'anna': 1858, 'honor': 1859, 'condit': 1860, 'matur': 1861, 'grew': 1862, 'walter': 1863, 'intellectu': 1864, 'spectacular': 1865, 'sole': 1866, 'mirror': 1867, 'sudden': 1868, 'veteran': 1869, 'experienc': 1870, 'overli': 1871, 'meanwhil': 1872, 'freedom': 1873, 'robin': 1874, 'liner': 1875, 'demonstr': 1876, 'gift': 1877, 'grip': 1878, 'card': 1879, 'theori': 1880, 'colour': 1881, 'crappi': 1882, 'brilliantli': 1883, 'drew': 1884, 'oliv': 1885, 'section': 1886, 'unabl': 1887, 'sheriff': 1888, 'circumst': 1889, 'subtitl': 1890, 'sheer': 1891, 'laughter': 1892, 'parker': 1893, 'path': 1894, 'pile': 1895, 'altern': 1896, 'matt': 1897, 'cook': 1898, 'lawyer': 1899, 'relief': 1900, 'accident': 1901, 'wander': 1902, 'defin': 1903, 'treatment': 1904, 'hall': 1905, 'sinatra': 1906, 'captiv': 1907, 'dragon': 1908, 'hank': 1909, 'halloween': 1910, 'moor': 1911, 'gratuit': 1912, 'unintent': 1913, 'k': 1914, 'wayn': 1915, 'barbara': 1916, 'wound': 1917, 'broadway': 1918, 'cowboy': 1919, 'jacki': 1920, 'kung': 1921, 'surreal': 1922, 'spoof': 1923, 'canadian': 1924, 'statement': 1925, 'winter': 1926, 'cheer': 1927, 'fare': 1928, 'gonna': 1929, 'treasur': 1930, 'compos': 1931, 'fish': 1932, 'emerg': 1933, 'unrealist': 1934, 'victor': 1935, 'sensit': 1936, 'woodi': 1937, 'ran': 1938, 'sympathet': 1939, 'driven': 1940, 'neighbor': 1941, 'glass': 1942, 'menac': 1943, 'expos': 1944, 'overlook': 1945, 'topic': 1946, 'authent': 1947, 'michel': 1948, 'ancient': 1949, 'chief': 1950, 'handsom': 1951, 'gross': 1952, 'nevertheless': 1953, 'contemporari': 1954, 'feet': 1955, 'cinderella': 1956, 'built': 1957, 'stranger': 1958, 'comedian': 1959, 'network': 1960, 'pleasant': 1961, 'russel': 1962, 'underr': 1963, 'blockbust': 1964, 'letter': 1965, 'earn': 1966, 'endless': 1967, 'miser': 1968, 'consider': 1969, 'gori': 1970, 'switch': 1971, 'brook': 1972, 'solv': 1973, 'convict': 1974, 'bullet': 1975, 'virgin': 1976, 'joseph': 1977, 'edward': 1978, 'victoria': 1979, '0': 1980, 'chosen': 1981, 'alex': 1982, 'scale': 1983, 'scenario': 1984, 'cynic': 1985, 'outrag': 1986, 'curs': 1987, 'com': 1988, 'gut': 1989, 'sword': 1990, 'driver': 1991, 'monkey': 1992, 'wrap': 1993, 'juli': 1994, 'proper': 1995, 'uk': 1996, 'substanc': 1997, 'screenwrit': 1998, 'court': 1999, 'par': 2000, 'indic': 2001, 'remov': 2002, 'bird': 2003, 'rental': 2004, 'grave': 2005, 'nanci': 2006, 'naiv': 2007, 'roy': 2008, 'inevit': 2009, 'consequ': 2010, 'advertis': 2011, 'loser': 2012, 'fatal': 2013, 'slap': 2014, 'invis': 2015, 'germani': 2016, 'bridg': 2017, 'le': 2018, 'brave': 2019, 'provok': 2020, 'footbal': 2021, 'anger': 2022, 'loui': 2023, 'ador': 2024, 'anderson': 2025, 'alcohol': 2026, 'chan': 2027, 'stumbl': 2028, 'ryan': 2029, 'willi': 2030, 'professor': 2031, '1930': 2032, 'australian': 2033, 'sharp': 2034, 'bat': 2035, 'assassin': 2036, 'patrick': 2037, 'strongli': 2038, 'saturday': 2039, 'cell': 2040, 'eight': 2041, 'liber': 2042, 'refresh': 2043, 'lousi': 2044, 'ape': 2045, 'amateurish': 2046, 'trilog': 2047, 'deni': 2048, 'heck': 2049, 'sin': 2050, 'vagu': 2051, 'justifi': 2052, 'san': 2053, 'resid': 2054, 'creator': 2055, 'indi': 2056, 'defeat': 2057, 'sympathi': 2058, 'mini': 2059, 'reput': 2060, 'terrifi': 2061, 'prevent': 2062, 'endur': 2063, 'tabl': 2064, 'tediou': 2065, 'expert': 2066, 'task': 2067, 'basebal': 2068, 'trial': 2069, 'employ': 2070, 'rival': 2071, 'offend': 2072, 'imit': 2073, 'che': 2074, 'max': 2075, 'fairi': 2076, 'weekend': 2077, 'beach': 2078, 'dig': 2079, 'europ': 2080, 'complaint': 2081, 'pitch': 2082, 'format': 2083, 'risk': 2084, 'purchas': 2085, 'murphi': 2086, 'titan': 2087, 'glimps': 2088, 'bite': 2089, 'harsh': 2090, 'reminisc': 2091, 'nois': 2092, 'tini': 2093, 'powel': 2094, 'hype': 2095, 'asleep': 2096, 'strip': 2097, 'fals': 2098, 'prime': 2099, '14': 2100, 'north': 2101, 'till': 2102, 'descript': 2103, 'revel': 2104, 'africa': 2105, 'texa': 2106, 'destruct': 2107, 'surfac': 2108, 'semi': 2109, 'spin': 2110, 'inner': 2111, 'arrest': 2112, 'excess': 2113, 'uninterest': 2114, 'sitcom': 2115, 'hitchcock': 2116, 'twin': 2117, 'makeup': 2118, 'dinosaur': 2119, 'maintain': 2120, 'massiv': 2121, 'controversi': 2122, 'argu': 2123, 'melodrama': 2124, 'ideal': 2125, 'ludicr': 2126, 'expens': 2127, 'stare': 2128, 'reject': 2129, 'kim': 2130, 'insist': 2131, 'press': 2132, 'subplot': 2133, 'ala': 2134, 'atroci': 2135, 'erot': 2136, 'columbo': 2137, 'ga': 2138, 'nail': 2139, 'forest': 2140, 'supernatur': 2141, 'host': 2142, 'notch': 2143, 'identifi': 2144, 'cant': 2145, 'dude': 2146, 'presum': 2147, 'closer': 2148, 'guest': 2149, 'method': 2150, 'crude': 2151, 'character': 2152, 'plagu': 2153, 'forgett': 2154, 'princess': 2155, 'beast': 2156, 'foster': 2157, 'landscap': 2158, 'ear': 2159, 'border': 2160, 'lion': 2161, 'urban': 2162, 'jungl': 2163, 'accus': 2164, 'previous': 2165, 'pacino': 2166, 'birth': 2167, 'bound': 2168, 'storytel': 2169, 'damag': 2170, 'aunt': 2171, 'guid': 2172, 'thirti': 2173, 'chose': 2174, 'emma': 2175, 'nude': 2176, 'propaganda': 2177, 'doll': 2178, 'jess': 2179, 'mainstream': 2180, 'warrior': 2181, 'pet': 2182, '25': 2183, 'whoever': 2184, 'mate': 2185, 'poster': 2186, 'deadli': 2187, 'size': 2188, 'upset': 2189, 'friday': 2190, 'gritti': 2191, 'exact': 2192, 'latest': 2193, 'merit': 2194, 'cooper': 2195, 'citizen': 2196, 'settl': 2197, 'corps': 2198, 'blend': 2199, 'rough': 2200, 'wilson': 2201, 'sun': 2202, 'warner': 2203, 'ton': 2204, 'buff': 2205, 'popul': 2206, 'contact': 2207, '1990': 2208, 'contest': 2209, 'rat': 2210, 'pitt': 2211, 'widow': 2212, 'alic': 2213, 'bu': 2214, 'metal': 2215, 'select': 2216, 'environ': 2217, 'mgm': 2218, 'overcom': 2219, 'guilti': 2220, 'lift': 2221, 'link': 2222, 'revolut': 2223, 'particip': 2224, 'ted': 2225, 'corpor': 2226, 'afternoon': 2227, 'moron': 2228, 'prostitut': 2229, 'johnson': 2230, 'accompani': 2231, '1960': 2232, 'corner': 2233, 'matrix': 2234, 'exagger': 2235, 'clair': 2236, 'leagu': 2237, 'sincer': 2238, 'doom': 2239, 'hood': 2240, 'multipl': 2241, 'instal': 2242, 'friendli': 2243, 'holm': 2244, 'campi': 2245, 'defend': 2246, 'irish': 2247, 'sunday': 2248, 'aka': 2249, 'lugosi': 2250, 'hip': 2251, 'grim': 2252, 'blah': 2253, 'advis': 2254, 'junk': 2255, 'string': 2256, 'examin': 2257, 'icon': 2258, 'confid': 2259, 'shake': 2260, 'tight': 2261, 'shut': 2262, 'pro': 2263, 'rachel': 2264, 'varieti': 2265, 'denni': 2266, 'directli': 2267, 'goal': 2268, 'attach': 2269, 'jaw': 2270, 'sullivan': 2271, 'medic': 2272, 'mexican': 2273, 'sentenc': 2274, 'legendari': 2275, 'truck': 2276, 'dean': 2277, 'duke': 2278, 'prior': 2279, 'breast': 2280, 'vietnam': 2281, 'courag': 2282, 'terrorist': 2283, 'bourn': 2284, 'sarah': 2285, 'entri': 2286, 'proceed': 2287, 'yell': 2288, 'hong': 2289, 'behav': 2290, 'donald': 2291, 'split': 2292, 'nose': 2293, 'un': 2294, 'stolen': 2295, 'lifetim': 2296, 'everywher': 2297, 'jerk': 2298, 'crush': 2299, 'concentr': 2300, 'borrow': 2301, 'forth': 2302, 'swim': 2303, 'buri': 2304, 'unconvinc': 2305, 'confess': 2306, 'gather': 2307, 'julia': 2308, 'california': 2309, 'pan': 2310, 'deliveri': 2311, 'spite': 2312, 'turkey': 2313, 'lip': 2314, 'china': 2315, 'hoffman': 2316, 'proud': 2317, 'offici': 2318, 'flight': 2319, 'freeman': 2320, 'reward': 2321, 'downright': 2322, 'quest': 2323, 'fabul': 2324, 'encourag': 2325, 'notori': 2326, 'betray': 2327, 'lazi': 2328, 'worthwhil': 2329, 'fade': 2330, 'inept': 2331, 'jail': 2332, 'sink': 2333, 'sir': 2334, 'jon': 2335, 'storm': 2336, 'cousin': 2337, 'bag': 2338, 'susan': 2339, 'shower': 2340, 'bell': 2341, 'retard': 2342, 'survivor': 2343, 'relev': 2344, 'lisa': 2345, 'teeth': 2346, 'imageri': 2347, 'branagh': 2348, 'summari': 2349, 'toler': 2350, 'stab': 2351, 'quirki': 2352, 'finger': 2353, 'mexico': 2354, 'alright': 2355, 'facial': 2356, 'bride': 2357, 'hugh': 2358, 'tremend': 2359, 'trade': 2360, 'shark': 2361, 'von': 2362, 'pose': 2363, 'hyster': 2364, 'bitter': 2365, 'ha': 2366, 'blown': 2367, 'address': 2368, 'ron': 2369, 'scheme': 2370, 'afterward': 2371, 'bone': 2372, 'christ': 2373, 'larri': 2374, 'ned': 2375, 'cruel': 2376, 'screw': 2377, 'feed': 2378, 'distinct': 2379, 'thumb': 2380, 'tour': 2381, 'swear': 2382, 'pursu': 2383, 'beg': 2384, 'snake': 2385, 'traci': 2386, 'raw': 2387, 'chair': 2388, 'occas': 2389, 'photo': 2390, 'mechan': 2391, 'stomach': 2392, 'obscur': 2393, 'heavili': 2394, 'cabin': 2395, 'southern': 2396, 'gruesom': 2397, 'sidney': 2398, 'render': 2399, 'resist': 2400, 'argument': 2401, 'necessarili': 2402, 'chain': 2403, 'hardi': 2404, 'holiday': 2405, 'indulg': 2406, 'understood': 2407, 'racist': 2408, 'satan': 2409, 'india': 2410, 'philip': 2411, 'lay': 2412, 'outfit': 2413, 'obnoxi': 2414, 'integr': 2415, 'pregnant': 2416, 'fourth': 2417, 'midnight': 2418, 'belov': 2419, 'stalk': 2420, 'tongu': 2421, 'forgot': 2422, 'magazin': 2423, 'carol': 2424, 'restor': 2425, 'garden': 2426, 'inhabit': 2427, 'ticket': 2428, '17': 2429, 'slapstick': 2430, 'deeper': 2431, 'brad': 2432, 'devot': 2433, 'incid': 2434, 'shoe': 2435, 'lincoln': 2436, 'benefit': 2437, 'underground': 2438, 'anticip': 2439, 'guarante': 2440, 'divorc': 2441, 'sandler': 2442, 'elizabeth': 2443, 'disbelief': 2444, 'lili': 2445, 'maria': 2446, 'greater': 2447, 'bbc': 2448, 'mildli': 2449, 'princip': 2450, 'explod': 2451, 'cring': 2452, 'slave': 2453, 'creation': 2454, 'amazingli': 2455, 'capit': 2456, 'introduct': 2457, 'funnier': 2458, 'extraordinari': 2459, 'lesli': 2460, 'halfway': 2461, 'wreck': 2462, 'text': 2463, 'advantag': 2464, 'enhanc': 2465, 'punish': 2466, 'tap': 2467, 'extent': 2468, 'overwhelm': 2469, 'transfer': 2470, 'dynam': 2471, 'plant': 2472, 'lo': 2473, 'deliber': 2474, 'jessica': 2475, 'preview': 2476, 'error': 2477, 'lane': 2478, 'horrif': 2479, 'east': 2480, 'miscast': 2481, 'sophist': 2482, 'ensu': 2483, '2000': 2484, 'homosexu': 2485, 'basi': 2486, 'vacat': 2487, 'appli': 2488, 'miller': 2489, 'vincent': 2490, 'sleazi': 2491, 'spoken': 2492, 'via': 2493, 'uncomfort': 2494, 'reed': 2495, 'mansion': 2496, 'bollywood': 2497, 'steel': 2498, 'extend': 2499, 'measur': 2500, 'elev': 2501, 'assign': 2502, 'melt': 2503, 'mous': 2504, 'alter': 2505, 'cathol': 2506, 'stanley': 2507, 'fix': 2508, 'breathtak': 2509, 'blair': 2510, 'savag': 2511, 'hippi': 2512, 'overact': 2513, 'daili': 2514, 'conceiv': 2515, 'beer': 2516, 'goofi': 2517, 'dentist': 2518, 'sacrific': 2519, 'properli': 2520, 'burt': 2521, 'succe': 2522, 'everyday': 2523, 'subsequ': 2524, 'oppos': 2525, 'nowaday': 2526, 'inspector': 2527, 'carpent': 2528, 'laura': 2529, 'circl': 2530, 'massacr': 2531, 'block': 2532, 'neck': 2533, 'portrait': 2534, 'concert': 2535, 'grey': 2536, 'mob': 2537, 'christi': 2538, 'fay': 2539, 'access': 2540, 'fallen': 2541, 'pool': 2542, 'lesser': 2543, 'seagal': 2544, 'sinist': 2545, 'jewish': 2546, 'react': 2547, 'relax': 2548, 'competit': 2549, 'usa': 2550, 'isol': 2551, 'chees': 2552, 'jake': 2553, 'creep': 2554, 'suitabl': 2555, 'stink': 2556, 'spiritu': 2557, 'ironi': 2558, 'nine': 2559, 'chop': 2560, 'immens': 2561, 'lyric': 2562, '2006': 2563, 'appal': 2564, 'nonetheless': 2565, 'user': 2566, 'shirt': 2567, 'needless': 2568, 'retir': 2569, 'showcas': 2570, 'sold': 2571, 'navi': 2572, 'adopt': 2573, 'luci': 2574, 'spring': 2575, 'reduc': 2576, 'nut': 2577, 'rage': 2578, 'franchis': 2579, 'jay': 2580, 'asham': 2581, 'nurs': 2582, 'zone': 2583, 'bulli': 2584, 'bath': 2585, 'per': 2586, 'uninspir': 2587, 'digit': 2588, 'stanwyck': 2589, 'upper': 2590, 'laid': 2591, 'oddli': 2592, 'broadcast': 2593, '2001': 2594, 'amongst': 2595, 'illustr': 2596, '1940': 2597, 'sutherland': 2598, 'disguis': 2599, 'throat': 2600, 'baker': 2601, 'aspir': 2602, 'fulfil': 2603, 'stylish': 2604, 'brando': 2605, 'em': 2606, 'wanna': 2607, '18': 2608, 'neighborhood': 2609, 'thief': 2610, 'impli': 2611, 'pound': 2612, 'endear': 2613, 'pride': 2614, 'wwii': 2615, 'nobl': 2616, 'cinematograph': 2617, 'tens': 2618, 'dawn': 2619, 'prop': 2620, 'dinner': 2621, 'distribut': 2622, '16': 2623, 'shoulder': 2624, 'albeit': 2625, 'coher': 2626, 'bett': 2627, 'shift': 2628, 'rochest': 2629, 'diseas': 2630, 'bo': 2631, 'knife': 2632, 'forti': 2633, 'snow': 2634, 'wash': 2635, 'contract': 2636, 'poignant': 2637, 'silenc': 2638, 'shout': 2639, 'function': 2640, 'rebel': 2641, 'surf': 2642, 'matthau': 2643, 'internet': 2644, 'elvira': 2645, 'mindless': 2646, 'duti': 2647, 'silver': 2648, 'horrend': 2649, 'eeri': 2650, 'widmark': 2651, 'height': 2652, 'reunion': 2653, 'heat': 2654, 'cancel': 2655, 'instinct': 2656, 'proof': 2657, 'henc': 2658, 'derek': 2659, 'cannib': 2660, 'chuck': 2661, 'neat': 2662, 'musician': 2663, 'glori': 2664, 'etern': 2665, 'mill': 2666, 'incoher': 2667, 'torn': 2668, 'absorb': 2669, 'elvi': 2670, 'innov': 2671, 'repetit': 2672, 'pie': 2673, 'premier': 2674, 'alik': 2675, 'greatli': 2676, 'spielberg': 2677, 'announc': 2678, 'precis': 2679, 'trite': 2680, 'crisi': 2681, 'wealthi': 2682, 'fbi': 2683, 'bang': 2684, 'infam': 2685, 'itali': 2686, 'redempt': 2687, 'horrifi': 2688, 'nelson': 2689, 'lovabl': 2690, 'burton': 2691, 'homag': 2692, 'blank': 2693, 'britain': 2694, 'diamond': 2695, 'racism': 2696, 'pat': 2697, 'resolut': 2698, 'parallel': 2699, 'happili': 2700, 'flop': 2701, 'dedic': 2702, 'ensembl': 2703, 'hammer': 2704, 'helen': 2705, 'wilder': 2706, 'chaplin': 2707, 'streisand': 2708, 'triumph': 2709, 'plastic': 2710, 'oil': 2711, 'factori': 2712, 'broke': 2713, 'mar': 2714, 'conclud': 2715, 'disagre': 2716, 'carter': 2717, 'st': 2718, 'cube': 2719, 'climb': 2720, 'own': 2721, 'row': 2722, 'fighter': 2723, 'rocket': 2724, 'weight': 2725, 'chuckl': 2726, 'bush': 2727, 'march': 2728, 'vega': 2729, 'wherea': 2730, 'dump': 2731, 'enorm': 2732, 'dane': 2733, 'kurt': 2734, 'mst3k': 2735, 'boot': 2736, 'lust': 2737, 'unforgett': 2738, 'thug': 2739, 'spare': 2740, 'meaning': 2741, 'luca': 2742, 'sensibl': 2743, 'engin': 2744, 'fifti': 2745, 'dear': 2746, 'adequ': 2747, 'butt': 2748, 'karloff': 2749, 'caricatur': 2750, 'brand': 2751, 'arnold': 2752, 'difficulti': 2753, 'rap': 2754, 'threat': 2755, 'stress': 2756, 'bobbi': 2757, 'ego': 2758, 'polish': 2759, 'journalist': 2760, 'ralph': 2761, 'hamlet': 2762, 'barri': 2763, 'fest': 2764, 'elabor': 2765, 'swing': 2766, 'homeless': 2767, 'arrog': 2768, 'secretari': 2769, 'flynn': 2770, 'grate': 2771, 'conspiraci': 2772, 'induc': 2773, 'simpson': 2774, 'fanci': 2775, 'resort': 2776, 'tool': 2777, 'unbear': 2778, 'puppet': 2779, 'spike': 2780, 'arrang': 2781, 'float': 2782, 'choreograph': 2783, 'pig': 2784, 'cruis': 2785, 'guilt': 2786, 'tribut': 2787, 'muppet': 2788, 'exercis': 2789, 'phillip': 2790, 'boll': 2791, 'basement': 2792, 'puzzl': 2793, 'toilet': 2794, 'editor': 2795, 'slip': 2796, 'scarecrow': 2797, 'ham': 2798, 'document': 2799, 'ward': 2800, 'layer': 2801, 'fianc': 2802, 'babe': 2803, 'item': 2804, 'file': 2805, 'korean': 2806, '24': 2807, 'medium': 2808, 'tower': 2809, 'stan': 2810, 'philosoph': 2811, 'inexplic': 2812, 'persona': 2813, 'superfici': 2814, 'slaughter': 2815, 'portion': 2816, 'glover': 2817, 'spark': 2818, 'catherin': 2819, 'larger': 2820, 'orient': 2821, 'doc': 2822, 'assur': 2823, 'minim': 2824, 'territori': 2825, 'librari': 2826, 'transit': 2827, 'denzel': 2828, 'jet': 2829, 'owe': 2830, 'dorothi': 2831, 'pg': 2832, 'jeremi': 2833, 'wolf': 2834, 'sneak': 2835, 'walken': 2836, 'ban': 2837, 'shi': 2838, 'boredom': 2839, 'financi': 2840, 'curti': 2841, 'backdrop': 2842, 'hudson': 2843, 'profound': 2844, 'multi': 2845, 'metaphor': 2846, 'eleph': 2847, 'ambigu': 2848, 'cusack': 2849, 'whale': 2850, 'gadget': 2851, 'elsewher': 2852, 'rave': 2853, 'viru': 2854, 'union': 2855, 'notion': 2856, 'ultra': 2857, '2005': 2858, 'stiff': 2859, 'hack': 2860, 'birthday': 2861, 'implaus': 2862, 'bibl': 2863, 'disc': 2864, 'urg': 2865, 'lloyd': 2866, 'hawk': 2867, 'reader': 2868, 'poison': 2869, 'deriv': 2870, 'pad': 2871, 'squar': 2872, 'superhero': 2873, 'newspap': 2874, 'eva': 2875, 'distanc': 2876, 'slight': 2877, 'canada': 2878, 'eastwood': 2879, 'afford': 2880, '1st': 2881, 'huh': 2882, 'spread': 2883, 'drown': 2884, 'essenc': 2885, 'charisma': 2886, 'health': 2887, 'button': 2888, 'montag': 2889, 'heston': 2890, 'sadist': 2891, 'cure': 2892, 'skit': 2893, 'restaur': 2894, 'maniac': 2895, 'godfath': 2896, 'gradual': 2897, 'estat': 2898, 'dealt': 2899, 'scoobi': 2900, 'fetch': 2901, 'peak': 2902, 'invest': 2903, 'muslim': 2904, 'companion': 2905, 'lab': 2906, 'ritter': 2907, 'gothic': 2908, 'servant': 2909, 'tea': 2910, 'subtleti': 2911, 'kane': 2912, 'countless': 2913, 'cup': 2914, 'alli': 2915, 'miik': 2916, 'salli': 2917, 'charismat': 2918, 'elect': 2919, 'heroic': 2920, 'iii': 2921, 'electr': 2922, 'briefli': 2923, 'resourc': 2924, 'grandmoth': 2925, 'toss': 2926, 'cole': 2927, 'bud': 2928, 'nuanc': 2929, 'neil': 2930, 'wannab': 2931, 'admittedli': 2932, 'ingredi': 2933, 'reel': 2934, 'tender': 2935, 'gate': 2936, 'pit': 2937, 'stood': 2938, 'punk': 2939, 'label': 2940, 'kubrick': 2941, 'poverti': 2942, 'mafia': 2943, 'mild': 2944, 'stronger': 2945, 'shall': 2946, 'reev': 2947, 'carrey': 2948, 'dawson': 2949, 'pauli': 2950, 'assault': 2951, 'burst': 2952, 'useless': 2953, 'cox': 2954, 'smooth': 2955, 'outcom': 2956, 'fond': 2957, 'updat': 2958, 'smash': 2959, 'ian': 2960, 'tag': 2961, 'easier': 2962, 'bakshi': 2963, 'terri': 2964, 'cardboard': 2965, 'astair': 2966, 'coincid': 2967, 'rex': 2968, 'fist': 2969, 'melodramat': 2970, 'increasingli': 2971, 'exchang': 2972, 'divers': 2973, 'vulner': 2974, 'sketch': 2975, 'resolv': 2976, 'vari': 2977, 'samurai': 2978, '2002': 2979, 'qualifi': 2980, 'scratch': 2981, 'brillianc': 2982, 'blast': 2983, 'templ': 2984, 'tame': 2985, 'luckili': 2986, 'insert': 2987, 'reynold': 2988, 'conveni': 2989, 'suspend': 2990, 'be': 2991, 'pin': 2992, 'strictli': 2993, 'jami': 2994, 'meat': 2995, 'soprano': 2996, 'seventi': 2997, 'walker': 2998, 'fisher': 2999, 'gotta': 3000, 'coach': 3001, 'nuclear': 3002, 'ambiti': 3003, 'matthew': 3004, 'hamilton': 3005, 'farm': 3006, 'convolut': 3007, 'recreat': 3008, 'ninja': 3009, 'instantli': 3010, 'cave': 3011, 'spooki': 3012, 'revers': 3013, 'kudo': 3014, 'timeless': 3015, 'monk': 3016, 'clock': 3017, 'discoveri': 3018, 'butcher': 3019, 'empir': 3020, 'struck': 3021, 'eccentr': 3022, 'grasp': 3023, 'joey': 3024, 'closet': 3025, 'worthless': 3026, 'brosnan': 3027, 'bleak': 3028, 'partli': 3029, 'miracl': 3030, 'norman': 3031, 'evok': 3032, 'mitchel': 3033, 'inconsist': 3034, 'sidekick': 3035, 'declar': 3036, 'cliff': 3037, 'selfish': 3038, 'sloppi': 3039, 'fifteen': 3040, 'seller': 3041, 'gray': 3042, 'wipe': 3043, 'importantli': 3044, 'communist': 3045, 'clown': 3046, 'pal': 3047, 'eighti': 3048, 'aforement': 3049, '45': 3050, 'debat': 3051, 'websit': 3052, 'piano': 3053, 'flawless': 3054, 'superbl': 3055, 'lifestyl': 3056, 'enthusiast': 3057, 'destin': 3058, 'cheek': 3059, 'australia': 3060, 'ho': 3061, 'chew': 3062, 'psychiatrist': 3063, 'farc': 3064, 'stoog': 3065, 'seed': 3066, 'pressur': 3067, 'dash': 3068, 'incompet': 3069, 'bash': 3070, 'kitchen': 3071, 'slice': 3072, 'directori': 3073, 'drivel': 3074, 'emili': 3075, 'regardless': 3076, 'abc': 3077, 'soviet': 3078, 'splatter': 3079, 'wrestl': 3080, 'wick': 3081, 'akshay': 3082, 'dire': 3083, 'anni': 3084, 'boil': 3085, 'flower': 3086, 'seduc': 3087, 'duo': 3088, 'suppli': 3089, 'judi': 3090, 'distant': 3091, 'cameron': 3092, 'glow': 3093, 'increas': 3094, 'recov': 3095, 'pleasantli': 3096, 'ken': 3097, 'doo': 3098, 'jar': 3099, 'blob': 3100, 'dave': 3101, 'beaten': 3102, 'helicopt': 3103, 'prize': 3104, 'artifici': 3105, 'curios': 3106, 'lou': 3107, 'cia': 3108, 'chapter': 3109, 'cagney': 3110, 'mann': 3111, 'craig': 3112, 'eleg': 3113, 'francisco': 3114, 'drunken': 3115, 'glenn': 3116, 'perri': 3117, 'ranger': 3118, 'panic': 3119, 'ellen': 3120, 'psychot': 3121, 'craven': 3122, 'web': 3123, 'combat': 3124, 'splendid': 3125, 'laurel': 3126, 'hop': 3127, 'goldberg': 3128, 'favour': 3129, 'turner': 3130, 'graduat': 3131, 'slightest': 3132, 'shortli': 3133, 'gentl': 3134, 'min': 3135, 'falk': 3136, 'plausibl': 3137, 'rid': 3138, 'alexand': 3139, 'hatr': 3140, '20th': 3141, 'fx': 3142, 'greek': 3143, 'wizard': 3144, 'flip': 3145, 'philosophi': 3146, 'modesti': 3147, 'ruth': 3148, 'gandhi': 3149, 'futurist': 3150, 'legal': 3151, 'dracula': 3152, 'holi': 3153, 'jealou': 3154, 'ocean': 3155, 'harm': 3156, 'unpleas': 3157, 'lend': 3158, 'fund': 3159, 'knight': 3160, 'we': 3161, 'preciou': 3162, 'manhattan': 3163, 'tall': 3164, 'felix': 3165, 'overdon': 3166, 'reviv': 3167, 'mock': 3168, 'forbidden': 3169, 'thread': 3170, 'explicit': 3171, 'giallo': 3172, 'bless': 3173, 'childish': 3174, 'scientif': 3175, 'digniti': 3176, 'tank': 3177, 'ami': 3178, 'nod': 3179, 'awe': 3180, 'fever': 3181, 'elderli': 3182, 'repeatedli': 3183, 'broad': 3184, 'torment': 3185, 'eve': 3186, 'awaken': 3187, 'unwatch': 3188, '99': 3189, '2004': 3190, 'mel': 3191, 'pirat': 3192, 'nerv': 3193, 'yesterday': 3194, 'thick': 3195, 'margaret': 3196, 'verhoeven': 3197, 'royal': 3198, 'uniform': 3199, 'rivet': 3200, 'politician': 3201, 'ambit': 3202, 'roman': 3203, 'acclaim': 3204, 'griffith': 3205, 'bin': 3206, 'stiller': 3207, 'romero': 3208, 'timothi': 3209, 'ah': 3210, 'absenc': 3211, 'launch': 3212, 'publish': 3213, 'eas': 3214, 'lean': 3215, 'custom': 3216, 'kay': 3217, 'automat': 3218, 'darker': 3219, 'bathroom': 3220, 'purpl': 3221, 'phrase': 3222, 'foul': 3223, 'tomato': 3224, 'antic': 3225, 'termin': 3226, 'gabriel': 3227, 'homicid': 3228, 'crook': 3229, 'wallac': 3230, 'stinker': 3231, 'transport': 3232, 'sunshin': 3233, 'warren': 3234, 'pulp': 3235, 'pierc': 3236, 'karen': 3237, '2003': 3238, 'brazil': 3239, 'juvenil': 3240, 'donna': 3241, 'awak': 3242, 'q': 3243, 'choreographi': 3244, 'evolv': 3245, 'contrari': 3246, 'packag': 3247, 'coloni': 3248, 'album': 3249, 'rambo': 3250, 'ought': 3251, 'li': 3252, 'eyr': 3253, 'revolutionari': 3254, 'viciou': 3255, 'kenneth': 3256, 'horrid': 3257, 'sixti': 3258, 'saint': 3259, 'marin': 3260, 'hollow': 3261, 'prom': 3262, 'pray': 3263, 'blade': 3264, 'nerd': 3265, 'overr': 3266, 'boast': 3267, 'ireland': 3268, 'stole': 3269, 'ramon': 3270, 'twelv': 3271, 'dose': 3272, 'kapoor': 3273, 'defi': 3274, 'candid': 3275, 'option': 3276, 'beatti': 3277, 'conserv': 3278, 'mildr': 3279, 'mummi': 3280, 'astonish': 3281, 'confirm': 3282, 'altman': 3283, 'flame': 3284, 'natali': 3285, 'collabor': 3286, 'detract': 3287, 'funer': 3288, 'global': 3289, 'kirk': 3290, 'trio': 3291, 'fulci': 3292, 'jazz': 3293, 'protest': 3294, 'destini': 3295, 'whip': 3296, 'bull': 3297, 'shade': 3298, 'nicholson': 3299, 'racial': 3300, 'blake': 3301, 'spit': 3302, 'mystic': 3303, 'delici': 3304, 'bottl': 3305, 'enterpris': 3306, 'tommi': 3307, 'audio': 3308, 'yellow': 3309, 'leap': 3310, 'vivid': 3311, 'pseudo': 3312, 'threw': 3313, 'inherit': 3314, 'enchant': 3315, 'altogeth': 3316, 'staff': 3317, 'reunit': 3318, 'harder': 3319, 'adolesc': 3320, 'bedroom': 3321, 'visibl': 3322, 'popcorn': 3323, 'swedish': 3324, 'fonda': 3325, 'merci': 3326, 'neo': 3327, 'todd': 3328, 'meaningless': 3329, 'voight': 3330, 'exhibit': 3331, 'lawrenc': 3332, 'atlanti': 3333, 'respond': 3334, 'befriend': 3335, 'edi': 3336, 'uneven': 3337, 'bust': 3338, 'ruthless': 3339, 'fanat': 3340, 'suspici': 3341, 'synopsi': 3342, 'await': 3343, 'jew': 3344, 'tip': 3345, 'moodi': 3346, 'decor': 3347, 'roommat': 3348, 'reserv': 3349, 'lemmon': 3350, 'leonard': 3351, 'wire': 3352, 'crocodil': 3353, 'madonna': 3354, 'kennedi': 3355, 'incident': 3356, 'bradi': 3357, 'centr': 3358, 'carl': 3359, 'clumsi': 3360, 'abysm': 3361, 'dimens': 3362, 'garner': 3363, 'unsettl': 3364, 'bargain': 3365, 'voyag': 3366, 'rural': 3367, 'chao': 3368, 'ventur': 3369, 'bold': 3370, 'holli': 3371, 'clint': 3372, 'palma': 3373, '2007': 3374, 'audit': 3375, 'lit': 3376, 'poetic': 3377, 'cuba': 3378, 'troop': 3379, 'wealth': 3380, 'elimin': 3381, 'trail': 3382, 'humili': 3383, 'nearbi': 3384, 'neglect': 3385, 'mall': 3386, 'characterist': 3387, 'tiger': 3388, 'immigr': 3389, 'imperson': 3390, '2nd': 3391, 'echo': 3392, 'cari': 3393, 'timon': 3394, 'ant': 3395, 'acknowledg': 3396, 'cd': 3397, 'daddi': 3398, 'hart': 3399, 'versu': 3400, 'prejudic': 3401, 'domest': 3402, 'marshal': 3403, 'saga': 3404, 'repuls': 3405, 'homer': 3406, 'mistaken': 3407, 'infect': 3408, 'celluloid': 3409, 'paus': 3410, 'solo': 3411, 'collaps': 3412, 'pun': 3413, 'jeffrey': 3414, 'mickey': 3415, 'undoubtedli': 3416, 'chest': 3417, 'sore': 3418, 'gear': 3419, 'milk': 3420, 'promin': 3421, 'hbo': 3422, 'cake': 3423, 'tribe': 3424, 'interrupt': 3425, 'inan': 3426, 'coat': 3427, 'apolog': 3428, 'pant': 3429, 'coffe': 3430, 'leon': 3431, 'harvey': 3432, 'olivi': 3433, 'inappropri': 3434, '1996': 3435, 'equip': 3436, 'ginger': 3437, 'assembl': 3438, 'furthermor': 3439, 'pen': 3440, 'vulgar': 3441, 'highest': 3442, 'primari': 3443, 'colleagu': 3444, 'solut': 3445, 'instant': 3446, 'airplan': 3447, 'devast': 3448, 'institut': 3449, 'pot': 3450, 'consum': 3451, 'jenni': 3452, 'retain': 3453, 'brooklyn': 3454, 'aveng': 3455, 'humbl': 3456, 'embrac': 3457, 'maggi': 3458, 'exot': 3459, 'trace': 3460, 'colonel': 3461, 'florida': 3462, 'polanski': 3463, 'poke': 3464, 'sale': 3465, 'seduct': 3466, 'godzilla': 3467, 'wive': 3468, 'ya': 3469, '3rd': 3470, 'bowl': 3471, 'linda': 3472, 'dian': 3473, 'smaller': 3474, '1999': 3475, 'illog': 3476, 'strain': 3477, 'principl': 3478, 'rick': 3479, 'outer': 3480, 'cope': 3481, 'disabl': 3482, 'descend': 3483, 'dutch': 3484, 'gender': 3485, 'dive': 3486, 'lol': 3487, 'vast': 3488, 'yard': 3489, 'inferior': 3490, 'beneath': 3491, 'gloriou': 3492, 'dud': 3493, 'hal': 3494, 'blatant': 3495, 'bubbl': 3496, 'primarili': 3497, 'mixtur': 3498, 'glamor': 3499, 'devoid': 3500, 'cue': 3501, 'predecessor': 3502, 'scope': 3503, 'rabbit': 3504, 'secondli': 3505, 'gundam': 3506, 'shirley': 3507, 'arab': 3508, 'trademark': 3509, 'alfr': 3510, 'countrysid': 3511, 'museum': 3512, 'hideou': 3513, 'april': 3514, 'streep': 3515, 'senseless': 3516, 'casual': 3517, 'breed': 3518, 'et': 3519, 'shelf': 3520, 'pearl': 3521, 'disjoint': 3522, 'grinch': 3523, 'talki': 3524, 'domino': 3525, 'aggress': 3526, 'myer': 3527, 'garbo': 3528, 'z': 3529, 'invas': 3530, 'simplist': 3531, 'alert': 3532, 'hopeless': 3533, 'khan': 3534, 'defens': 3535, 'unhappi': 3536, 'sh': 3537, 'stellar': 3538, 'vanish': 3539, 'mayor': 3540, 'stack': 3541, 'loyal': 3542, 'hardcor': 3543, 'robinson': 3544, 'robberi': 3545, 'disgrac': 3546, 'boom': 3547, 'obtain': 3548, 'mail': 3549, 'stir': 3550, 'oz': 3551, 'experiment': 3552, 'applaud': 3553, 'acid': 3554, 'rendit': 3555, 'uwe': 3556, 'maci': 3557, 'slide': 3558, 'illeg': 3559, 'dicken': 3560, 'recruit': 3561, 'incomprehens': 3562, 'span': 3563, 'blew': 3564, 'grandfath': 3565, 'wont': 3566, 'soccer': 3567, 'berlin': 3568, 'declin': 3569, 'psychic': 3570, 'topless': 3571, 'rifl': 3572, 'tenant': 3573, 'dismiss': 3574, 'amanda': 3575, 'fri': 3576, 'hartley': 3577, 'emphasi': 3578, 'counter': 3579, 'tempt': 3580, 'craze': 3581, 'diana': 3582, 'spider': 3583, 'scroog': 3584, 'wet': 3585, 'faster': 3586, 'parad': 3587, 'resurrect': 3588, 'shed': 3589, 'sibl': 3590, 'niro': 3591, 'revolt': 3592, 'woo': 3593, 'riot': 3594, 'porno': 3595, 'shaw': 3596, 'intim': 3597, 'bitch': 3598, 'trashi': 3599, 'sympath': 3600, 'ration': 3601, 'justin': 3602, 'goer': 3603, 'lumet': 3604, 'ethnic': 3605, 'patriot': 3606, 'feminist': 3607, 'immort': 3608, 'jonathan': 3609, 'partial': 3610, 'slick': 3611, 'honesti': 3612, 'worm': 3613, 'steam': 3614, 'wendi': 3615, 'mario': 3616, 'ensur': 3617, 'unreal': 3618, 'choru': 3619, 'enlighten': 3620, 'hopper': 3621, 'ballet': 3622, 'wheel': 3623, 'eager': 3624, 'biographi': 3625, '00': 3626, 'hesit': 3627, 'nephew': 3628, 'gap': 3629, 'weakest': 3630, 'dealer': 3631, 'rider': 3632, 'farmer': 3633, 'commend': 3634, 'lena': 3635, 'region': 3636, 'andr': 3637, 'mutant': 3638, 'skull': 3639, 'composit': 3640, 'wore': 3641, 'owen': 3642, 'sappi': 3643, 'leo': 3644, 'hung': 3645, 'safeti': 3646, 'charlott': 3647, 'vice': 3648, 'prequel': 3649, 'util': 3650, 'repress': 3651, 'morri': 3652, 'similarli': 3653, 'psychopath': 3654, 'sandra': 3655, 'franco': 3656, 'properti': 3657, 'nostalg': 3658, 'blunt': 3659, 'kingdom': 3660, 'snap': 3661, 'victori': 3662, 'confin': 3663, 'macarthur': 3664, 'del': 3665, 'montana': 3666, 'bumbl': 3667, 'farrel': 3668, 'dust': 3669, 'latin': 3670, 'nervou': 3671, 'hyde': 3672, 'strand': 3673, 'acquir': 3674, 'rambl': 3675, 'deed': 3676, 'bow': 3677, 'repli': 3678, 'tail': 3679, 'dalton': 3680, 'tad': 3681, 'compens': 3682, 'cg': 3683, 'bonu': 3684, 'snl': 3685, 'compass': 3686, 'emperor': 3687, 'exit': 3688, 'rope': 3689, 'valuabl': 3690, 'pattern': 3691, 'drain': 3692, 'bergman': 3693, 'recycl': 3694, 'rocki': 3695, 'kyle': 3696, 'miseri': 3697, 'despair': 3698, 'heartbreak': 3699, 'whoopi': 3700, 'campbel': 3701, 'speci': 3702, 'thru': 3703, '1972': 3704, 'drum': 3705, 'tonight': 3706, 'orson': 3707, 'rotten': 3708, 'wacki': 3709, 'contempl': 3710, 'oppress': 3711, '35': 3712, 'pour': 3713, 'slug': 3714, 'downhil': 3715, 'rapist': 3716, 'roth': 3717, 'airport': 3718, 'gimmick': 3719, 'chess': 3720, 'gal': 3721, 'percept': 3722, 'mistress': 3723, 'da': 3724, 'bleed': 3725, 'radic': 3726, 'martian': 3727, 'romp': 3728, 'carradin': 3729, 'olli': 3730, 'programm': 3731, '1983': 3732, 'champion': 3733, 'paltrow': 3734, 'melodi': 3735, 'pervers': 3736, 'slash': 3737, 'arguabl': 3738, 'shelley': 3739, 'belt': 3740, 'pervert': 3741, 'dazzl': 3742, 'arc': 3743, 'stilt': 3744, 'attorney': 3745, 'pursuit': 3746, 'unpredict': 3747, 'preach': 3748, 'banal': 3749, 'tackl': 3750, 'heal': 3751, 'taught': 3752, 'tooth': 3753, 'edgar': 3754, 'mislead': 3755, 'cleverli': 3756, 'franki': 3757, 'graham': 3758, 'bela': 3759, 'raymond': 3760, 'duval': 3761, 'orang': 3762, 'sensat': 3763, 'passeng': 3764, 'rubi': 3765, 'maid': 3766, 'conneri': 3767, 'gambl': 3768, 'tiresom': 3769, 'plight': 3770, 'employe': 3771, 'uplift': 3772, 'vocal': 3773, 'virginia': 3774, 'marti': 3775, 'mesmer': 3776, 'chicken': 3777, 'dixon': 3778, 'vengeanc': 3779, 'closest': 3780, 'poem': 3781, '1968': 3782, 'volum': 3783, 'extens': 3784, 'calm': 3785, 'abraham': 3786, 'outing': 3787, 'clone': 3788, 'bay': 3789, 'quarter': 3790, 'secretli': 3791, 'sirk': 3792, 'numb': 3793, 'whine': 3794, 'iran': 3795, 'inject': 3796, 'habit': 3797, 'gerard': 3798, 'crystal': 3799, 'monologu': 3800, 'swallow': 3801, 'convincingli': 3802, 'climact': 3803, 'yawn': 3804, 'pokemon': 3805, 'tube': 3806, 'profan': 3807, 'suffic': 3808, 'giggl': 3809, 'mute': 3810, 'engross': 3811, 'lundgren': 3812, 'amitabh': 3813, 'paranoia': 3814, 'scottish': 3815, 'dispos': 3816, 'septemb': 3817, 'fed': 3818, 'taxi': 3819, 'profess': 3820, 'trend': 3821, 'austen': 3822, 'lowest': 3823, 'chicago': 3824, 'expand': 3825, 'frankenstein': 3826, 'linger': 3827, 'poetri': 3828, 'ethan': 3829, 'meander': 3830, 'surpass': 3831, 'junior': 3832, 'bend': 3833, 'earl': 3834, 'im': 3835, 'franci': 3836, 'abort': 3837, 'grotesqu': 3838, 'plod': 3839, 'richardson': 3840, 'backward': 3841, 'underst': 3842, 'nichola': 3843, 'spock': 3844, 'hum': 3845, 'myth': 3846, 'rubber': 3847, 'instrument': 3848, 'greedi': 3849, 'waitress': 3850, 'der': 3851, 'mundan': 3852, 'nostalgia': 3853, 'cannon': 3854, 'tourist': 3855, 'spoke': 3856, 'rant': 3857, 'household': 3858, 'stallon': 3859, 'econom': 3860, 'muddl': 3861, 'literatur': 3862, 'simplic': 3863, 'catchi': 3864, 'sue': 3865, 'descent': 3866, 'compliment': 3867, 'dysfunct': 3868, 'eugen': 3869, 'lure': 3870, 'bacal': 3871, 'dictat': 3872, 'coast': 3873, 'occupi': 3874, 'cent': 3875, 'carel': 3876, 'recognis': 3877, 'insur': 3878, 'omen': 3879, 'sissi': 3880, 'map': 3881, 'alongsid': 3882, 'mortal': 3883, 'recognit': 3884, 'flee': 3885, 'louis': 3886, 'crucial': 3887, 'damon': 3888, 'lang': 3889, 'randi': 3890, 'equival': 3891, 'phantom': 3892, 'eaten': 3893, 'june': 3894, 'furi': 3895, 'phoni': 3896, 'duck': 3897, 'dement': 3898, 'deaf': 3899, 'stale': 3900, 'firstli': 3901, 'hello': 3902, 'irrelev': 3903, 'molli': 3904, 'mankind': 3905, 'newli': 3906, 'rude': 3907, 'lengthi': 3908, 'daisi': 3909, 'cyborg': 3910, 'distinguish': 3911, 'heel': 3912, 'bump': 3913, 'dreari': 3914, 'grayson': 3915, '1973': 3916, 'labor': 3917, 'onlin': 3918, 'freez': 3919, 'ashley': 3920, 'bike': 3921, 'loyalti': 3922, 'damm': 3923, 'drake': 3924, 'likewis': 3925, 'antwon': 3926, 'blackmail': 3927, 'buffalo': 3928, 'biko': 3929, 'wisdom': 3930, 'twilight': 3931, 'rooney': 3932, 'reign': 3933, 'analysi': 3934, 'worn': 3935, 'exposur': 3936, 'keith': 3937, 'incorpor': 3938, 'barrymor': 3939, 'prey': 3940, 'approv': 3941, 'startl': 3942, 'butler': 3943, 'vein': 3944, 'pink': 3945, 'proce': 3946, 'basketbal': 3947, 'attribut': 3948, 'ridden': 3949, 'boxer': 3950, 'provoc': 3951, 'chronicl': 3952, 'baddi': 3953, 'tunnel': 3954, 'emphas': 3955, 'sailor': 3956, 'nineti': 3957, 'inher': 3958, 'unorigin': 3959, 'interior': 3960, 'millionair': 3961, 'nicol': 3962, 'othello': 3963, 'elm': 3964, 'meg': 3965, 'substitut': 3966, 'drift': 3967, 'condemn': 3968, 'meyer': 3969, 'er': 3970, 'degrad': 3971, 'barrel': 3972, 'improvis': 3973, 'robbin': 3974, 'walsh': 3975, 'belushi': 3976, 'unrel': 3977, 'mighti': 3978, 'bunni': 3979, 'indiffer': 3980, 'julian': 3981, 'carla': 3982, 'mormon': 3983, 'undeni': 3984, 'stalker': 3985, 'underli': 3986, 'predat': 3987, 'hypnot': 3988, 'fleet': 3989, 'simmon': 3990, 'shove': 3991, 'palac': 3992, 'alison': 3993, 'alarm': 3994, '3d': 3995, 'rukh': 3996, 'greed': 3997, 'roof': 3998, 'nyc': 3999, 'exquisit': 4000, 'edgi': 4001, 'hay': 4002, 'agenda': 4003, 'vital': 4004, 'mtv': 4005, 'lampoon': 4006, 'reid': 4007, 'warmth': 4008, 'watson': 4009, 'errol': 4010, 'unawar': 4011, 'disord': 4012, 'priceless': 4013, 'dolph': 4014, 'firm': 4015, 'novak': 4016, 'enthusiasm': 4017, 'marion': 4018, 'campaign': 4019, 'cassidi': 4020, 'pamela': 4021, 'crown': 4022, 'glanc': 4023, 'preserv': 4024, 'orlean': 4025, 'petti': 4026, 'session': 4027, 'ponder': 4028, 'simultan': 4029, 'testament': 4030, 'distort': 4031, 'profit': 4032, 'showdown': 4033, 'peck': 4034, 'israel': 4035, 'thompson': 4036, '13th': 4037, 'gestur': 4038, 'nun': 4039, 'angela': 4040, '1933': 4041, 'coup': 4042, 'peril': 4043, 'eastern': 4044, 'spain': 4045, 'iraq': 4046, 'minimum': 4047, 'beatl': 4048, 'unleash': 4049, 'sergeant': 4050, 'championship': 4051, 'randomli': 4052, 'what': 4053, 'valentin': 4054, 'drip': 4055, 'zizek': 4056, 'mon': 4057, '1984': 4058, 'realm': 4059, 'represent': 4060, 'contradict': 4061, 'gentleman': 4062, 'stroke': 4063, 'calib': 4064, 'fido': 4065, 'din': 4066, 'brenda': 4067, 'empathi': 4068, 'rout': 4069, 'wig': 4070, 'climat': 4071, 'cooki': 4072, 'cream': 4073, 'quinn': 4074, 'kurosawa': 4075, 'han': 4076, 'crow': 4077, 'miyazaki': 4078, 'jan': 4079, 'exposit': 4080, 'crawl': 4081, 'unimagin': 4082, 'valley': 4083, 'bro': 4084, 'perpetu': 4085, 'restrain': 4086, 'reson': 4087, 'travesti': 4088, 'shootout': 4089, 'buster': 4090, 'sabrina': 4091, 'regist': 4092, 'stake': 4093, 'scotland': 4094, 'femm': 4095, 'tacki': 4096, 'abomin': 4097, 'ross': 4098, 'monoton': 4099, '1987': 4100, 'sucker': 4101, 'josh': 4102, 'cloud': 4103, 'unsatisfi': 4104, 'passabl': 4105, 'fuller': 4106, 'businessman': 4107, '1997': 4108, 'meryl': 4109, 'mclaglen': 4110, 'distress': 4111, 'shoddi': 4112, 'greg': 4113, 'derang': 4114, 'unseen': 4115, 'perceiv': 4116, 'painter': 4117, 'demis': 4118, 'geek': 4119, 'pole': 4120, 'stargat': 4121, 'baldwin': 4122, 'sammi': 4123, 'pretens': 4124, 'wax': 4125, 'ustinov': 4126, 'spacey': 4127, 'soderbergh': 4128, 'absent': 4129, 'crawford': 4130, 'compromis': 4131, 'delic': 4132, 'traumat': 4133, 'darren': 4134, 'censor': 4135, 'dana': 4136, 'shaki': 4137, 'warrant': 4138, 'tech': 4139, 'expedit': 4140, 'antonioni': 4141, 'uncov': 4142, 'exclus': 4143, 'reluct': 4144, 'unravel': 4145, 'sid': 4146, 'dee': 4147, 'jewel': 4148, 'seal': 4149, 'anchor': 4150, 'polici': 4151, '1993': 4152, 'clash': 4153, 'nathan': 4154, 'fog': 4155, 'primit': 4156, 'accuraci': 4157, 'deniro': 4158, 'valid': 4159, 'verbal': 4160, 'tarantino': 4161, 'fenc': 4162, 'judgment': 4163, 'austin': 4164, 'click': 4165, 'kumar': 4166, 'wholli': 4167, 'norm': 4168, 'furiou': 4169, 'correctli': 4170, 'deceas': 4171, 'pocket': 4172, '3000': 4173, 'murray': 4174, 'wretch': 4175, 'nicola': 4176, 'trait': 4177, 'debt': 4178, 'malon': 4179, 'clerk': 4180, '1971': 4181, 'enforc': 4182, '1995': 4183, 'crippl': 4184, 'temper': 4185, 'mode': 4186, 'sheet': 4187, 'joel': 4188, 'fought': 4189, 'sunni': 4190, 'logan': 4191, 'behold': 4192, 'fabric': 4193, 'hallucin': 4194, 'tax': 4195, '2008': 4196, 'alec': 4197, 'dreck': 4198, 'fart': 4199, 'patienc': 4200, 'roller': 4201, 'seldom': 4202, 'wang': 4203, 'unfair': 4204, 'slam': 4205, 'bake': 4206, 'ritual': 4207, 'shanghai': 4208, 'conduct': 4209, 'darn': 4210, 'vanc': 4211, 'sustain': 4212, 'sand': 4213, 'runner': 4214, 'stark': 4215, 'schedul': 4216, 'squad': 4217, 'clau': 4218, 'guitar': 4219, 'exhaust': 4220, 'grief': 4221, 'technicolor': 4222, 'sweep': 4223, 'rita': 4224, 'helpless': 4225, 'legaci': 4226, 'preston': 4227, 'soup': 4228, 'conscious': 4229, 'canyon': 4230, 'despis': 4231, 'pete': 4232, 'critiqu': 4233, 'tactic': 4234, 'fundament': 4235, 'outlin': 4236, 'shell': 4237, 'isabel': 4238, 'scriptwrit': 4239, 'divid': 4240, 'penni': 4241, 'robber': 4242, 'phil': 4243, 'bias': 4244, 'stuart': 4245, 'preposter': 4246, 'bridget': 4247, 'flair': 4248, 'invad': 4249, 'delv': 4250, 'culmin': 4251, 'lacklust': 4252, 'kansa': 4253, 'agenc': 4254, 'marc': 4255, 'alley': 4256, 'downey': 4257, 'newman': 4258, 'passag': 4259, 'gregori': 4260, 'rehash': 4261, 'jacket': 4262, 'consciou': 4263, 'alicia': 4264, 'cigarett': 4265, 'boyl': 4266, 'rear': 4267, 'inabl': 4268, 'liberti': 4269, 'drove': 4270, 'sugar': 4271, 'unexpectedli': 4272, 'connor': 4273, 'russia': 4274, 'sniper': 4275, 'propos': 4276, 'vomit': 4277, 'implic': 4278, 'jodi': 4279, 'restrict': 4280, 'palanc': 4281, 'sentinel': 4282, 'bloom': 4283, 'tripe': 4284, 'rehears': 4285, 'rampag': 4286, 'foxx': 4287, '22': 4288, 'chainsaw': 4289, 'cap': 4290, '1936': 4291, 'wrench': 4292, 'tendenc': 4293, 'ladder': 4294, 'awhil': 4295, 'improb': 4296, 'aesthet': 4297, 'asylum': 4298, 'rod': 4299, 'karl': 4300, 'yeti': 4301, 'feat': 4302, 'pale': 4303, 'delet': 4304, 'horn': 4305, 'lush': 4306, 'arrow': 4307, 'behaviour': 4308, 'mccoy': 4309, 'sharon': 4310, 'bacon': 4311, 'vet': 4312, 'kolchak': 4313, 'tomorrow': 4314, 'conscienc': 4315, 'filler': 4316, '1988': 4317, '1978': 4318, 'el': 4319, 'paradis': 4320, 'suspicion': 4321, 'lurk': 4322, 'amazon': 4323, 'spice': 4324, 'aristocrat': 4325, 'elit': 4326, 'paramount': 4327, 'underneath': 4328, 'weav': 4329, 'scoop': 4330, 'basing': 4331, 'tasteless': 4332, 'stream': 4333, 'visitor': 4334, 'hungri': 4335, 'prank': 4336, 'wildli': 4337, 'globe': 4338, 'suffici': 4339, 'financ': 4340, 'rhythm': 4341, 'hackney': 4342, 'rumor': 4343, '1920': 4344, 'fright': 4345, 'sung': 4346, 'minu': 4347, 'loneli': 4348, '19th': 4349, 'newcom': 4350, 'shortcom': 4351, 'coaster': 4352, 'wagner': 4353, 'hulk': 4354, 'thunderbird': 4355, 'tierney': 4356, 'brit': 4357, 'bread': 4358, 'teas': 4359, 'couch': 4360, 'secondari': 4361, 'immers': 4362, 'standout': 4363, 'impos': 4364, 'worship': 4365, 'hopkin': 4366, 'heist': 4367, 'inmat': 4368, '1989': 4369, 'rub': 4370, 'abrupt': 4371, 'springer': 4372, 'naughti': 4373, 'chavez': 4374, 'recogniz': 4375, 'en': 4376, '75': 4377, 'literari': 4378, 'leigh': 4379, 'iv': 4380, 'ram': 4381, 'atroc': 4382, 'counterpart': 4383, 'straightforward': 4384, 'entranc': 4385, 'cancer': 4386, 'ingeni': 4387, 'curli': 4388, 'choppi': 4389, 'quietli': 4390, 'chamberlain': 4391, 'dirt': 4392, 'beverli': 4393, 'paxton': 4394, 'lectur': 4395, 'smell': 4396, 'grudg': 4397, 'posey': 4398, '1939': 4399, 'penn': 4400, 'minist': 4401, 'wwe': 4402, 'convert': 4403, 'bernard': 4404, 'misguid': 4405, 'sassi': 4406, 'skeptic': 4407, 'laurenc': 4408, 'watcher': 4409, 'duel': 4410, 'esther': 4411, 'missil': 4412, 'nemesi': 4413, 'entitl': 4414, 'quaid': 4415, 'heartfelt': 4416, 'enthral': 4417, 'variat': 4418, 'nolan': 4419, 'geni': 4420, 'moreov': 4421, '1986': 4422, 'ace': 4423, 'cattl': 4424, 'transcend': 4425, 'ratso': 4426, 'lindsay': 4427, 'yearn': 4428, 'net': 4429, 'injuri': 4430, 'sublim': 4431, 'clan': 4432, 'morbid': 4433, 'attenborough': 4434, 'policeman': 4435, 'kidman': 4436, 'spiral': 4437, 'moder': 4438, 'enabl': 4439, 'unexplain': 4440, 'steadi': 4441, 'bye': 4442, 'kitti': 4443, 'reliabl': 4444, 'characteris': 4445, 'rosemari': 4446, 'egg': 4447, 'tyler': 4448, 'cruelti': 4449, 'graini': 4450, 'artsi': 4451, 'obstacl': 4452, 'vader': 4453, 'setup': 4454, 'out': 4455, 'puppi': 4456, 'brood': 4457, '1979': 4458, 'carlito': 4459, 'hopelessli': 4460, 'diari': 4461, 'mytholog': 4462, 'grin': 4463, 'buzz': 4464, 'facil': 4465, 'poe': 4466, 'youngest': 4467, 'uncut': 4468, 'bean': 4469, 'dont': 4470, 'hk': 4471, 'spontan': 4472, '1969': 4473, 'gina': 4474, 'gillian': 4475, 'oblig': 4476, 'underworld': 4477, 'exterior': 4478, 'effici': 4479, 'fuel': 4480, 'patricia': 4481, 'bronson': 4482, 'heap': 4483, 'clueless': 4484, 'weather': 4485, 'bounc': 4486, 'bewar': 4487, 'martha': 4488, 'acquaint': 4489, 'hammi': 4490, 'disastr': 4491, 'preming': 4492, 'decept': 4493, 'christin': 4494, 'baffl': 4495, 'sweat': 4496, 'athlet': 4497, 'despic': 4498, 'kline': 4499, 'narrow': 4500, 'niec': 4501, 'hain': 4502, 'brendan': 4503, 'renaiss': 4504, 'harmless': 4505, 'uh': 4506, 'hepburn': 4507, 'mayhem': 4508, 'trigger': 4509, 'goof': 4510, 'preachi': 4511, 'viewpoint': 4512, 'loath': 4513, 'tick': 4514, 'taboo': 4515, 'candl': 4516, 'shatter': 4517, 'astound': 4518, 'dilemma': 4519, 'enlist': 4520, 'circu': 4521, '73': 4522, 'analyz': 4523, 'sooner': 4524, 'virtu': 4525, 'outlaw': 4526, 'rome': 4527, 'biker': 4528, 'insipid': 4529, '19': 4530, 'housewif': 4531, 'suprem': 4532, 'injur': 4533, 'lester': 4534, 'fontain': 4535, 'angst': 4536, 'scar': 4537, 'dandi': 4538, 'loi': 4539, 'sleepwalk': 4540, 'headach': 4541, 'mermaid': 4542, 'zoom': 4543, 'boston': 4544, 'slimi': 4545, 'intric': 4546, 'amor': 4547, 'sox': 4548, 'stair': 4549, 'hooker': 4550, 'glorifi': 4551, 'bent': 4552, 'claustrophob': 4553, 'ebert': 4554, 'fluff': 4555, 'oldest': 4556, 'steer': 4557, 'macho': 4558, 'filth': 4559, 'surgeri': 4560, 'dismal': 4561, 'hokey': 4562, 'scorses': 4563, 'hostag': 4564, 'redund': 4565, 'foolish': 4566, 'tripl': 4567, 'camcord': 4568, 'immatur': 4569, 'phenomenon': 4570, 'guin': 4571, 'salt': 4572, 'gere': 4573, 'spade': 4574, 'stimul': 4575, 'cassavet': 4576, 'overlong': 4577, 'whore': 4578, 'idol': 4579, 'contempt': 4580, 'dish': 4581, 'ariel': 4582, 'corbett': 4583, 'fascist': 4584, 'obligatori': 4585, '1976': 4586, 'flag': 4587, 'flirt': 4588, 'shred': 4589, 'cow': 4590, 'conquer': 4591, 'down': 4592, 'mutual': 4593, 'perman': 4594, 'naschi': 4595, 'remad': 4596, 'strongest': 4597, 'trivia': 4598, '1981': 4599, 'frantic': 4600, 'faint': 4601, 'assert': 4602, 'widescreen': 4603, 'transplant': 4604, 'dwarf': 4605, 'joker': 4606, 'spinal': 4607, 'cush': 4608, 'zane': 4609, 'cohen': 4610, 'muscl': 4611, 'messi': 4612, 'harold': 4613, 'corman': 4614, 'proport': 4615, 'radiat': 4616, 'gabl': 4617, 'spree': 4618, 'preced': 4619, 'nolt': 4620, 'keen': 4621, 'gasp': 4622, 'antagonist': 4623, 'beard': 4624, 'shield': 4625, 'mount': 4626, 'flashi': 4627, 'schlock': 4628, 'rhyme': 4629, 'margin': 4630, 'alvin': 4631, 'astronaut': 4632, '1945': 4633, 'sensual': 4634, 'mol': 4635, 'brush': 4636, 'discern': 4637, '95': 4638, 'resum': 4639, 'inflict': 4640, 'flock': 4641, '28': 4642, 'vaniti': 4643, 'fishburn': 4644, 'triangl': 4645, 'deer': 4646, 'barn': 4647, 'persuad': 4648, 'danish': 4649, 'off': 4650, 'someday': 4651, 'departur': 4652, 'interestingli': 4653, 'divin': 4654, 'info': 4655, 'claud': 4656, 'carey': 4657, 'wield': 4658, 'instruct': 4659, 'www': 4660, 'boob': 4661, 'archiv': 4662, 'hara': 4663, 'repris': 4664, 'mobil': 4665, 'bachelor': 4666, 'aborigin': 4667, 'strive': 4668, 'scandal': 4669, 'raj': 4670, 'ritchi': 4671, 'neurot': 4672, 'bitten': 4673, 'carlo': 4674, 'rot': 4675, 'recit': 4676, 'hapless': 4677, 'cycl': 4678, 'dame': 4679, 'loretta': 4680, 'melissa': 4681, 'proclaim': 4682, 'colin': 4683, 'biblic': 4684, 'jade': 4685, 'axe': 4686, 'dim': 4687, 'traffic': 4688, 'timberlak': 4689, 'dylan': 4690, 'banter': 4691, 'harrison': 4692, 'neill': 4693, 'prophet': 4694, 'artwork': 4695, 'cb': 4696, 'pacif': 4697, 'cliffhang': 4698, 'frontier': 4699, 'senior': 4700, 'ish': 4701, 'hug': 4702, 'clad': 4703, 'heartwarm': 4704, 'submit': 4705, 'hilar': 4706, 'bate': 4707, 'helm': 4708, 'miracul': 4709, 'undermin': 4710, 'kathryn': 4711, 'cher': 4712, 'mobster': 4713, 'vibrant': 4714, 'casino': 4715, 'parson': 4716, 'fragil': 4717, 'pixar': 4718, 'earnest': 4719, 'anton': 4720, 'luka': 4721, 'wendigo': 4722, 'europa': 4723, 'pickford': 4724, 'seedi': 4725, 'lui': 4726, 'bondag': 4727, 'sicken': 4728, 'legitim': 4729, 'bikini': 4730, 'mason': 4731, 'misfortun': 4732, 'illus': 4733, 'cerebr': 4734, 'redneck': 4735, 'electron': 4736, 'isra': 4737, 'choke': 4738, 'wardrob': 4739, 'lucil': 4740, 'uma': 4741, 'nope': 4742, 'blatantli': 4743, 'aris': 4744, 'toronto': 4745, 'akin': 4746, 'foil': 4747, 'token': 4748, 'vile': 4749, 'shepherd': 4750, 'breakfast': 4751, 'articl': 4752, 'northern': 4753, 'holocaust': 4754, 'estrang': 4755, 'http': 4756, 'orphan': 4757, 'feast': 4758, 'alexandr': 4759, 'vanessa': 4760, 'pc': 4761, 'razor': 4762, 'milo': 4763, 'eli': 4764, 'venom': 4765, 'mathieu': 4766, 'jordan': 4767, 'jo': 4768, 'rooki': 4769, 'static': 4770, 'flavor': 4771, 'marlon': 4772, 'antholog': 4773, 'trier': 4774, 'winchest': 4775, 'styliz': 4776, 'retriev': 4777, 'shorter': 4778, 'boyer': 4779, 'audrey': 4780, 'glare': 4781, 'knightley': 4782, 'outdat': 4783, 'peer': 4784, 'huston': 4785, 'tack': 4786, 'disregard': 4787, 'gilbert': 4788, 'dudley': 4789, 'psych': 4790, 'nightclub': 4791, 'gunga': 4792, 'clinic': 4793, 'smack': 4794, 'highway': 4795, 'linear': 4796, 'howl': 4797, 'ceremoni': 4798, 'ideolog': 4799, 'feminin': 4800, 'fifth': 4801, 'cartoonish': 4802, 'swept': 4803, 'leather': 4804, 'affleck': 4805, 'deem': 4806, 'wrestler': 4807, 'turd': 4808, 'magician': 4809, 'frog': 4810, 'comprehend': 4811, 'oppon': 4812, 'abund': 4813, 'charlton': 4814, 'newer': 4815, 'corn': 4816, 'cuban': 4817, 'client': 4818, 'btw': 4819, 'lavish': 4820, 'chip': 4821, 'whack': 4822, 'greet': 4823, 'bastard': 4824, 'uniformli': 4825, 'moe': 4826, 'energet': 4827, 'cemeteri': 4828, 'toe': 4829, 'bogu': 4830, 'braveheart': 4831, 'collector': 4832, 'summar': 4833, 'durat': 4834, 'salman': 4835, 'snatch': 4836, 'mitch': 4837, 'conrad': 4838, 'spine': 4839, '1991': 4840, 'deliver': 4841, '4th': 4842, 'lighter': 4843, 'monument': 4844, 'evolut': 4845, 'plate': 4846, 'boo': 4847, '1994': 4848, 'phenomen': 4849, 'spawn': 4850, 'senat': 4851, 'tara': 4852, 'sleaz': 4853, 'potter': 4854, 'breakdown': 4855, 'compris': 4856, 'lifeless': 4857, 'einstein': 4858, 'goldsworthi': 4859, 'fluid': 4860, 'constitut': 4861, 'jule': 4862, 'nina': 4863, 'jam': 4864, 'ie': 4865, 'undead': 4866, 'belli': 4867, 'judd': 4868, 'liu': 4869, 'bori': 4870, '1977': 4871, 'armstrong': 4872, 'appl': 4873, 'embark': 4874, 'evelyn': 4875, 'wtf': 4876, 'lex': 4877, 'kent': 4878, 'inaccuraci': 4879, 'capot': 4880, 'alleg': 4881, 'ol': 4882, 'occup': 4883, '1974': 4884, 'jedi': 4885, 'signal': 4886, 'gilliam': 4887, 'jare': 4888, 'firmli': 4889, 'eleven': 4890, 'spectacl': 4891, 'healthi': 4892, 'trauma': 4893, 'clara': 4894, 'bulk': 4895, 'neatli': 4896, 'cecil': 4897, 'pronounc': 4898, 'undertak': 4899, 'outright': 4900, 'historian': 4901, 'luxuri': 4902, 'sorrow': 4903, 'mcqueen': 4904, 'kazan': 4905, 'randolph': 4906, 'replay': 4907, 'creek': 4908, 'genet': 4909, 'lauren': 4910, 'forgiven': 4911, 'porter': 4912, 'antonio': 4913, 'carmen': 4914, '1985': 4915, 'unsuspect': 4916, 'subtli': 4917, 'basket': 4918, 'comb': 4919, 'mum': 4920, 'propheci': 4921, 'spray': 4922, 'paula': 4923, 'kiddi': 4924, 'miniseri': 4925, 'vignett': 4926, 'curtain': 4927, 'decapit': 4928, 'inaccur': 4929, 'truman': 4930, 'bait': 4931, 'relentless': 4932, 'palm': 4933, 'knee': 4934, 'aussi': 4935, 'vain': 4936, 'blur': 4937, 'conan': 4938, 'ash': 4939, 'poker': 4940, 'abound': 4941, 'lanc': 4942, 'pioneer': 4943, 'rosario': 4944, 'congratul': 4945, 'miami': 4946, 'inclus': 4947, 'unattract': 4948, 'sacrif': 4949, 'meal': 4950, 'galaxi': 4951, 'groan': 4952, 'id': 4953, 'walt': 4954, 'comprehens': 4955, 'pepper': 4956, 'fruit': 4957, 'goldblum': 4958, 'sidewalk': 4959, 'roar': 4960, 'bsg': 4961, 'tokyo': 4962, 'cape': 4963, 'playboy': 4964, 'scarfac': 4965, 'sophi': 4966, 'orchestr': 4967, 'optimist': 4968, 'cypher': 4969, 'mice': 4970, 'bach': 4971, 'incorrect': 4972, 'weaker': 4973, 'scariest': 4974, 'epitom': 4975, 'spill': 4976, 'dubiou': 4977, 'handicap': 4978, 'bravo': 4979, 'hostil': 4980, 'hackman': 4981, 'reincarn': 4982, 'vastli': 4983, 'rapidli': 4984, 'motorcycl': 4985, 'detach': 4986, 'omin': 4987, 'drone': 4988, 'weari': 4989, 'profil': 4990, 'substanti': 4991, 'frontal': 4992, 'victorian': 4993, 'asset': 4994, 'masterson': 4995, 'ghetto': 4996, '21st': 4997, 'jill': 4998, 'growth': 4999}\n"
     ]
    }
   ],
   "source": [
    "###I used this cell to build my solution to the above problem incrimentally.\n",
    "\n",
    "count = 0 \n",
    "test_dict = {}\n",
    "for sent in train_X:\n",
    "    for word in sent:\n",
    "        if word in test_dict:\n",
    "            test_dict[word] += 1\n",
    "        else:\n",
    "            test_dict[word] = 1\n",
    "test_sort = []\n",
    "for key, value in sorted(test_dict.items(), key = lambda item: item[1], reverse = True):\n",
    "    test_sort.append(key)\n",
    "test_dict = {} \n",
    "for idx, word in enumerate(test_sort[:5000-2]):\n",
    "    test_dict[word] = idx + 2\n",
    "print(test_dict)"
   ]
  },
  {
   "cell_type": "markdown",
   "metadata": {},
   "source": [
    "**Answer:** See below. I am suprised that the words \"one\" \"like\" and \"time\" are so highly ranked. I guess these are basic vocabulary words reviewers use to talk about a film regardless of if they really \"liked\" or really didn't \"like\" the film."
   ]
  },
  {
   "cell_type": "code",
   "execution_count": 17,
   "metadata": {},
   "outputs": [
    {
     "name": "stdout",
     "output_type": "stream",
     "text": [
      "movi\n",
      "film\n",
      "one\n",
      "like\n",
      "time\n"
     ]
    }
   ],
   "source": [
    "# TODO: Use this space to determine the five most frequently appearing words in the training set.\n",
    "count = 0 \n",
    "for key, value in word_dict.items():\n",
    "    print(key)\n",
    "    count += 1\n",
    "    if count == 5:\n",
    "        break;\n"
   ]
  },
  {
   "cell_type": "markdown",
   "metadata": {},
   "source": [
    "### Save `word_dict`\n",
    "\n",
    "Later on when we construct an endpoint which processes a submitted review we will need to make use of the `word_dict` which we have created. As such, we will save it to a file now for future use."
   ]
  },
  {
   "cell_type": "code",
   "execution_count": 18,
   "metadata": {},
   "outputs": [],
   "source": [
    "data_dir = '../data/pytorch' # The folder we will use for storing data\n",
    "if not os.path.exists(data_dir): # Make sure that the folder exists\n",
    "    os.makedirs(data_dir)"
   ]
  },
  {
   "cell_type": "code",
   "execution_count": 19,
   "metadata": {},
   "outputs": [],
   "source": [
    "with open(os.path.join(data_dir, 'word_dict.pkl'), \"wb\") as f:\n",
    "    pickle.dump(word_dict, f)"
   ]
  },
  {
   "cell_type": "markdown",
   "metadata": {},
   "source": [
    "### Transform the reviews\n",
    "\n",
    "Now that we have our word dictionary which allows us to transform the words appearing in the reviews into integers, it is time to make use of it and convert our reviews to their integer sequence representation, making sure to pad or truncate to a fixed length, which in our case is `500`."
   ]
  },
  {
   "cell_type": "code",
   "execution_count": 20,
   "metadata": {},
   "outputs": [],
   "source": [
    "def convert_and_pad(word_dict, sentence, pad=500):\n",
    "    NOWORD = 0 # We will use 0 to represent the 'no word' category\n",
    "    INFREQ = 1 # and we use 1 to represent the infrequent words, i.e., words not appearing in word_dict\n",
    "    \n",
    "    working_sentence = [NOWORD] * pad\n",
    "    \n",
    "    for word_index, word in enumerate(sentence[:pad]):\n",
    "        if word in word_dict:\n",
    "            working_sentence[word_index] = word_dict[word]\n",
    "        else:\n",
    "            working_sentence[word_index] = INFREQ\n",
    "            \n",
    "    return working_sentence, min(len(sentence), pad)\n",
    "\n",
    "def convert_and_pad_data(word_dict, data, pad=500):\n",
    "    result = []\n",
    "    lengths = []\n",
    "    \n",
    "    for sentence in data:\n",
    "        converted, leng = convert_and_pad(word_dict, sentence, pad)\n",
    "        result.append(converted)\n",
    "        lengths.append(leng)\n",
    "        \n",
    "    return np.array(result), np.array(lengths)"
   ]
  },
  {
   "cell_type": "code",
   "execution_count": 21,
   "metadata": {},
   "outputs": [],
   "source": [
    "train_X, train_X_len = convert_and_pad_data(word_dict, train_X)\n",
    "test_X, test_X_len = convert_and_pad_data(word_dict, test_X)"
   ]
  },
  {
   "cell_type": "markdown",
   "metadata": {},
   "source": [
    "As a quick check to make sure that things are working as intended, check to see what one of the reviews in the training set looks like after having been processeed. Does this look reasonable? What is the length of a review in the training set?"
   ]
  },
  {
   "cell_type": "code",
   "execution_count": 22,
   "metadata": {},
   "outputs": [
    {
     "name": "stdout",
     "output_type": "stream",
     "text": [
      "[   1    1 1079 1168 3264 4214 2050  432 1436 1469   92 4314  123   17\n",
      "  218  549  709  192  783 4504  493 1402   44    8    1  276 3706  137\n",
      "  111   11 1647  166 1366    3 1128    1 4472 1330 3180 1392 2882 2662\n",
      " 2148 3934    1   10    1    1 1380  976  809 2709 2108 2981   14 3464\n",
      "   52    1  990   41  128    1  450  922    9 1953  685   23    1    3\n",
      "  143   66 1865 3049 2108  514    1   65   75  104 1063  660  651 1064\n",
      " 1211  192 4215 2829  247 1696  363 1593 2394 1543    1  781 1040    1\n",
      "    3   19    5 1219  192 2050  432 4860    1  354 4776    1    1   26\n",
      "    1    1 1358  172   21  427   27  615    1  225  112   48  586 3845\n",
      " 3150 1549  550   85 1052    1 1942    1  492   93 4139 3265 3585  468\n",
      "    3 4543    1 3376 3028    1 1280  463 2226  167    1    1    1   75\n",
      " 2196    1   30 4860    1  166 1079 1168 4909 2744 1398  177  397 1710\n",
      "  107 1534    1  384   29    1    1  373  178 3085  601  550 1333    1\n",
      " 1477 3112   55   48  902  228 2502  326   61 4777    1  326 1671    1\n",
      "  541   27  159   29 1242  252 1663   29 1242  121   38   92 4504  954\n",
      "   67  993    1   48 1059    1 2503 1159  430  523 2162 2163  616    1\n",
      " 2210 4095 2013 1740  970 1243 1543 4725    1  204 2055 3416  372  122\n",
      "  385  685 1832    1   13    3   15 1922 2180  179 2830    1  192 2083\n",
      "  213    1  527    9  387  155  607 2491  638 1125    1 1065 1529 1202\n",
      " 1727   93  456   10 3991 1159  214 1522  388  338   52 1769   39   74\n",
      "   93  117  516 1866  134    1   41   82 2013   41  990   10   25  122\n",
      "  685   97 1477 3112  163  324 1369 1516  178 1032  601    9    4   86\n",
      " 4504   47 3311  378  680  142    4    1    1  271 2143  344    3  357\n",
      "    1  850  846  514 3935  913  378  680    1   36 2437 1000 4778 2349\n",
      "   69  848 3150  448  154  365  624   83    0    0    0    0    0    0\n",
      "    0    0    0    0    0    0    0    0    0    0    0    0    0    0\n",
      "    0    0    0    0    0    0    0    0    0    0    0    0    0    0\n",
      "    0    0    0    0    0    0    0    0    0    0    0    0    0    0\n",
      "    0    0    0    0    0    0    0    0    0    0    0    0    0    0\n",
      "    0    0    0    0    0    0    0    0    0    0    0    0    0    0\n",
      "    0    0    0    0    0    0    0    0    0    0    0    0    0    0\n",
      "    0    0    0    0    0    0    0    0    0    0    0    0    0    0\n",
      "    0    0    0    0    0    0    0    0    0    0    0    0    0    0\n",
      "    0    0    0    0    0    0    0    0    0    0    0    0    0    0\n",
      "    0    0    0    0    0    0    0    0    0    0    0    0    0    0\n",
      "    0    0    0    0    0    0    0    0    0    0]\n"
     ]
    }
   ],
   "source": [
    "# Use this cell to examine one of the processed reviews to make sure everything is working as intended.\n",
    "print(train_X[0])"
   ]
  },
  {
   "cell_type": "markdown",
   "metadata": {},
   "source": [
    "**Question:** In the cells above we use the `preprocess_data` and `convert_and_pad_data` methods to process both the training and testing set. Why or why not might this be a problem?"
   ]
  },
  {
   "cell_type": "markdown",
   "metadata": {},
   "source": [
    "**Answer:** \n",
    "Pre-processing the data may be an issue. Specifically, the uncommon words. As you can see in the above review, this value of \"1\" is assigned a lot. I think there should be some analysis put into selecting an optimal word_dict size. At present we do not know if our word_dict is restrictive to our models ability to learn. \n",
    "\n",
    "I feel that the padding step is necessary as the reviews vary significantly in length.\n",
    "\n",
    "Lastly, to address the question of using the same method on training and testing data. The processing steps are required for comparison. The network requires a consistent input of 500 characters. Additionally, using the same vocabulary size is important.\n",
    "\n",
    "However, it might be useful to add noise to the training data in particular to improve model performance. For instance, the training input could have a random chance of skipping a particular word. This may improve the model output for test data because the model would learn a more robust assosciation between input and class assignment."
   ]
  },
  {
   "cell_type": "markdown",
   "metadata": {},
   "source": [
    "## Step 3: Upload the data to S3\n",
    "\n",
    "As in the XGBoost notebook, we will need to upload the training dataset to S3 in order for our training code to access it. For now we will save it locally and we will upload to S3 later on.\n",
    "\n",
    "### Save the processed training dataset locally\n",
    "\n",
    "It is important to note the format of the data that we are saving as we will need to know it when we write the training code. In our case, each row of the dataset has the form `label`, `length`, `review[500]` where `review[500]` is a sequence of `500` integers representing the words in the review."
   ]
  },
  {
   "cell_type": "code",
   "execution_count": 23,
   "metadata": {},
   "outputs": [],
   "source": [
    "import pandas as pd\n",
    "    \n",
    "pd.concat([pd.DataFrame(train_y), pd.DataFrame(train_X_len), pd.DataFrame(train_X)], axis=1) \\\n",
    "        .to_csv(os.path.join(data_dir, 'train.csv'), header=False, index=False)"
   ]
  },
  {
   "cell_type": "markdown",
   "metadata": {},
   "source": [
    "### Uploading the training data\n",
    "\n",
    "\n",
    "Next, we need to upload the training data to the SageMaker default S3 bucket so that we can provide access to it while training our model."
   ]
  },
  {
   "cell_type": "code",
   "execution_count": 24,
   "metadata": {},
   "outputs": [],
   "source": [
    "import sagemaker\n",
    "\n",
    "sagemaker_session = sagemaker.Session()\n",
    "\n",
    "bucket = sagemaker_session.default_bucket()\n",
    "prefix = 'sagemaker/sentiment_rnn'\n",
    "\n",
    "role = sagemaker.get_execution_role()"
   ]
  },
  {
   "cell_type": "code",
   "execution_count": 25,
   "metadata": {},
   "outputs": [],
   "source": [
    "input_data = sagemaker_session.upload_data(path=data_dir, bucket=bucket, key_prefix=prefix)"
   ]
  },
  {
   "cell_type": "markdown",
   "metadata": {},
   "source": [
    "**NOTE:** The cell above uploads the entire contents of our data directory. This includes the `word_dict.pkl` file. This is fortunate as we will need this later on when we create an endpoint that accepts an arbitrary review. For now, we will just take note of the fact that it resides in the data directory (and so also in the S3 training bucket) and that we will need to make sure it gets saved in the model directory."
   ]
  },
  {
   "cell_type": "markdown",
   "metadata": {},
   "source": [
    "## Step 4: Build and Train the PyTorch Model\n",
    "\n",
    "In the XGBoost notebook we discussed what a model is in the SageMaker framework. In particular, a model comprises three objects\n",
    "\n",
    " - Model Artifacts,\n",
    " - Training Code, and\n",
    " - Inference Code,\n",
    " \n",
    "each of which interact with one another. In the XGBoost example we used training and inference code that was provided by Amazon. Here we will still be using containers provided by Amazon with the added benefit of being able to include our own custom code.\n",
    "\n",
    "We will start by implementing our own neural network in PyTorch along with a training script. For the purposes of this project we have provided the necessary model object in the `model.py` file, inside of the `train` folder. You can see the provided implementation by running the cell below."
   ]
  },
  {
   "cell_type": "code",
   "execution_count": 26,
   "metadata": {},
   "outputs": [
    {
     "name": "stdout",
     "output_type": "stream",
     "text": [
      "\u001b[34mimport\u001b[39;49;00m \u001b[04m\u001b[36mtorch.nn\u001b[39;49;00m \u001b[34mas\u001b[39;49;00m \u001b[04m\u001b[36mnn\u001b[39;49;00m\r\n",
      "\r\n",
      "\u001b[34mclass\u001b[39;49;00m \u001b[04m\u001b[32mLSTMClassifier\u001b[39;49;00m(nn.Module):\r\n",
      "    \u001b[33m\"\"\"\u001b[39;49;00m\r\n",
      "\u001b[33m    This is the simple RNN model we will be using to perform Sentiment Analysis.\u001b[39;49;00m\r\n",
      "\u001b[33m    \"\"\"\u001b[39;49;00m\r\n",
      "\r\n",
      "    \u001b[34mdef\u001b[39;49;00m \u001b[32m__init__\u001b[39;49;00m(\u001b[36mself\u001b[39;49;00m, embedding_dim, hidden_dim, vocab_size):\r\n",
      "        \u001b[33m\"\"\"\u001b[39;49;00m\r\n",
      "\u001b[33m        Initialize the model by settingg up the various layers.\u001b[39;49;00m\r\n",
      "\u001b[33m        \"\"\"\u001b[39;49;00m\r\n",
      "        \u001b[36msuper\u001b[39;49;00m(LSTMClassifier, \u001b[36mself\u001b[39;49;00m).\u001b[32m__init__\u001b[39;49;00m()\r\n",
      "\r\n",
      "        \u001b[36mself\u001b[39;49;00m.embedding = nn.Embedding(vocab_size, embedding_dim, padding_idx=\u001b[34m0\u001b[39;49;00m)\r\n",
      "        \u001b[36mself\u001b[39;49;00m.lstm = nn.LSTM(embedding_dim, hidden_dim)\r\n",
      "        \u001b[36mself\u001b[39;49;00m.dense = nn.Linear(in_features=hidden_dim, out_features=\u001b[34m1\u001b[39;49;00m)\r\n",
      "        \u001b[36mself\u001b[39;49;00m.sig = nn.Sigmoid()\r\n",
      "        \r\n",
      "        \u001b[36mself\u001b[39;49;00m.word_dict = \u001b[36mNone\u001b[39;49;00m\r\n",
      "\r\n",
      "    \u001b[34mdef\u001b[39;49;00m \u001b[32mforward\u001b[39;49;00m(\u001b[36mself\u001b[39;49;00m, x):\r\n",
      "        \u001b[33m\"\"\"\u001b[39;49;00m\r\n",
      "\u001b[33m        Perform a forward pass of our model on some input.\u001b[39;49;00m\r\n",
      "\u001b[33m        \"\"\"\u001b[39;49;00m\r\n",
      "        x = x.t()\r\n",
      "        lengths = x[\u001b[34m0\u001b[39;49;00m,:]\r\n",
      "        reviews = x[\u001b[34m1\u001b[39;49;00m:,:]\r\n",
      "        embeds = \u001b[36mself\u001b[39;49;00m.embedding(reviews)\r\n",
      "        lstm_out, _ = \u001b[36mself\u001b[39;49;00m.lstm(embeds)\r\n",
      "        out = \u001b[36mself\u001b[39;49;00m.dense(lstm_out)\r\n",
      "        out = out[lengths - \u001b[34m1\u001b[39;49;00m, \u001b[36mrange\u001b[39;49;00m(\u001b[36mlen\u001b[39;49;00m(lengths))]\r\n",
      "        \u001b[34mreturn\u001b[39;49;00m \u001b[36mself\u001b[39;49;00m.sig(out.squeeze())\r\n"
     ]
    }
   ],
   "source": [
    "!pygmentize train/model.py"
   ]
  },
  {
   "cell_type": "markdown",
   "metadata": {},
   "source": [
    "The important takeaway from the implementation provided is that there are three parameters that we may wish to tweak to improve the performance of our model. These are the embedding dimension, the hidden dimension and the size of the vocabulary. We will likely want to make these parameters configurable in the training script so that if we wish to modify them we do not need to modify the script itself. We will see how to do this later on. To start we will write some of the training code in the notebook so that we can more easily diagnose any issues that arise.\n",
    "\n",
    "First we will load a small portion of the training data set to use as a sample. It would be very time consuming to try and train the model completely in the notebook as we do not have access to a gpu and the compute instance that we are using is not particularly powerful. However, we can work on a small bit of the data to get a feel for how our training script is behaving."
   ]
  },
  {
   "cell_type": "code",
   "execution_count": 27,
   "metadata": {},
   "outputs": [],
   "source": [
    "import torch\n",
    "import torch.utils.data\n",
    "\n",
    "# Read in only the first 250 rows\n",
    "train_sample = pd.read_csv(os.path.join(data_dir, 'train.csv'), header=None, names=None, nrows=250)\n",
    "\n",
    "# Turn the input pandas dataframe into tensors\n",
    "train_sample_y = torch.from_numpy(train_sample[[0]].values).float().squeeze()\n",
    "train_sample_X = torch.from_numpy(train_sample.drop([0], axis=1).values).long()\n",
    "\n",
    "# Build the dataset\n",
    "train_sample_ds = torch.utils.data.TensorDataset(train_sample_X, train_sample_y)\n",
    "# Build the dataloader\n",
    "train_sample_dl = torch.utils.data.DataLoader(train_sample_ds, batch_size=50)"
   ]
  },
  {
   "cell_type": "markdown",
   "metadata": {},
   "source": [
    "### (TODO) Writing the training method\n",
    "\n",
    "Next we need to write the training code itself. This should be very similar to training methods that you have written before to train PyTorch models. We will leave any difficult aspects such as model saving / loading and parameter loading until a little later."
   ]
  },
  {
   "cell_type": "code",
   "execution_count": 28,
   "metadata": {},
   "outputs": [],
   "source": [
    "def train(model, train_loader, epochs, optimizer, loss_fn, device):\n",
    "    for epoch in range(1, epochs + 1):\n",
    "        model.train()\n",
    "        total_loss = 0\n",
    "        for batch in train_loader:         \n",
    "            batch_X, batch_y = batch\n",
    "            \n",
    "            batch_X = batch_X.to(device)\n",
    "            batch_y = batch_y.to(device)\n",
    "            \n",
    "            # TODO: Complete this train method to train the model provided.\n",
    "            optimizer.zero_grad()\n",
    "            output = model(batch_X)\n",
    "            loss = loss_fn(output, batch_y)\n",
    "            loss.backward()\n",
    "            optimizer.step()\n",
    "            \n",
    "            total_loss += loss.data.item()\n",
    "        print(\"Epoch: {}, BCELoss: {}\".format(epoch, total_loss / len(train_loader)))"
   ]
  },
  {
   "cell_type": "markdown",
   "metadata": {},
   "source": [
    "Supposing we have the training method above, we will test that it is working by writing a bit of code in the notebook that executes our training method on the small sample training set that we loaded earlier. The reason for doing this in the notebook is so that we have an opportunity to fix any errors that arise early when they are easier to diagnose."
   ]
  },
  {
   "cell_type": "code",
   "execution_count": 29,
   "metadata": {},
   "outputs": [
    {
     "name": "stdout",
     "output_type": "stream",
     "text": [
      "Epoch: 1, BCELoss: 0.6953150272369385\n",
      "Epoch: 2, BCELoss: 0.6846932411193848\n",
      "Epoch: 3, BCELoss: 0.6751940369606018\n",
      "Epoch: 4, BCELoss: 0.6645379066467285\n",
      "Epoch: 5, BCELoss: 0.6512584924697876\n"
     ]
    }
   ],
   "source": [
    "import torch.optim as optim\n",
    "from train.model import LSTMClassifier\n",
    "\n",
    "device = torch.device(\"cuda\" if torch.cuda.is_available() else \"cpu\")\n",
    "model = LSTMClassifier(32, 100, 5000).to(device)\n",
    "optimizer = optim.Adam(model.parameters())\n",
    "loss_fn = torch.nn.BCELoss()\n",
    "\n",
    "train(model, train_sample_dl, 5, optimizer, loss_fn, device)"
   ]
  },
  {
   "cell_type": "markdown",
   "metadata": {},
   "source": [
    "In order to construct a PyTorch model using SageMaker we must provide SageMaker with a training script. We may optionally include a directory which will be copied to the container and from which our training code will be run. When the training container is executed it will check the uploaded directory (if there is one) for a `requirements.txt` file and install any required Python libraries, after which the training script will be run."
   ]
  },
  {
   "cell_type": "markdown",
   "metadata": {},
   "source": [
    "### (TODO) Training the model\n",
    "\n",
    "When a PyTorch model is constructed in SageMaker, an entry point must be specified. This is the Python file which will be executed when the model is trained. Inside of the `train` directory is a file called `train.py` which has been provided and which contains most of the necessary code to train our model. The only thing that is missing is the implementation of the `train()` method which you wrote earlier in this notebook.\n",
    "\n",
    "**TODO**: Copy the `train()` method written above and paste it into the `train/train.py` file where required.\n",
    "\n",
    "The way that SageMaker passes hyperparameters to the training script is by way of arguments. These arguments can then be parsed and used in the training script. To see how this is done take a look at the provided `train/train.py` file."
   ]
  },
  {
   "cell_type": "code",
   "execution_count": 30,
   "metadata": {},
   "outputs": [],
   "source": [
    "from sagemaker.pytorch import PyTorch\n",
    "\n",
    "estimator = PyTorch(entry_point=\"train.py\",\n",
    "                    source_dir=\"train\",\n",
    "                    role=role,\n",
    "                    framework_version='0.4.0',\n",
    "                    train_instance_count=1,\n",
    "                    train_instance_type='ml.p2.xlarge',\n",
    "                    hyperparameters={\n",
    "                        'epochs': 10,\n",
    "                        'hidden_dim': 200,\n",
    "                    })"
   ]
  },
  {
   "cell_type": "code",
   "execution_count": 31,
   "metadata": {},
   "outputs": [
    {
     "name": "stdout",
     "output_type": "stream",
     "text": [
      "2019-08-11 18:15:07 Starting - Starting the training job...\n",
      "2019-08-11 18:15:09 Starting - Launching requested ML instances......\n",
      "2019-08-11 18:16:14 Starting - Preparing the instances for training......\n",
      "2019-08-11 18:17:23 Downloading - Downloading input data...\n",
      "2019-08-11 18:17:50 Training - Downloading the training image...\n",
      "2019-08-11 18:18:23 Training - Training image download completed. Training in progress.\n",
      "\u001b[31mbash: cannot set terminal process group (-1): Inappropriate ioctl for device\u001b[0m\n",
      "\u001b[31mbash: no job control in this shell\u001b[0m\n",
      "\u001b[31m2019-08-11 18:18:23,635 sagemaker-containers INFO     Imported framework sagemaker_pytorch_container.training\u001b[0m\n",
      "\u001b[31m2019-08-11 18:18:23,661 sagemaker_pytorch_container.training INFO     Block until all host DNS lookups succeed.\u001b[0m\n",
      "\u001b[31m2019-08-11 18:18:23,664 sagemaker_pytorch_container.training INFO     Invoking user training script.\u001b[0m\n",
      "\u001b[31m2019-08-11 18:18:23,896 sagemaker-containers INFO     Module train does not provide a setup.py. \u001b[0m\n",
      "\u001b[31mGenerating setup.py\u001b[0m\n",
      "\u001b[31m2019-08-11 18:18:23,896 sagemaker-containers INFO     Generating setup.cfg\u001b[0m\n",
      "\u001b[31m2019-08-11 18:18:23,896 sagemaker-containers INFO     Generating MANIFEST.in\u001b[0m\n",
      "\u001b[31m2019-08-11 18:18:23,896 sagemaker-containers INFO     Installing module with the following command:\u001b[0m\n",
      "\u001b[31m/usr/bin/python -m pip install -U . -r requirements.txt\u001b[0m\n",
      "\u001b[31mProcessing /opt/ml/code\u001b[0m\n",
      "\u001b[31mCollecting pandas (from -r requirements.txt (line 1))\n",
      "  Downloading https://files.pythonhosted.org/packages/74/24/0cdbf8907e1e3bc5a8da03345c23cbed7044330bb8f73bb12e711a640a00/pandas-0.24.2-cp35-cp35m-manylinux1_x86_64.whl (10.0MB)\u001b[0m\n",
      "\u001b[31mCollecting numpy (from -r requirements.txt (line 2))\n",
      "  Downloading https://files.pythonhosted.org/packages/69/25/eef8d362bd216b11e7d005331a3cca3d19b0aa57569bde680070109b745c/numpy-1.17.0-cp35-cp35m-manylinux1_x86_64.whl (20.2MB)\u001b[0m\n",
      "\u001b[31mCollecting nltk (from -r requirements.txt (line 3))\u001b[0m\n",
      "\u001b[31m  Downloading https://files.pythonhosted.org/packages/87/16/4d247e27c55a7b6412e7c4c86f2500ae61afcbf5932b9e3491f8462f8d9e/nltk-3.4.4.zip (1.5MB)\u001b[0m\n",
      "\u001b[31mCollecting beautifulsoup4 (from -r requirements.txt (line 4))\n",
      "  Downloading https://files.pythonhosted.org/packages/1a/b7/34eec2fe5a49718944e215fde81288eec1fa04638aa3fb57c1c6cd0f98c3/beautifulsoup4-4.8.0-py3-none-any.whl (97kB)\u001b[0m\n",
      "\u001b[31mCollecting html5lib (from -r requirements.txt (line 5))\n",
      "  Downloading https://files.pythonhosted.org/packages/a5/62/bbd2be0e7943ec8504b517e62bab011b4946e1258842bc159e5dfde15b96/html5lib-1.0.1-py2.py3-none-any.whl (117kB)\u001b[0m\n",
      "\u001b[31mRequirement already satisfied, skipping upgrade: python-dateutil>=2.5.0 in /usr/local/lib/python3.5/dist-packages (from pandas->-r requirements.txt (line 1)) (2.7.5)\u001b[0m\n",
      "\u001b[31mCollecting pytz>=2011k (from pandas->-r requirements.txt (line 1))\n",
      "  Downloading https://files.pythonhosted.org/packages/87/76/46d697698a143e05f77bec5a526bf4e56a0be61d63425b68f4ba553b51f2/pytz-2019.2-py2.py3-none-any.whl (508kB)\u001b[0m\n",
      "\u001b[31mRequirement already satisfied, skipping upgrade: six in /usr/local/lib/python3.5/dist-packages (from nltk->-r requirements.txt (line 3)) (1.11.0)\u001b[0m\n",
      "\u001b[31mCollecting soupsieve>=1.2 (from beautifulsoup4->-r requirements.txt (line 4))\u001b[0m\n",
      "\u001b[31m  Downloading https://files.pythonhosted.org/packages/35/e3/25079e8911085ab76a6f2facae0771078260c930216ab0b0c44dc5c9bf31/soupsieve-1.9.2-py2.py3-none-any.whl\u001b[0m\n",
      "\u001b[31mCollecting webencodings (from html5lib->-r requirements.txt (line 5))\n",
      "  Downloading https://files.pythonhosted.org/packages/f4/24/2a3e3df732393fed8b3ebf2ec078f05546de641fe1b667ee316ec1dcf3b7/webencodings-0.5.1-py2.py3-none-any.whl\u001b[0m\n",
      "\u001b[31mBuilding wheels for collected packages: nltk, train\n",
      "  Running setup.py bdist_wheel for nltk: started\n",
      "  Running setup.py bdist_wheel for nltk: finished with status 'done'\n",
      "  Stored in directory: /root/.cache/pip/wheels/41/c8/31/48ace4468e236e0e8435f30d33e43df48594e4d53e367cf061\n",
      "  Running setup.py bdist_wheel for train: started\u001b[0m\n",
      "\u001b[31m  Running setup.py bdist_wheel for train: finished with status 'done'\n",
      "  Stored in directory: /tmp/pip-ephem-wheel-cache-2bxnjd1s/wheels/35/24/16/37574d11bf9bde50616c67372a334f94fa8356bc7164af8ca3\u001b[0m\n",
      "\u001b[31mSuccessfully built nltk train\u001b[0m\n",
      "\u001b[31mInstalling collected packages: numpy, pytz, pandas, nltk, soupsieve, beautifulsoup4, webencodings, html5lib, train\n",
      "  Found existing installation: numpy 1.15.4\n",
      "    Uninstalling numpy-1.15.4:\u001b[0m\n",
      "\u001b[31m      Successfully uninstalled numpy-1.15.4\u001b[0m\n",
      "\u001b[31mSuccessfully installed beautifulsoup4-4.8.0 html5lib-1.0.1 nltk-3.4.4 numpy-1.17.0 pandas-0.24.2 pytz-2019.2 soupsieve-1.9.2 train-1.0.0 webencodings-0.5.1\u001b[0m\n",
      "\u001b[31mYou are using pip version 18.1, however version 19.2.2 is available.\u001b[0m\n",
      "\u001b[31mYou should consider upgrading via the 'pip install --upgrade pip' command.\u001b[0m\n",
      "\u001b[31m2019-08-11 18:18:36,462 sagemaker-containers INFO     Invoking user script\n",
      "\u001b[0m\n",
      "\u001b[31mTraining Env:\n",
      "\u001b[0m\n",
      "\u001b[31m{\n",
      "    \"model_dir\": \"/opt/ml/model\",\n",
      "    \"channel_input_dirs\": {\n",
      "        \"training\": \"/opt/ml/input/data/training\"\n",
      "    },\n",
      "    \"module_dir\": \"s3://sagemaker-us-west-2-493241494122/sagemaker-pytorch-2019-08-11-18-15-06-341/source/sourcedir.tar.gz\",\n",
      "    \"input_config_dir\": \"/opt/ml/input/config\",\n",
      "    \"output_data_dir\": \"/opt/ml/output/data\",\n",
      "    \"input_data_config\": {\n",
      "        \"training\": {\n",
      "            \"RecordWrapperType\": \"None\",\n",
      "            \"S3DistributionType\": \"FullyReplicated\",\n",
      "            \"TrainingInputMode\": \"File\"\n",
      "        }\n",
      "    },\n",
      "    \"log_level\": 20,\n",
      "    \"additional_framework_parameters\": {},\n",
      "    \"framework_module\": \"sagemaker_pytorch_container.training:main\",\n",
      "    \"output_dir\": \"/opt/ml/output\",\n",
      "    \"num_gpus\": 1,\n",
      "    \"num_cpus\": 4,\n",
      "    \"module_name\": \"train\",\n",
      "    \"input_dir\": \"/opt/ml/input\",\n",
      "    \"hyperparameters\": {\n",
      "        \"epochs\": 10,\n",
      "        \"hidden_dim\": 200\n",
      "    },\n",
      "    \"output_intermediate_dir\": \"/opt/ml/output/intermediate\",\n",
      "    \"network_interface_name\": \"eth0\",\n",
      "    \"current_host\": \"algo-1\",\n",
      "    \"job_name\": \"sagemaker-pytorch-2019-08-11-18-15-06-341\",\n",
      "    \"resource_config\": {\n",
      "        \"current_host\": \"algo-1\",\n",
      "        \"network_interface_name\": \"eth0\",\n",
      "        \"hosts\": [\n",
      "            \"algo-1\"\n",
      "        ]\n",
      "    },\n",
      "    \"user_entry_point\": \"train.py\",\n",
      "    \"hosts\": [\n",
      "        \"algo-1\"\n",
      "    ]\u001b[0m\n",
      "\u001b[31m}\n",
      "\u001b[0m\n",
      "\u001b[31mEnvironment variables:\n",
      "\u001b[0m\n",
      "\u001b[31mSM_CHANNELS=[\"training\"]\u001b[0m\n",
      "\u001b[31mSM_FRAMEWORK_PARAMS={}\u001b[0m\n",
      "\u001b[31mSM_MODEL_DIR=/opt/ml/model\u001b[0m\n",
      "\u001b[31mSM_HPS={\"epochs\":10,\"hidden_dim\":200}\u001b[0m\n",
      "\u001b[31mSM_HP_EPOCHS=10\u001b[0m\n",
      "\u001b[31mPYTHONPATH=/usr/local/bin:/usr/lib/python35.zip:/usr/lib/python3.5:/usr/lib/python3.5/plat-x86_64-linux-gnu:/usr/lib/python3.5/lib-dynload:/usr/local/lib/python3.5/dist-packages:/usr/lib/python3/dist-packages\u001b[0m\n",
      "\u001b[31mSM_HP_HIDDEN_DIM=200\u001b[0m\n",
      "\u001b[31mSM_NETWORK_INTERFACE_NAME=eth0\u001b[0m\n",
      "\u001b[31mSM_USER_ARGS=[\"--epochs\",\"10\",\"--hidden_dim\",\"200\"]\u001b[0m\n",
      "\u001b[31mSM_CURRENT_HOST=algo-1\u001b[0m\n",
      "\u001b[31mSM_RESOURCE_CONFIG={\"current_host\":\"algo-1\",\"hosts\":[\"algo-1\"],\"network_interface_name\":\"eth0\"}\u001b[0m\n",
      "\u001b[31mSM_OUTPUT_DATA_DIR=/opt/ml/output/data\u001b[0m\n",
      "\u001b[31mSM_CHANNEL_TRAINING=/opt/ml/input/data/training\u001b[0m\n",
      "\u001b[31mSM_INPUT_DIR=/opt/ml/input\u001b[0m\n",
      "\u001b[31mSM_NUM_CPUS=4\u001b[0m\n",
      "\u001b[31mSM_INPUT_CONFIG_DIR=/opt/ml/input/config\u001b[0m\n",
      "\u001b[31mSM_INPUT_DATA_CONFIG={\"training\":{\"RecordWrapperType\":\"None\",\"S3DistributionType\":\"FullyReplicated\",\"TrainingInputMode\":\"File\"}}\u001b[0m\n",
      "\u001b[31mSM_USER_ENTRY_POINT=train.py\u001b[0m\n",
      "\u001b[31mSM_OUTPUT_INTERMEDIATE_DIR=/opt/ml/output/intermediate\u001b[0m\n",
      "\u001b[31mSM_HOSTS=[\"algo-1\"]\u001b[0m\n",
      "\u001b[31mSM_OUTPUT_DIR=/opt/ml/output\u001b[0m\n",
      "\u001b[31mSM_TRAINING_ENV={\"additional_framework_parameters\":{},\"channel_input_dirs\":{\"training\":\"/opt/ml/input/data/training\"},\"current_host\":\"algo-1\",\"framework_module\":\"sagemaker_pytorch_container.training:main\",\"hosts\":[\"algo-1\"],\"hyperparameters\":{\"epochs\":10,\"hidden_dim\":200},\"input_config_dir\":\"/opt/ml/input/config\",\"input_data_config\":{\"training\":{\"RecordWrapperType\":\"None\",\"S3DistributionType\":\"FullyReplicated\",\"TrainingInputMode\":\"File\"}},\"input_dir\":\"/opt/ml/input\",\"job_name\":\"sagemaker-pytorch-2019-08-11-18-15-06-341\",\"log_level\":20,\"model_dir\":\"/opt/ml/model\",\"module_dir\":\"s3://sagemaker-us-west-2-493241494122/sagemaker-pytorch-2019-08-11-18-15-06-341/source/sourcedir.tar.gz\",\"module_name\":\"train\",\"network_interface_name\":\"eth0\",\"num_cpus\":4,\"num_gpus\":1,\"output_data_dir\":\"/opt/ml/output/data\",\"output_dir\":\"/opt/ml/output\",\"output_intermediate_dir\":\"/opt/ml/output/intermediate\",\"resource_config\":{\"current_host\":\"algo-1\",\"hosts\":[\"algo-1\"],\"network_interface_name\":\"eth0\"},\"user_entry_point\":\"train.py\"}\u001b[0m\n",
      "\u001b[31mSM_MODULE_NAME=train\u001b[0m\n",
      "\u001b[31mSM_NUM_GPUS=1\u001b[0m\n",
      "\u001b[31mSM_FRAMEWORK_MODULE=sagemaker_pytorch_container.training:main\u001b[0m\n",
      "\u001b[31mSM_MODULE_DIR=s3://sagemaker-us-west-2-493241494122/sagemaker-pytorch-2019-08-11-18-15-06-341/source/sourcedir.tar.gz\u001b[0m\n",
      "\u001b[31mSM_LOG_LEVEL=20\n",
      "\u001b[0m\n",
      "\u001b[31mInvoking script with the following command:\n",
      "\u001b[0m\n",
      "\u001b[31m/usr/bin/python -m train --epochs 10 --hidden_dim 200\n",
      "\n",
      "\u001b[0m\n",
      "\u001b[31mUsing device cuda.\u001b[0m\n",
      "\u001b[31mGet train data loader.\u001b[0m\n"
     ]
    },
    {
     "name": "stdout",
     "output_type": "stream",
     "text": [
      "\u001b[31mModel loaded with embedding_dim 32, hidden_dim 200, vocab_size 5000.\u001b[0m\n",
      "\u001b[31mEpoch: 1, BCELoss: 0.6768027398051047\u001b[0m\n",
      "\u001b[31mEpoch: 2, BCELoss: 0.6084744127429261\u001b[0m\n",
      "\u001b[31mEpoch: 3, BCELoss: 0.5294279693340769\u001b[0m\n",
      "\u001b[31mEpoch: 4, BCELoss: 0.48188945711875447\u001b[0m\n",
      "\u001b[31mEpoch: 5, BCELoss: 0.4441198876925877\u001b[0m\n",
      "\u001b[31mEpoch: 6, BCELoss: 0.37925711395789163\u001b[0m\n",
      "\u001b[31mEpoch: 7, BCELoss: 0.3472274882452829\u001b[0m\n",
      "\u001b[31mEpoch: 8, BCELoss: 0.33089048217753975\u001b[0m\n",
      "\u001b[31mEpoch: 9, BCELoss: 0.32165122336270857\u001b[0m\n",
      "\n",
      "2019-08-11 18:21:40 Uploading - Uploading generated training model\u001b[31mEpoch: 10, BCELoss: 0.2878853316817965\u001b[0m\n",
      "\u001b[31m2019-08-11 18:21:36,256 sagemaker-containers INFO     Reporting training SUCCESS\u001b[0m\n",
      "\n",
      "2019-08-11 18:21:46 Completed - Training job completed\n",
      "Billable seconds: 263\n"
     ]
    }
   ],
   "source": [
    "estimator.fit({'training': input_data})"
   ]
  },
  {
   "cell_type": "markdown",
   "metadata": {},
   "source": [
    "## Step 5: Testing the model\n",
    "\n",
    "As mentioned at the top of this notebook, we will be testing this model by first deploying it and then sending the testing data to the deployed endpoint. We will do this so that we can make sure that the deployed model is working correctly.\n",
    "\n",
    "## Step 6: Deploy the model for testing\n",
    "\n",
    "Now that we have trained our model, we would like to test it to see how it performs. Currently our model takes input of the form `review_length, review[500]` where `review[500]` is a sequence of `500` integers which describe the words present in the review, encoded using `word_dict`. Fortunately for us, SageMaker provides built-in inference code for models with simple inputs such as this.\n",
    "\n",
    "There is one thing that we need to provide, however, and that is a function which loads the saved model. This function must be called `model_fn()` and takes as its only parameter a path to the directory where the model artifacts are stored. This function must also be present in the python file which we specified as the entry point. In our case the model loading function has been provided and so no changes need to be made.\n",
    "\n",
    "**NOTE**: When the built-in inference code is run it must import the `model_fn()` method from the `train.py` file. This is why the training code is wrapped in a main guard ( ie, `if __name__ == '__main__':` )\n",
    "\n",
    "Since we don't need to change anything in the code that was uploaded during training, we can simply deploy the current model as-is.\n",
    "\n",
    "**NOTE:** When deploying a model you are asking SageMaker to launch an compute instance that will wait for data to be sent to it. As a result, this compute instance will continue to run until *you* shut it down. This is important to know since the cost of a deployed endpoint depends on how long it has been running for.\n",
    "\n",
    "In other words **If you are no longer using a deployed endpoint, shut it down!**\n",
    "\n",
    "**TODO:** Deploy the trained model."
   ]
  },
  {
   "cell_type": "code",
   "execution_count": 161,
   "metadata": {},
   "outputs": [
    {
     "name": "stderr",
     "output_type": "stream",
     "text": [
      "Using already existing model: sagemaker-pytorch-2019-08-11-18-15-06-341\n"
     ]
    },
    {
     "name": "stdout",
     "output_type": "stream",
     "text": [
      "--------------------------------------------------------------------------------------------------!"
     ]
    }
   ],
   "source": [
    "# TODO: Deploy the trained model\n",
    "model_endpoint = estimator.deploy(initial_instance_count=1, instance_type = 'ml.m4.xlarge')"
   ]
  },
  {
   "cell_type": "markdown",
   "metadata": {},
   "source": [
    "## Step 7 - Use the model for testing\n",
    "\n",
    "Once deployed, we can read in the test data and send it off to our deployed model to get some results. Once we collect all of the results we can determine how accurate our model is."
   ]
  },
  {
   "cell_type": "code",
   "execution_count": 118,
   "metadata": {},
   "outputs": [],
   "source": [
    "test_X = pd.concat([pd.DataFrame(test_X_len), pd.DataFrame(test_X)], axis=1)"
   ]
  },
  {
   "cell_type": "code",
   "execution_count": 119,
   "metadata": {},
   "outputs": [],
   "source": [
    "# We split the data into chunks and send each chunk seperately, accumulating the results.\n",
    "\n",
    "def predict(data, rows=512):\n",
    "    split_array = np.array_split(data, int(data.shape[0] / float(rows) + 1))\n",
    "    predictions = np.array([])\n",
    "    for array in split_array:\n",
    "        predictions = np.append(predictions, model_endpoint.predict(array))\n",
    "    \n",
    "    return predictions"
   ]
  },
  {
   "cell_type": "code",
   "execution_count": 120,
   "metadata": {},
   "outputs": [],
   "source": [
    "predictions = predict(test_X.values)\n",
    "predictions = [round(num) for num in predictions]"
   ]
  },
  {
   "cell_type": "code",
   "execution_count": 122,
   "metadata": {},
   "outputs": [
    {
     "data": {
      "text/plain": [
       "0.83444"
      ]
     },
     "execution_count": 122,
     "metadata": {},
     "output_type": "execute_result"
    }
   ],
   "source": [
    "from sklearn.metrics import accuracy_score\n",
    "accuracy_score(test_y, predictions)"
   ]
  },
  {
   "cell_type": "markdown",
   "metadata": {},
   "source": [
    "**Question:** How does this model compare to the XGBoost model you created earlier? Why might these two models perform differently on this dataset? Which do *you* think is better for sentiment analysis?"
   ]
  },
  {
   "cell_type": "markdown",
   "metadata": {},
   "source": [
    "**Answer:** 0.86352 was the prediction accuracy for our XGBoost model. THis is slightly higher than the LSTM classifier we built here and indicates that XGBoost may perform better on our task. \n",
    "\n",
    "https://blog.doit-intl.com/xgboost-or-tensorflow-63f4c92d4377\n",
    "\n",
    "I think this blog post summarized the choice between the two quite well. From research to answer this question, ther is no one \"better\" machine learning algorithm, as a different model may be preferred based on the constraints of training costs, data size, etc.\n",
    "\n",
    "For example, XGBoost converges faster and therefore is favoured in cases with smaller data sets (as NNs tend to overfit these), or with computing power constraints. However, perhaps with longer training or a deeper network, the LSTM may perform better. \n",
    "\n",
    "I also learned that often in deployments models are \"stacked\". Notably, two different models can be trained, and each one used for a different purpose based on analyzing their strengths and weaknesses. For instance, if it were found that XGBoost outperformed LSTMs for shorter reviews, we would build a Web App that preferentially sends shorter reviews to the XGBoost algorithm, while sending longer ones to LSTM.\n",
    "\n",
    "In summary, there is no global \"best algorithm\" for sentiment analysis as the answer depends on a variety of factors. In this case, based on the size of our training data, our choices of stemming, vocab_size and use of 10 epochs, XGBoost outperformed LSTMs."
   ]
  },
  {
   "cell_type": "markdown",
   "metadata": {},
   "source": [
    "### (TODO) More testing\n",
    "\n",
    "We now have a trained model which has been deployed and which we can send processed reviews to and which returns the predicted sentiment. However, ultimately we would like to be able to send our model an unprocessed review. That is, we would like to send the review itself as a string. For example, suppose we wish to send the following review to our model."
   ]
  },
  {
   "cell_type": "code",
   "execution_count": 121,
   "metadata": {},
   "outputs": [],
   "source": [
    "test_review = 'The simplest pleasures in life are the best, and this film is one of them. Combining a rather basic storyline of love and adventure this movie transcends the usual weekend fair with wit and unmitigated charm.'"
   ]
  },
  {
   "cell_type": "markdown",
   "metadata": {},
   "source": [
    "The question we now need to answer is, how do we send this review to our model?\n",
    "\n",
    "Recall in the first section of this notebook we did a bunch of data processing to the IMDb dataset. In particular, we did two specific things to the provided reviews.\n",
    " - Removed any html tags and stemmed the input\n",
    " - Encoded the review as a sequence of integers using `word_dict`\n",
    " \n",
    "In order process the review we will need to repeat these two steps.\n",
    "\n",
    "**TODO**: Using the `review_to_words` and `convert_and_pad` methods from section one, convert `test_review` into a numpy array `test_data` suitable to send to our model. Remember that our model expects input of the form `review_length, review[500]`."
   ]
  },
  {
   "cell_type": "code",
   "execution_count": 149,
   "metadata": {},
   "outputs": [
    {
     "name": "stdout",
     "output_type": "stream",
     "text": [
      "(1, 501)\n"
     ]
    }
   ],
   "source": [
    "# TODO: Convert test_review into a form usable by the model \n",
    "#and save the results in test_data\n",
    "test_r2w = review_to_words(test_review)\n",
    "test_cnp, test_len = convert_and_pad(word_dict, test_r2w)\n",
    "test_data = np.hstack((test_len, test_cnp))\n",
    "test_data = test_data.reshape(1,-1)\n",
    "print(test_data.shape)"
   ]
  },
  {
   "cell_type": "markdown",
   "metadata": {},
   "source": [
    "Now that we have processed the review, we can send the resulting array to our model to predict the sentiment of the review."
   ]
  },
  {
   "cell_type": "code",
   "execution_count": 150,
   "metadata": {},
   "outputs": [
    {
     "data": {
      "text/plain": [
       "array(0.86695623, dtype=float32)"
      ]
     },
     "execution_count": 150,
     "metadata": {},
     "output_type": "execute_result"
    }
   ],
   "source": [
    "model_endpoint.predict(test_data)"
   ]
  },
  {
   "cell_type": "code",
   "execution_count": null,
   "metadata": {},
   "outputs": [],
   "source": []
  },
  {
   "cell_type": "markdown",
   "metadata": {},
   "source": [
    "Since the return value of our model is close to `1`, we can be certain that the review we submitted is positive."
   ]
  },
  {
   "cell_type": "markdown",
   "metadata": {},
   "source": [
    "### Delete the endpoint\n",
    "\n",
    "Of course, just like in the XGBoost notebook, once we've deployed an endpoint it continues to run until we tell it to shut down. Since we are done using our endpoint for now, we can delete it."
   ]
  },
  {
   "cell_type": "code",
   "execution_count": 168,
   "metadata": {},
   "outputs": [],
   "source": [
    "estimator.delete_endpoint()"
   ]
  },
  {
   "cell_type": "markdown",
   "metadata": {},
   "source": [
    "## Step 6 (again) - Deploy the model for the web app\n",
    "\n",
    "Now that we know that our model is working, it's time to create some custom inference code so that we can send the model a review which has not been processed and have it determine the sentiment of the review.\n",
    "\n",
    "As we saw above, by default the estimator which we created, when deployed, will use the entry script and directory which we provided when creating the model. However, since we now wish to accept a string as input and our model expects a processed review, we need to write some custom inference code.\n",
    "\n",
    "We will store the code that we write in the `serve` directory. Provided in this directory is the `model.py` file that we used to construct our model, a `utils.py` file which contains the `review_to_words` and `convert_and_pad` pre-processing functions which we used during the initial data processing, and `predict.py`, the file which will contain our custom inference code. Note also that `requirements.txt` is present which will tell SageMaker what Python libraries are required by our custom inference code.\n",
    "\n",
    "When deploying a PyTorch model in SageMaker, you are expected to provide four functions which the SageMaker inference container will use.\n",
    " - `model_fn`: This function is the same function that we used in the training script and it tells SageMaker how to load our model.\n",
    " - `input_fn`: This function receives the raw serialized input that has been sent to the model's endpoint and its job is to de-serialize and make the input available for the inference code.\n",
    " - `output_fn`: This function takes the output of the inference code and its job is to serialize this output and return it to the caller of the model's endpoint.\n",
    " - `predict_fn`: The heart of the inference script, this is where the actual prediction is done and is the function which you will need to complete.\n",
    "\n",
    "For the simple website that we are constructing during this project, the `input_fn` and `output_fn` methods are relatively straightforward. We only require being able to accept a string as input and we expect to return a single value as output. You might imagine though that in a more complex application the input or output may be image data or some other binary data which would require some effort to serialize.\n",
    "\n",
    "### (TODO) Writing inference code\n",
    "\n",
    "Before writing our custom inference code, we will begin by taking a look at the code which has been provided."
   ]
  },
  {
   "cell_type": "code",
   "execution_count": 152,
   "metadata": {},
   "outputs": [
    {
     "name": "stdout",
     "output_type": "stream",
     "text": [
      "\u001b[34mimport\u001b[39;49;00m \u001b[04m\u001b[36margparse\u001b[39;49;00m\r\n",
      "\u001b[34mimport\u001b[39;49;00m \u001b[04m\u001b[36mjson\u001b[39;49;00m\r\n",
      "\u001b[34mimport\u001b[39;49;00m \u001b[04m\u001b[36mos\u001b[39;49;00m\r\n",
      "\u001b[34mimport\u001b[39;49;00m \u001b[04m\u001b[36mpickle\u001b[39;49;00m\r\n",
      "\u001b[34mimport\u001b[39;49;00m \u001b[04m\u001b[36msys\u001b[39;49;00m\r\n",
      "\u001b[34mimport\u001b[39;49;00m \u001b[04m\u001b[36msagemaker_containers\u001b[39;49;00m\r\n",
      "\u001b[34mimport\u001b[39;49;00m \u001b[04m\u001b[36mpandas\u001b[39;49;00m \u001b[34mas\u001b[39;49;00m \u001b[04m\u001b[36mpd\u001b[39;49;00m\r\n",
      "\u001b[34mimport\u001b[39;49;00m \u001b[04m\u001b[36mnumpy\u001b[39;49;00m \u001b[34mas\u001b[39;49;00m \u001b[04m\u001b[36mnp\u001b[39;49;00m\r\n",
      "\u001b[34mimport\u001b[39;49;00m \u001b[04m\u001b[36mtorch\u001b[39;49;00m\r\n",
      "\u001b[34mimport\u001b[39;49;00m \u001b[04m\u001b[36mtorch.nn\u001b[39;49;00m \u001b[34mas\u001b[39;49;00m \u001b[04m\u001b[36mnn\u001b[39;49;00m\r\n",
      "\u001b[34mimport\u001b[39;49;00m \u001b[04m\u001b[36mtorch.optim\u001b[39;49;00m \u001b[34mas\u001b[39;49;00m \u001b[04m\u001b[36moptim\u001b[39;49;00m\r\n",
      "\u001b[34mimport\u001b[39;49;00m \u001b[04m\u001b[36mtorch.utils.data\u001b[39;49;00m\r\n",
      "\r\n",
      "\u001b[34mfrom\u001b[39;49;00m \u001b[04m\u001b[36mmodel\u001b[39;49;00m \u001b[34mimport\u001b[39;49;00m LSTMClassifier\r\n",
      "\r\n",
      "\u001b[34mfrom\u001b[39;49;00m \u001b[04m\u001b[36mutils\u001b[39;49;00m \u001b[34mimport\u001b[39;49;00m review_to_words, convert_and_pad\r\n",
      "\r\n",
      "\u001b[34mdef\u001b[39;49;00m \u001b[32mmodel_fn\u001b[39;49;00m(model_dir):\r\n",
      "    \u001b[33m\"\"\"Load the PyTorch model from the `model_dir` directory.\"\"\"\u001b[39;49;00m\r\n",
      "    \u001b[34mprint\u001b[39;49;00m(\u001b[33m\"\u001b[39;49;00m\u001b[33mLoading model.\u001b[39;49;00m\u001b[33m\"\u001b[39;49;00m)\r\n",
      "\r\n",
      "    \u001b[37m# First, load the parameters used to create the model.\u001b[39;49;00m\r\n",
      "    model_info = {}\r\n",
      "    model_info_path = os.path.join(model_dir, \u001b[33m'\u001b[39;49;00m\u001b[33mmodel_info.pth\u001b[39;49;00m\u001b[33m'\u001b[39;49;00m)\r\n",
      "    \u001b[34mwith\u001b[39;49;00m \u001b[36mopen\u001b[39;49;00m(model_info_path, \u001b[33m'\u001b[39;49;00m\u001b[33mrb\u001b[39;49;00m\u001b[33m'\u001b[39;49;00m) \u001b[34mas\u001b[39;49;00m f:\r\n",
      "        model_info = torch.load(f)\r\n",
      "\r\n",
      "    \u001b[34mprint\u001b[39;49;00m(\u001b[33m\"\u001b[39;49;00m\u001b[33mmodel_info: {}\u001b[39;49;00m\u001b[33m\"\u001b[39;49;00m.format(model_info))\r\n",
      "\r\n",
      "    \u001b[37m# Determine the device and construct the model.\u001b[39;49;00m\r\n",
      "    device = torch.device(\u001b[33m\"\u001b[39;49;00m\u001b[33mcuda\u001b[39;49;00m\u001b[33m\"\u001b[39;49;00m \u001b[34mif\u001b[39;49;00m torch.cuda.is_available() \u001b[34melse\u001b[39;49;00m \u001b[33m\"\u001b[39;49;00m\u001b[33mcpu\u001b[39;49;00m\u001b[33m\"\u001b[39;49;00m)\r\n",
      "    model = LSTMClassifier(model_info[\u001b[33m'\u001b[39;49;00m\u001b[33membedding_dim\u001b[39;49;00m\u001b[33m'\u001b[39;49;00m], model_info[\u001b[33m'\u001b[39;49;00m\u001b[33mhidden_dim\u001b[39;49;00m\u001b[33m'\u001b[39;49;00m], model_info[\u001b[33m'\u001b[39;49;00m\u001b[33mvocab_size\u001b[39;49;00m\u001b[33m'\u001b[39;49;00m])\r\n",
      "\r\n",
      "    \u001b[37m# Load the store model parameters.\u001b[39;49;00m\r\n",
      "    model_path = os.path.join(model_dir, \u001b[33m'\u001b[39;49;00m\u001b[33mmodel.pth\u001b[39;49;00m\u001b[33m'\u001b[39;49;00m)\r\n",
      "    \u001b[34mwith\u001b[39;49;00m \u001b[36mopen\u001b[39;49;00m(model_path, \u001b[33m'\u001b[39;49;00m\u001b[33mrb\u001b[39;49;00m\u001b[33m'\u001b[39;49;00m) \u001b[34mas\u001b[39;49;00m f:\r\n",
      "        model.load_state_dict(torch.load(f))\r\n",
      "\r\n",
      "    \u001b[37m# Load the saved word_dict.\u001b[39;49;00m\r\n",
      "    word_dict_path = os.path.join(model_dir, \u001b[33m'\u001b[39;49;00m\u001b[33mword_dict.pkl\u001b[39;49;00m\u001b[33m'\u001b[39;49;00m)\r\n",
      "    \u001b[34mwith\u001b[39;49;00m \u001b[36mopen\u001b[39;49;00m(word_dict_path, \u001b[33m'\u001b[39;49;00m\u001b[33mrb\u001b[39;49;00m\u001b[33m'\u001b[39;49;00m) \u001b[34mas\u001b[39;49;00m f:\r\n",
      "        model.word_dict = pickle.load(f)\r\n",
      "\r\n",
      "    model.to(device).eval()\r\n",
      "\r\n",
      "    \u001b[34mprint\u001b[39;49;00m(\u001b[33m\"\u001b[39;49;00m\u001b[33mDone loading model.\u001b[39;49;00m\u001b[33m\"\u001b[39;49;00m)\r\n",
      "    \u001b[34mreturn\u001b[39;49;00m model\r\n",
      "\r\n",
      "\u001b[34mdef\u001b[39;49;00m \u001b[32minput_fn\u001b[39;49;00m(serialized_input_data, content_type):\r\n",
      "    \u001b[34mprint\u001b[39;49;00m(\u001b[33m'\u001b[39;49;00m\u001b[33mDeserializing the input data.\u001b[39;49;00m\u001b[33m'\u001b[39;49;00m)\r\n",
      "    \u001b[34mif\u001b[39;49;00m content_type == \u001b[33m'\u001b[39;49;00m\u001b[33mtext/plain\u001b[39;49;00m\u001b[33m'\u001b[39;49;00m:\r\n",
      "        data = serialized_input_data.decode(\u001b[33m'\u001b[39;49;00m\u001b[33mutf-8\u001b[39;49;00m\u001b[33m'\u001b[39;49;00m)\r\n",
      "        \u001b[34mreturn\u001b[39;49;00m data\r\n",
      "    \u001b[34mraise\u001b[39;49;00m \u001b[36mException\u001b[39;49;00m(\u001b[33m'\u001b[39;49;00m\u001b[33mRequested unsupported ContentType in content_type: \u001b[39;49;00m\u001b[33m'\u001b[39;49;00m + content_type)\r\n",
      "\r\n",
      "\u001b[34mdef\u001b[39;49;00m \u001b[32moutput_fn\u001b[39;49;00m(prediction_output, accept):\r\n",
      "    \u001b[34mprint\u001b[39;49;00m(\u001b[33m'\u001b[39;49;00m\u001b[33mSerializing the generated output.\u001b[39;49;00m\u001b[33m'\u001b[39;49;00m)\r\n",
      "    \u001b[34mreturn\u001b[39;49;00m \u001b[36mstr\u001b[39;49;00m(prediction_output)\r\n",
      "\r\n",
      "\u001b[34mdef\u001b[39;49;00m \u001b[32mpredict_fn\u001b[39;49;00m(input_data, model):\r\n",
      "    \u001b[34mprint\u001b[39;49;00m(\u001b[33m'\u001b[39;49;00m\u001b[33mInferring sentiment of input data.\u001b[39;49;00m\u001b[33m'\u001b[39;49;00m)\r\n",
      "\r\n",
      "    device = torch.device(\u001b[33m\"\u001b[39;49;00m\u001b[33mcuda\u001b[39;49;00m\u001b[33m\"\u001b[39;49;00m \u001b[34mif\u001b[39;49;00m torch.cuda.is_available() \u001b[34melse\u001b[39;49;00m \u001b[33m\"\u001b[39;49;00m\u001b[33mcpu\u001b[39;49;00m\u001b[33m\"\u001b[39;49;00m)\r\n",
      "    \r\n",
      "    \u001b[34mif\u001b[39;49;00m model.word_dict \u001b[35mis\u001b[39;49;00m \u001b[36mNone\u001b[39;49;00m:\r\n",
      "        \u001b[34mraise\u001b[39;49;00m \u001b[36mException\u001b[39;49;00m(\u001b[33m'\u001b[39;49;00m\u001b[33mModel has not been loaded properly, no word_dict.\u001b[39;49;00m\u001b[33m'\u001b[39;49;00m)\r\n",
      "    \r\n",
      "    \u001b[37m# TODO: Process input_data so that it is ready to be sent to our model.\u001b[39;49;00m\r\n",
      "    \u001b[37m#       You should produce two variables:\u001b[39;49;00m\r\n",
      "    \u001b[37m#         data_X   - A sequence of length 500 which represents the converted review\u001b[39;49;00m\r\n",
      "    \u001b[37m#         data_len - The length of the review\u001b[39;49;00m\r\n",
      "\r\n",
      "    data_X = \u001b[36mNone\u001b[39;49;00m\r\n",
      "    data_len = \u001b[36mNone\u001b[39;49;00m\r\n",
      "\r\n",
      "    \u001b[37m# Using data_X and data_len we construct an appropriate input tensor. Remember\u001b[39;49;00m\r\n",
      "    \u001b[37m# that our model expects input data of the form 'len, review[500]'.\u001b[39;49;00m\r\n",
      "    data_pack = np.hstack((data_len, data_X))\r\n",
      "    data_pack = data_pack.reshape(\u001b[34m1\u001b[39;49;00m, -\u001b[34m1\u001b[39;49;00m)\r\n",
      "    \r\n",
      "    data = torch.from_numpy(data_pack)\r\n",
      "    data = data.to(device)\r\n",
      "\r\n",
      "    \u001b[37m# Make sure to put the model into evaluation mode\u001b[39;49;00m\r\n",
      "    model.eval()\r\n",
      "\r\n",
      "    \u001b[37m# TODO: Compute the result of applying the model to the input data. The variable `result` should\u001b[39;49;00m\r\n",
      "    \u001b[37m#       be a numpy array which contains a single integer which is either 1 or 0\u001b[39;49;00m\r\n",
      "\r\n",
      "    result = \u001b[36mNone\u001b[39;49;00m\r\n",
      "\r\n",
      "    \u001b[34mreturn\u001b[39;49;00m result\r\n"
     ]
    }
   ],
   "source": [
    "!pygmentize serve/predict.py"
   ]
  },
  {
   "cell_type": "markdown",
   "metadata": {},
   "source": [
    "As mentioned earlier, the `model_fn` method is the same as the one provided in the training code and the `input_fn` and `output_fn` methods are very simple and your task will be to complete the `predict_fn` method. Make sure that you save the completed file as `predict.py` in the `serve` directory.\n",
    "\n",
    "**TODO**: Complete the `predict_fn()` method in the `serve/predict.py` file."
   ]
  },
  {
   "cell_type": "markdown",
   "metadata": {},
   "source": [
    "### Deploying the model\n",
    "\n",
    "Now that the custom inference code has been written, we will create and deploy our model. To begin with, we need to construct a new PyTorchModel object which points to the model artifacts created during training and also points to the inference code that we wish to use. Then we can call the deploy method to launch the deployment container.\n",
    "\n",
    "**NOTE**: The default behaviour for a deployed PyTorch model is to assume that any input passed to the predictor is a `numpy` array. In our case we want to send a string so we need to construct a simple wrapper around the `RealTimePredictor` class to accomodate simple strings. In a more complicated situation you may want to provide a serialization object, for example if you wanted to sent image data."
   ]
  },
  {
   "cell_type": "code",
   "execution_count": 198,
   "metadata": {},
   "outputs": [
    {
     "name": "stdout",
     "output_type": "stream",
     "text": [
      "----------------------------------------------------------------------------------------!"
     ]
    }
   ],
   "source": [
    "from sagemaker.predictor import RealTimePredictor\n",
    "from sagemaker.pytorch import PyTorchModel\n",
    "\n",
    "class StringPredictor(RealTimePredictor):\n",
    "    def __init__(self, endpoint_name, sagemaker_session):\n",
    "        super(StringPredictor, self).__init__(endpoint_name, sagemaker_session, content_type='text/plain')\n",
    "\n",
    "model = PyTorchModel(model_data=estimator.model_data,\n",
    "                     role = role,\n",
    "                     framework_version='0.4.0',\n",
    "                     entry_point='predict.py',\n",
    "                     source_dir='serve',\n",
    "                     predictor_cls=StringPredictor)\n",
    "predictor = model.deploy(initial_instance_count=1, instance_type='ml.m4.xlarge')"
   ]
  },
  {
   "cell_type": "markdown",
   "metadata": {},
   "source": [
    "### Testing the model\n",
    "\n",
    "Now that we have deployed our model with the custom inference code, we should test to see if everything is working. Here we test our model by loading the first `250` positive and negative reviews and send them to the endpoint, then collect the results. The reason for only sending some of the data is that the amount of time it takes for our model to process the input and then perform inference is quite long and so testing the entire data set would be prohibitive."
   ]
  },
  {
   "cell_type": "code",
   "execution_count": 199,
   "metadata": {},
   "outputs": [],
   "source": [
    "import glob\n",
    "\n",
    "def test_reviews(data_dir='../data/aclImdb', stop=250):\n",
    "    \n",
    "    results = []\n",
    "    ground = []\n",
    "    \n",
    "    # We make sure to test both positive and negative reviews    \n",
    "    for sentiment in ['pos', 'neg']:\n",
    "        \n",
    "        path = os.path.join(data_dir, 'test', sentiment, '*.txt')\n",
    "        files = glob.glob(path)\n",
    "        \n",
    "        files_read = 0\n",
    "        \n",
    "        print('Starting ', sentiment, ' files')\n",
    "        \n",
    "        # Iterate through the files and send them to the predictor\n",
    "        for f in files:\n",
    "            with open(f) as review:\n",
    "                # First, we store the ground truth (was the review positive or negative)\n",
    "                if sentiment == 'pos':\n",
    "                    ground.append(1)\n",
    "                else:\n",
    "                    ground.append(0)\n",
    "                # Read in the review and convert to 'utf-8' for transmission via HTTP\n",
    "                review_input = review.read().encode('utf-8')\n",
    "                # Send the review to the predictor and store the results\n",
    "                results.append(float(predictor.predict(review_input)))\n",
    "                \n",
    "            # Sending reviews to our endpoint one at a time takes a while so we\n",
    "            # only send a small number of reviews\n",
    "            files_read += 1\n",
    "            if files_read == stop:\n",
    "                break\n",
    "            \n",
    "    return ground, results"
   ]
  },
  {
   "cell_type": "code",
   "execution_count": 200,
   "metadata": {},
   "outputs": [
    {
     "name": "stdout",
     "output_type": "stream",
     "text": [
      "Starting  pos  files\n",
      "Starting  neg  files\n"
     ]
    }
   ],
   "source": [
    "ground, results = test_reviews()"
   ]
  },
  {
   "cell_type": "code",
   "execution_count": 201,
   "metadata": {},
   "outputs": [
    {
     "data": {
      "text/plain": [
       "0.842"
      ]
     },
     "execution_count": 201,
     "metadata": {},
     "output_type": "execute_result"
    }
   ],
   "source": [
    "from sklearn.metrics import accuracy_score\n",
    "accuracy_score(ground, results)"
   ]
  },
  {
   "cell_type": "markdown",
   "metadata": {},
   "source": [
    "As an additional test, we can try sending the `test_review` that we looked at earlier."
   ]
  },
  {
   "cell_type": "code",
   "execution_count": 188,
   "metadata": {},
   "outputs": [
    {
     "data": {
      "text/plain": [
       "b'1.0'"
      ]
     },
     "execution_count": 188,
     "metadata": {},
     "output_type": "execute_result"
    }
   ],
   "source": [
    "predictor.predict(test_review)"
   ]
  },
  {
   "cell_type": "markdown",
   "metadata": {},
   "source": [
    "Now that we know our endpoint is working as expected, we can set up the web page that will interact with it. If you don't have time to finish the project now, make sure to skip down to the end of this notebook and shut down your endpoint. You can deploy it again when you come back."
   ]
  },
  {
   "cell_type": "markdown",
   "metadata": {},
   "source": [
    "## Step 7 (again): Use the model for the web app\n",
    "\n",
    "> **TODO:** This entire section and the next contain tasks for you to complete, mostly using the AWS console.\n",
    "\n",
    "So far we have been accessing our model endpoint by constructing a predictor object which uses the endpoint and then just using the predictor object to perform inference. What if we wanted to create a web app which accessed our model? The way things are set up currently makes that not possible since in order to access a SageMaker endpoint the app would first have to authenticate with AWS using an IAM role which included access to SageMaker endpoints. However, there is an easier way! We just need to use some additional AWS services.\n",
    "\n",
    "<img src=\"Web App Diagram.svg\">\n",
    "\n",
    "The diagram above gives an overview of how the various services will work together. On the far right is the model which we trained above and which is deployed using SageMaker. On the far left is our web app that collects a user's movie review, sends it off and expects a positive or negative sentiment in return.\n",
    "\n",
    "In the middle is where some of the magic happens. We will construct a Lambda function, which you can think of as a straightforward Python function that can be executed whenever a specified event occurs. We will give this function permission to send and recieve data from a SageMaker endpoint.\n",
    "\n",
    "Lastly, the method we will use to execute the Lambda function is a new endpoint that we will create using API Gateway. This endpoint will be a url that listens for data to be sent to it. Once it gets some data it will pass that data on to the Lambda function and then return whatever the Lambda function returns. Essentially it will act as an interface that lets our web app communicate with the Lambda function.\n",
    "\n",
    "### Setting up a Lambda function\n",
    "\n",
    "The first thing we are going to do is set up a Lambda function. This Lambda function will be executed whenever our public API has data sent to it. When it is executed it will receive the data, perform any sort of processing that is required, send the data (the review) to the SageMaker endpoint we've created and then return the result.\n",
    "\n",
    "#### Part A: Create an IAM Role for the Lambda function\n",
    "\n",
    "Since we want the Lambda function to call a SageMaker endpoint, we need to make sure that it has permission to do so. To do this, we will construct a role that we can later give the Lambda function.\n",
    "\n",
    "Using the AWS Console, navigate to the **IAM** page and click on **Roles**. Then, click on **Create role**. Make sure that the **AWS service** is the type of trusted entity selected and choose **Lambda** as the service that will use this role, then click **Next: Permissions**.\n",
    "\n",
    "In the search box type `sagemaker` and select the check box next to the **AmazonSageMakerFullAccess** policy. Then, click on **Next: Review**.\n",
    "\n",
    "Lastly, give this role a name. Make sure you use a name that you will remember later on, for example `LambdaSageMakerRole`. Then, click on **Create role**.\n",
    "\n",
    "#### Part B: Create a Lambda function\n",
    "\n",
    "Now it is time to actually create the Lambda function.\n",
    "\n",
    "Using the AWS Console, navigate to the AWS Lambda page and click on **Create a function**. When you get to the next page, make sure that **Author from scratch** is selected. Now, name your Lambda function, using a name that you will remember later on, for example `sentiment_analysis_func`. Make sure that the **Python 3.6** runtime is selected and then choose the role that you created in the previous part. Then, click on **Create Function**.\n",
    "\n",
    "On the next page you will see some information about the Lambda function you've just created. If you scroll down you should see an editor in which you can write the code that will be executed when your Lambda function is triggered. In our example, we will use the code below. \n",
    "\n",
    "```python\n",
    "# We need to use the low-level library to interact with SageMaker since the SageMaker API\n",
    "# is not available natively through Lambda.\n",
    "import boto3\n",
    "\n",
    "def lambda_handler(event, context):\n",
    "\n",
    "    # The SageMaker runtime is what allows us to invoke the endpoint that we've created.\n",
    "    runtime = boto3.Session().client('sagemaker-runtime')\n",
    "\n",
    "    # Now we use the SageMaker runtime to invoke our endpoint, sending the review we were given\n",
    "    response = runtime.invoke_endpoint(EndpointName = '**ENDPOINT NAME HERE**',    # The name of the endpoint we created\n",
    "                                       ContentType = 'text/plain',                 # The data format that is expected\n",
    "                                       Body = event['body'])                       # The actual review\n",
    "\n",
    "    # The response is an HTTP response whose body contains the result of our inference\n",
    "    result = response['Body'].read().decode('utf-8')\n",
    "\n",
    "    return {\n",
    "        'statusCode' : 200,\n",
    "        'headers' : { 'Content-Type' : 'text/plain', 'Access-Control-Allow-Origin' : '*' },\n",
    "        'body' : result\n",
    "    }\n",
    "```\n",
    "\n",
    "Once you have copy and pasted the code above into the Lambda code editor, replace the `**ENDPOINT NAME HERE**` portion with the name of the endpoint that we deployed earlier. You can determine the name of the endpoint using the code cell below."
   ]
  },
  {
   "cell_type": "code",
   "execution_count": 202,
   "metadata": {},
   "outputs": [
    {
     "data": {
      "text/plain": [
       "'sagemaker-pytorch-2019-08-12-21-26-51-759'"
      ]
     },
     "execution_count": 202,
     "metadata": {},
     "output_type": "execute_result"
    }
   ],
   "source": [
    "predictor.endpoint"
   ]
  },
  {
   "cell_type": "markdown",
   "metadata": {},
   "source": [
    "Once you have added the endpoint name to the Lambda function, click on **Save**. Your Lambda function is now up and running. Next we need to create a way for our web app to execute the Lambda function.\n",
    "\n",
    "### Setting up API Gateway\n",
    "\n",
    "Now that our Lambda function is set up, it is time to create a new API using API Gateway that will trigger the Lambda function we have just created.\n",
    "\n",
    "Using AWS Console, navigate to **Amazon API Gateway** and then click on **Get started**.\n",
    "\n",
    "On the next page, make sure that **New API** is selected and give the new api a name, for example, `sentiment_analysis_api`. Then, click on **Create API**.\n",
    "\n",
    "Now we have created an API, however it doesn't currently do anything. What we want it to do is to trigger the Lambda function that we created earlier.\n",
    "\n",
    "Select the **Actions** dropdown menu and click **Create Method**. A new blank method will be created, select its dropdown menu and select **POST**, then click on the check mark beside it.\n",
    "\n",
    "For the integration point, make sure that **Lambda Function** is selected and click on the **Use Lambda Proxy integration**. This option makes sure that the data that is sent to the API is then sent directly to the Lambda function with no processing. It also means that the return value must be a proper response object as it will also not be processed by API Gateway.\n",
    "\n",
    "Type the name of the Lambda function you created earlier into the **Lambda Function** text entry box and then click on **Save**. Click on **OK** in the pop-up box that then appears, giving permission to API Gateway to invoke the Lambda function you created.\n",
    "\n",
    "The last step in creating the API Gateway is to select the **Actions** dropdown and click on **Deploy API**. You will need to create a new Deployment stage and name it anything you like, for example `prod`.\n",
    "\n",
    "You have now successfully set up a public API to access your SageMaker model. Make sure to copy or write down the URL provided to invoke your newly created public API as this will be needed in the next step. This URL can be found at the top of the page, highlighted in blue next to the text **Invoke URL**."
   ]
  },
  {
   "cell_type": "markdown",
   "metadata": {},
   "source": [
    "## Step 4: Deploying our web app\n",
    "\n",
    "Now that we have a publicly available API, we can start using it in a web app. For our purposes, we have provided a simple static html file which can make use of the public api you created earlier.\n",
    "\n",
    "In the `website` folder there should be a file called `index.html`. Download the file to your computer and open that file up in a text editor of your choice. There should be a line which contains **\\*\\*REPLACE WITH PUBLIC API URL\\*\\***. Replace this string with the url that you wrote down in the last step and then save the file.\n",
    "\n",
    "Now, if you open `index.html` on your local computer, your browser will behave as a local web server and you can use the provided site to interact with your SageMaker model.\n",
    "\n",
    "If you'd like to go further, you can host this html file anywhere you'd like, for example using github or hosting a static site on Amazon's S3. Once you have done this you can share the link with anyone you'd like and have them play with it too!\n",
    "\n",
    "> **Important Note** In order for the web app to communicate with the SageMaker endpoint, the endpoint has to actually be deployed and running. This means that you are paying for it. Make sure that the endpoint is running when you want to use the web app but that you shut it down when you don't need it, otherwise you will end up with a surprisingly large AWS bill.\n",
    "\n",
    "**TODO:** Make sure that you include the edited `index.html` file in your project submission."
   ]
  },
  {
   "cell_type": "markdown",
   "metadata": {},
   "source": [
    "Now that your web app is working, trying playing around with it and see how well it works.\n",
    "\n",
    "**Question**: Give an example of a review that you entered into your web app. What was the predicted sentiment of your example review?"
   ]
  },
  {
   "cell_type": "markdown",
   "metadata": {},
   "source": [
    "**Answer:** \"House, M.D.\" is one of the most cleverly written shows I have ever watched. This is coming from a big \"M.A.S.H.\" fan. Hugh Laurie does tend to carry the show, but the supporting actors help bring out the various layers of House's personality. The sarcasm is somewhat of a front for his pain (I'm guessing both physical and emotional). Not that I'm complaining! His sarcasm is one of the reasons I watch the show. Not an episode goes by that fails to make me laugh out loud. Not just a little giggle. One of those great big belly laughs! You can't help but think, \"That was so awful! HE'S so awful! But I love him!\"\n",
    "\n",
    "Yes, the plot is predictable. As my boyfriend says, \"Do you think that maybe this week someone will have a disease and they'll have a hard time figuring out what it is and then they'll finally figure it out and save them (or not)?\" But I don't care. I love the show, I love Hugh Laurie, and I give a great big two thumbs up to both! Of course, being a good show it will be canceled after one season because the brain-dead morons who make shows like \"Survivor\" popular won't be able to wrap their little heads around something so clever. But I'll enjoy it while it lasts.\" \n",
    "- Pulled from IMBD review for \"House MD\" (which may also be my favourite show)\n",
    "\n",
    "This review was predicted positive. I entered this through the browser interface."
   ]
  },
  {
   "cell_type": "code",
   "execution_count": null,
   "metadata": {},
   "outputs": [],
   "source": []
  },
  {
   "cell_type": "markdown",
   "metadata": {},
   "source": [
    "### Delete the endpoint\n",
    "\n",
    "Remember to always shut down your endpoint if you are no longer using it. You are charged for the length of time that the endpoint is running so if you forget and leave it on you could end up with an unexpectedly large bill."
   ]
  },
  {
   "cell_type": "code",
   "execution_count": 203,
   "metadata": {},
   "outputs": [],
   "source": [
    "predictor.delete_endpoint()"
   ]
  },
  {
   "cell_type": "code",
   "execution_count": null,
   "metadata": {},
   "outputs": [],
   "source": []
  }
 ],
 "metadata": {
  "kernelspec": {
   "display_name": "conda_pytorch_p36",
   "language": "python",
   "name": "conda_pytorch_p36"
  },
  "language_info": {
   "codemirror_mode": {
    "name": "ipython",
    "version": 3
   },
   "file_extension": ".py",
   "mimetype": "text/x-python",
   "name": "python",
   "nbconvert_exporter": "python",
   "pygments_lexer": "ipython3",
   "version": "3.6.5"
  }
 },
 "nbformat": 4,
 "nbformat_minor": 2
}
